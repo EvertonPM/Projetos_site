{
 "cells": [
  {
   "cell_type": "markdown",
   "id": "7af33eaf-0acd-4ac7-9b08-83c0df241664",
   "metadata": {},
   "source": [
    "## Análise de Sentimento em Avaliações de Usuários"
   ]
  },
  {
   "cell_type": "code",
   "execution_count": 1,
   "id": "3b6b2bd4-b3db-47bf-8cb4-1bda7036e48a",
   "metadata": {},
   "outputs": [],
   "source": [
    "# Imports\n",
    "import re\n",
    "import pickle\n",
    "import nltk\n",
    "import sklearn\n",
    "import numpy as np\n",
    "import pandas as pd\n",
    "from nltk.corpus import stopwords\n",
    "from nltk.tokenize import word_tokenize\n",
    "from nltk.stem import SnowballStemmer\n",
    "from sklearn.feature_extraction.text import CountVectorizer\n",
    "from sklearn.model_selection import train_test_split\n",
    "from sklearn.naive_bayes import GaussianNB, MultinomialNB, BernoulliNB\n",
    "from sklearn.metrics import accuracy_score"
   ]
  },
  {
   "cell_type": "code",
   "execution_count": 2,
   "id": "52ad9794-f586-4ec1-8191-433918fe7cfa",
   "metadata": {},
   "outputs": [],
   "source": [
    "# Carrega o dataset\n",
    "dados = pd.read_csv('dataset.csv')"
   ]
  },
  {
   "cell_type": "code",
   "execution_count": 3,
   "id": "1e594266-0fcd-4220-90aa-90730f1f473f",
   "metadata": {},
   "outputs": [
    {
     "data": {
      "text/plain": [
       "(50000, 2)"
      ]
     },
     "execution_count": 3,
     "metadata": {},
     "output_type": "execute_result"
    }
   ],
   "source": [
    "# Corpo\n",
    "dados.shape"
   ]
  },
  {
   "cell_type": "code",
   "execution_count": 4,
   "id": "548e34af-9189-4701-ae70-cc6539e95546",
   "metadata": {},
   "outputs": [
    {
     "data": {
      "text/html": [
       "<div>\n",
       "<style scoped>\n",
       "    .dataframe tbody tr th:only-of-type {\n",
       "        vertical-align: middle;\n",
       "    }\n",
       "\n",
       "    .dataframe tbody tr th {\n",
       "        vertical-align: top;\n",
       "    }\n",
       "\n",
       "    .dataframe thead th {\n",
       "        text-align: right;\n",
       "    }\n",
       "</style>\n",
       "<table border=\"1\" class=\"dataframe\">\n",
       "  <thead>\n",
       "    <tr style=\"text-align: right;\">\n",
       "      <th></th>\n",
       "      <th>review</th>\n",
       "      <th>sentiment</th>\n",
       "    </tr>\n",
       "  </thead>\n",
       "  <tbody>\n",
       "    <tr>\n",
       "      <th>0</th>\n",
       "      <td>One of the other reviewers has mentioned that ...</td>\n",
       "      <td>positive</td>\n",
       "    </tr>\n",
       "    <tr>\n",
       "      <th>1</th>\n",
       "      <td>A wonderful little production. &lt;br /&gt;&lt;br /&gt;The...</td>\n",
       "      <td>positive</td>\n",
       "    </tr>\n",
       "    <tr>\n",
       "      <th>2</th>\n",
       "      <td>I thought this was a wonderful way to spend ti...</td>\n",
       "      <td>positive</td>\n",
       "    </tr>\n",
       "    <tr>\n",
       "      <th>3</th>\n",
       "      <td>Basically there's a family where a little boy ...</td>\n",
       "      <td>negative</td>\n",
       "    </tr>\n",
       "    <tr>\n",
       "      <th>4</th>\n",
       "      <td>Petter Mattei's \"Love in the Time of Money\" is...</td>\n",
       "      <td>positive</td>\n",
       "    </tr>\n",
       "  </tbody>\n",
       "</table>\n",
       "</div>"
      ],
      "text/plain": [
       "                                              review sentiment\n",
       "0  One of the other reviewers has mentioned that ...  positive\n",
       "1  A wonderful little production. <br /><br />The...  positive\n",
       "2  I thought this was a wonderful way to spend ti...  positive\n",
       "3  Basically there's a family where a little boy ...  negative\n",
       "4  Petter Mattei's \"Love in the Time of Money\" is...  positive"
      ]
     },
     "execution_count": 4,
     "metadata": {},
     "output_type": "execute_result"
    }
   ],
   "source": [
    "# Amostra dos dados\n",
    "dados.head()"
   ]
  },
  {
   "cell_type": "code",
   "execution_count": 5,
   "id": "20f8f93c-422d-491e-8518-47c241f72c7e",
   "metadata": {},
   "outputs": [
    {
     "name": "stdout",
     "output_type": "stream",
     "text": [
      "<class 'pandas.core.frame.DataFrame'>\n",
      "RangeIndex: 50000 entries, 0 to 49999\n",
      "Data columns (total 2 columns):\n",
      " #   Column     Non-Null Count  Dtype \n",
      "---  ------     --------------  ----- \n",
      " 0   review     50000 non-null  object\n",
      " 1   sentiment  50000 non-null  object\n",
      "dtypes: object(2)\n",
      "memory usage: 781.4+ KB\n"
     ]
    }
   ],
   "source": [
    "# Info\n",
    "dados.info()"
   ]
  },
  {
   "cell_type": "code",
   "execution_count": 6,
   "id": "a28bc0db-5765-4c86-9ccf-d49fd523d9a1",
   "metadata": {},
   "outputs": [
    {
     "data": {
      "text/plain": [
       "sentiment\n",
       "positive    25000\n",
       "negative    25000\n",
       "Name: count, dtype: int64"
      ]
     },
     "execution_count": 6,
     "metadata": {},
     "output_type": "execute_result"
    }
   ],
   "source": [
    "# Contagem de registros por classe\n",
    "dados.sentiment.value_counts()"
   ]
  },
  {
   "cell_type": "markdown",
   "id": "8a6b36c7-935b-449b-8245-dde028e6d472",
   "metadata": {},
   "source": [
    "## Limpeza dos Dados"
   ]
  },
  {
   "cell_type": "code",
   "execution_count": 7,
   "id": "23520c6f-f4d7-4b9b-b2d8-7d6a035ab4d5",
   "metadata": {},
   "outputs": [
    {
     "name": "stderr",
     "output_type": "stream",
     "text": [
      "/tmp/ipykernel_13827/3288419048.py:2: FutureWarning: A value is trying to be set on a copy of a DataFrame or Series through chained assignment using an inplace method.\n",
      "The behavior will change in pandas 3.0. This inplace method will never work because the intermediate object on which we are setting values always behaves as a copy.\n",
      "\n",
      "For example, when doing 'df[col].method(value, inplace=True)', try using 'df.method({col: value}, inplace=True)' or df[col] = df[col].method(value) instead, to perform the operation inplace on the original object.\n",
      "\n",
      "\n",
      "  dados.sentiment.replace('positive', 1, inplace = True)\n",
      "/tmp/ipykernel_13827/3288419048.py:3: FutureWarning: A value is trying to be set on a copy of a DataFrame or Series through chained assignment using an inplace method.\n",
      "The behavior will change in pandas 3.0. This inplace method will never work because the intermediate object on which we are setting values always behaves as a copy.\n",
      "\n",
      "For example, when doing 'df[col].method(value, inplace=True)', try using 'df.method({col: value}, inplace=True)' or df[col] = df[col].method(value) instead, to perform the operation inplace on the original object.\n",
      "\n",
      "\n",
      "  dados.sentiment.replace('negative', 0, inplace = True)\n",
      "/tmp/ipykernel_13827/3288419048.py:3: FutureWarning: Downcasting behavior in `replace` is deprecated and will be removed in a future version. To retain the old behavior, explicitly call `result.infer_objects(copy=False)`. To opt-in to the future behavior, set `pd.set_option('future.no_silent_downcasting', True)`\n",
      "  dados.sentiment.replace('negative', 0, inplace = True)\n"
     ]
    }
   ],
   "source": [
    "# Ajustamos os labels para representação numérica\n",
    "dados.sentiment.replace('positive', 1, inplace = True)\n",
    "dados.sentiment.replace('negative', 0, inplace = True)"
   ]
  },
  {
   "cell_type": "code",
   "execution_count": 8,
   "id": "2db25ff4-c949-40e8-89d6-70f96eb15ab2",
   "metadata": {},
   "outputs": [
    {
     "data": {
      "text/html": [
       "<div>\n",
       "<style scoped>\n",
       "    .dataframe tbody tr th:only-of-type {\n",
       "        vertical-align: middle;\n",
       "    }\n",
       "\n",
       "    .dataframe tbody tr th {\n",
       "        vertical-align: top;\n",
       "    }\n",
       "\n",
       "    .dataframe thead th {\n",
       "        text-align: right;\n",
       "    }\n",
       "</style>\n",
       "<table border=\"1\" class=\"dataframe\">\n",
       "  <thead>\n",
       "    <tr style=\"text-align: right;\">\n",
       "      <th></th>\n",
       "      <th>review</th>\n",
       "      <th>sentiment</th>\n",
       "    </tr>\n",
       "  </thead>\n",
       "  <tbody>\n",
       "    <tr>\n",
       "      <th>0</th>\n",
       "      <td>One of the other reviewers has mentioned that ...</td>\n",
       "      <td>1</td>\n",
       "    </tr>\n",
       "    <tr>\n",
       "      <th>1</th>\n",
       "      <td>A wonderful little production. &lt;br /&gt;&lt;br /&gt;The...</td>\n",
       "      <td>1</td>\n",
       "    </tr>\n",
       "    <tr>\n",
       "      <th>2</th>\n",
       "      <td>I thought this was a wonderful way to spend ti...</td>\n",
       "      <td>1</td>\n",
       "    </tr>\n",
       "    <tr>\n",
       "      <th>3</th>\n",
       "      <td>Basically there's a family where a little boy ...</td>\n",
       "      <td>0</td>\n",
       "    </tr>\n",
       "    <tr>\n",
       "      <th>4</th>\n",
       "      <td>Petter Mattei's \"Love in the Time of Money\" is...</td>\n",
       "      <td>1</td>\n",
       "    </tr>\n",
       "  </tbody>\n",
       "</table>\n",
       "</div>"
      ],
      "text/plain": [
       "                                              review  sentiment\n",
       "0  One of the other reviewers has mentioned that ...          1\n",
       "1  A wonderful little production. <br /><br />The...          1\n",
       "2  I thought this was a wonderful way to spend ti...          1\n",
       "3  Basically there's a family where a little boy ...          0\n",
       "4  Petter Mattei's \"Love in the Time of Money\" is...          1"
      ]
     },
     "execution_count": 8,
     "metadata": {},
     "output_type": "execute_result"
    }
   ],
   "source": [
    "# Amostra dos dados\n",
    "dados.head()"
   ]
  },
  {
   "cell_type": "code",
   "execution_count": 9,
   "id": "bb9668e5-a3a1-4056-8481-aec104f4203a",
   "metadata": {},
   "outputs": [
    {
     "data": {
      "text/plain": [
       "\"One of the other reviewers has mentioned that after watching just 1 Oz episode you'll be hooked. They are right, as this is exactly what happened with me.<br /><br />The first thing that struck me about Oz was its brutality and unflinching scenes of violence, which set in right from the word GO. Trust me, this is not a show for the faint hearted or timid. This show pulls no punches with regards to drugs, sex or violence. Its is hardcore, in the classic use of the word.<br /><br />It is called OZ as that is the nickname given to the Oswald Maximum Security State Penitentary. It focuses mainly on Emerald City, an experimental section of the prison where all the cells have glass fronts and face inwards, so privacy is not high on the agenda. Em City is home to many..Aryans, Muslims, gangstas, Latinos, Christians, Italians, Irish and more....so scuffles, death stares, dodgy dealings and shady agreements are never far away.<br /><br />I would say the main appeal of the show is due to the fact that it goes where other shows wouldn't dare. Forget pretty pictures painted for mainstream audiences, forget charm, forget romance...OZ doesn't mess around. The first episode I ever saw struck me as so nasty it was surreal, I couldn't say I was ready for it, but as I watched more, I developed a taste for Oz, and got accustomed to the high levels of graphic violence. Not just violence, but injustice (crooked guards who'll be sold out for a nickel, inmates who'll kill on order and get away with it, well mannered, middle class inmates being turned into prison bitches due to their lack of street skills or prison experience) Watching Oz, you may become comfortable with what is uncomfortable viewing....thats if you can get in touch with your darker side.\""
      ]
     },
     "execution_count": 9,
     "metadata": {},
     "output_type": "execute_result"
    }
   ],
   "source": [
    "# Vamos observar uma avaliação de usuário\n",
    "dados.review[0]"
   ]
  },
  {
   "cell_type": "code",
   "execution_count": 10,
   "id": "92b84f7a-47b3-4a9f-a457-358d0d42bd32",
   "metadata": {},
   "outputs": [],
   "source": [
    "# Função de limpeza geral de dados\n",
    "def limpa_dados(texto):\n",
    "    cleaned = re.compile(r'<.*?>') \n",
    "    return re.sub(cleaned, '', texto)"
   ]
  },
  {
   "cell_type": "code",
   "execution_count": 11,
   "id": "60834b2f-ad26-4a43-a96a-074163f75cdd",
   "metadata": {},
   "outputs": [
    {
     "name": "stdout",
     "output_type": "stream",
     "text": [
      "Este é um exemplo com tags HTML.\n"
     ]
    }
   ],
   "source": [
    "# Testando a função\n",
    "texto_com_tags = \"<p>Este é um exemplo <b>com</b> tags HTML.</p>\"\n",
    "texto_limpo = limpa_dados(texto_com_tags)\n",
    "print(texto_limpo) "
   ]
  },
  {
   "cell_type": "code",
   "execution_count": 12,
   "id": "ad811d9b-7faa-46ff-b818-e3d5dc3cba27",
   "metadata": {},
   "outputs": [],
   "source": [
    "# Aplica a função ao nosso dataset\n",
    "dados.review = dados.review.apply(limpa_dados)"
   ]
  },
  {
   "cell_type": "code",
   "execution_count": 13,
   "id": "5415c003-96ff-418e-aea9-629596ac2805",
   "metadata": {},
   "outputs": [
    {
     "data": {
      "text/plain": [
       "\"One of the other reviewers has mentioned that after watching just 1 Oz episode you'll be hooked. They are right, as this is exactly what happened with me.The first thing that struck me about Oz was its brutality and unflinching scenes of violence, which set in right from the word GO. Trust me, this is not a show for the faint hearted or timid. This show pulls no punches with regards to drugs, sex or violence. Its is hardcore, in the classic use of the word.It is called OZ as that is the nickname given to the Oswald Maximum Security State Penitentary. It focuses mainly on Emerald City, an experimental section of the prison where all the cells have glass fronts and face inwards, so privacy is not high on the agenda. Em City is home to many..Aryans, Muslims, gangstas, Latinos, Christians, Italians, Irish and more....so scuffles, death stares, dodgy dealings and shady agreements are never far away.I would say the main appeal of the show is due to the fact that it goes where other shows wouldn't dare. Forget pretty pictures painted for mainstream audiences, forget charm, forget romance...OZ doesn't mess around. The first episode I ever saw struck me as so nasty it was surreal, I couldn't say I was ready for it, but as I watched more, I developed a taste for Oz, and got accustomed to the high levels of graphic violence. Not just violence, but injustice (crooked guards who'll be sold out for a nickel, inmates who'll kill on order and get away with it, well mannered, middle class inmates being turned into prison bitches due to their lack of street skills or prison experience) Watching Oz, you may become comfortable with what is uncomfortable viewing....thats if you can get in touch with your darker side.\""
      ]
     },
     "execution_count": 13,
     "metadata": {},
     "output_type": "execute_result"
    }
   ],
   "source": [
    "dados.review[0]"
   ]
  },
  {
   "cell_type": "code",
   "execution_count": 14,
   "id": "1d63b481-8522-421e-bf90-5f7ee42b2bfb",
   "metadata": {},
   "outputs": [],
   "source": [
    "# Função para limpeza de caracteres especiais\n",
    "def limpa_caracter_especial(texto):\n",
    "    rem = ''\n",
    "    for i in texto:\n",
    "        if i.isalnum():\n",
    "            rem = rem + i\n",
    "        else:\n",
    "            rem = rem + ' '\n",
    "            \n",
    "    return rem"
   ]
  },
  {
   "cell_type": "code",
   "execution_count": 15,
   "id": "6df91d52-c192-47ca-8d9d-25b2bd5a976a",
   "metadata": {},
   "outputs": [
    {
     "name": "stdout",
     "output_type": "stream",
     "text": [
      "Olá  mundo  Como vai \n"
     ]
    }
   ],
   "source": [
    "# Testando a função\n",
    "texto_com_caracteres_especiais = \"Olá, mundo! Como vai?\"\n",
    "texto_limpo = limpa_caracter_especial(texto_com_caracteres_especiais)\n",
    "print(texto_limpo)"
   ]
  },
  {
   "cell_type": "code",
   "execution_count": 16,
   "id": "45f15ce2-ad05-475f-92a9-70a163a781da",
   "metadata": {},
   "outputs": [],
   "source": [
    "# Aplica a função\n",
    "dados.review = dados.review.apply(limpa_caracter_especial)"
   ]
  },
  {
   "cell_type": "code",
   "execution_count": 17,
   "id": "e9c13fb1-ffee-4182-a7c8-399632650b7d",
   "metadata": {},
   "outputs": [
    {
     "data": {
      "text/plain": [
       "'One of the other reviewers has mentioned that after watching just 1 Oz episode you ll be hooked  They are right  as this is exactly what happened with me The first thing that struck me about Oz was its brutality and unflinching scenes of violence  which set in right from the word GO  Trust me  this is not a show for the faint hearted or timid  This show pulls no punches with regards to drugs  sex or violence  Its is hardcore  in the classic use of the word It is called OZ as that is the nickname given to the Oswald Maximum Security State Penitentary  It focuses mainly on Emerald City  an experimental section of the prison where all the cells have glass fronts and face inwards  so privacy is not high on the agenda  Em City is home to many  Aryans  Muslims  gangstas  Latinos  Christians  Italians  Irish and more    so scuffles  death stares  dodgy dealings and shady agreements are never far away I would say the main appeal of the show is due to the fact that it goes where other shows wouldn t dare  Forget pretty pictures painted for mainstream audiences  forget charm  forget romance   OZ doesn t mess around  The first episode I ever saw struck me as so nasty it was surreal  I couldn t say I was ready for it  but as I watched more  I developed a taste for Oz  and got accustomed to the high levels of graphic violence  Not just violence  but injustice  crooked guards who ll be sold out for a nickel  inmates who ll kill on order and get away with it  well mannered  middle class inmates being turned into prison bitches due to their lack of street skills or prison experience  Watching Oz  you may become comfortable with what is uncomfortable viewing    thats if you can get in touch with your darker side '"
      ]
     },
     "execution_count": 17,
     "metadata": {},
     "output_type": "execute_result"
    }
   ],
   "source": [
    "dados.review[0]"
   ]
  },
  {
   "cell_type": "code",
   "execution_count": 18,
   "id": "f7e93cee-b533-4378-b4ff-0372c1a94241",
   "metadata": {},
   "outputs": [],
   "source": [
    "# Função para converter o texto em minúsculo\n",
    "def converte_minusculo(texto):\n",
    "    return texto.lower()"
   ]
  },
  {
   "cell_type": "code",
   "execution_count": 19,
   "id": "c911a47d-e9a0-4d44-a1b5-15867e6ad034",
   "metadata": {},
   "outputs": [
    {
     "name": "stdout",
     "output_type": "stream",
     "text": [
      "esta é uma frase com letras maiúsculas\n"
     ]
    }
   ],
   "source": [
    "# Testando a função\n",
    "frase = \"Esta é uma fraSE com LETRAS MaiúscuLAs\"\n",
    "frase_saida = converte_minusculo(frase)\n",
    "print(frase_saida)"
   ]
  },
  {
   "cell_type": "code",
   "execution_count": 20,
   "id": "b595f064-6a0c-4f88-aa29-b3cc86a762c7",
   "metadata": {},
   "outputs": [],
   "source": [
    "# Aplica a função\n",
    "dados.review = dados.review .apply(converte_minusculo)"
   ]
  },
  {
   "cell_type": "code",
   "execution_count": 21,
   "id": "765fc0e6-3e74-465f-9e34-36d7cc3eeaff",
   "metadata": {},
   "outputs": [
    {
     "data": {
      "text/plain": [
       "'one of the other reviewers has mentioned that after watching just 1 oz episode you ll be hooked  they are right  as this is exactly what happened with me the first thing that struck me about oz was its brutality and unflinching scenes of violence  which set in right from the word go  trust me  this is not a show for the faint hearted or timid  this show pulls no punches with regards to drugs  sex or violence  its is hardcore  in the classic use of the word it is called oz as that is the nickname given to the oswald maximum security state penitentary  it focuses mainly on emerald city  an experimental section of the prison where all the cells have glass fronts and face inwards  so privacy is not high on the agenda  em city is home to many  aryans  muslims  gangstas  latinos  christians  italians  irish and more    so scuffles  death stares  dodgy dealings and shady agreements are never far away i would say the main appeal of the show is due to the fact that it goes where other shows wouldn t dare  forget pretty pictures painted for mainstream audiences  forget charm  forget romance   oz doesn t mess around  the first episode i ever saw struck me as so nasty it was surreal  i couldn t say i was ready for it  but as i watched more  i developed a taste for oz  and got accustomed to the high levels of graphic violence  not just violence  but injustice  crooked guards who ll be sold out for a nickel  inmates who ll kill on order and get away with it  well mannered  middle class inmates being turned into prison bitches due to their lack of street skills or prison experience  watching oz  you may become comfortable with what is uncomfortable viewing    thats if you can get in touch with your darker side '"
      ]
     },
     "execution_count": 21,
     "metadata": {},
     "output_type": "execute_result"
    }
   ],
   "source": [
    "dados.review[0]"
   ]
  },
  {
   "cell_type": "code",
   "execution_count": 22,
   "id": "98fa81cd-f088-42fc-b8be-9596b25f5413",
   "metadata": {},
   "outputs": [
    {
     "name": "stderr",
     "output_type": "stream",
     "text": [
      "[nltk_data] Downloading package punkt to /home/everton/nltk_data...\n",
      "[nltk_data]   Package punkt is already up-to-date!\n",
      "[nltk_data] Downloading package stopwords to\n",
      "[nltk_data]     /home/everton/nltk_data...\n",
      "[nltk_data]   Package stopwords is already up-to-date!\n"
     ]
    },
    {
     "data": {
      "text/plain": [
       "True"
      ]
     },
     "execution_count": 22,
     "metadata": {},
     "output_type": "execute_result"
    }
   ],
   "source": [
    "nltk.download('punkt')\n",
    "nltk.download('stopwords')"
   ]
  },
  {
   "cell_type": "code",
   "execution_count": 23,
   "id": "a6d05f64-3fb6-435a-8a1f-11b3feb3e0c4",
   "metadata": {},
   "outputs": [],
   "source": [
    "# Função para remover stopwords\n",
    "def remove_stopwords(texto):\n",
    "    stop_words = set(stopwords.words('english'))\n",
    "    words = word_tokenize(str(texto))\n",
    "    return [w for w in words if w not in stop_words]"
   ]
  },
  {
   "cell_type": "code",
   "execution_count": 24,
   "id": "053fabd8-34fe-45bf-823f-1182d3eb31f3",
   "metadata": {},
   "outputs": [
    {
     "name": "stderr",
     "output_type": "stream",
     "text": [
      "[nltk_data] Downloading package punkt_tab to\n",
      "[nltk_data]     /home/everton/nltk_data...\n",
      "[nltk_data]   Package punkt_tab is already up-to-date!\n"
     ]
    },
    {
     "data": {
      "text/plain": [
       "True"
      ]
     },
     "execution_count": 24,
     "metadata": {},
     "output_type": "execute_result"
    }
   ],
   "source": [
    " import nltk\n",
    " nltk.download('punkt_tab')"
   ]
  },
  {
   "cell_type": "code",
   "execution_count": 25,
   "id": "ccb936b9-7278-4748-8a63-e0d489841377",
   "metadata": {},
   "outputs": [
    {
     "name": "stdout",
     "output_type": "stream",
     "text": [
      "['They', 'right', ',', 'exactly', 'happened', '.']\n"
     ]
    }
   ],
   "source": [
    "# Testando a função\n",
    "frase =  \"They are right, as this is exactly what happened with me.\"\n",
    "frase_saida = remove_stopwords(frase)\n",
    "print(frase_saida)"
   ]
  },
  {
   "cell_type": "code",
   "execution_count": 26,
   "id": "79d8f281-1e2b-40d4-967d-7b9b2893c1c0",
   "metadata": {},
   "outputs": [
    {
     "name": "stdout",
     "output_type": "stream",
     "text": [
      "CPU times: user 37.6 s, sys: 781 ms, total: 38.4 s\n",
      "Wall time: 38.4 s\n"
     ]
    }
   ],
   "source": [
    "%%time\n",
    "dados.review = dados.review.apply(remove_stopwords)"
   ]
  },
  {
   "cell_type": "code",
   "execution_count": 27,
   "id": "c7f8a9ea-8b1d-4918-85d7-2fb50240f171",
   "metadata": {},
   "outputs": [
    {
     "data": {
      "text/plain": [
       "['one',\n",
       " 'reviewers',\n",
       " 'mentioned',\n",
       " 'watching',\n",
       " '1',\n",
       " 'oz',\n",
       " 'episode',\n",
       " 'hooked',\n",
       " 'right',\n",
       " 'exactly',\n",
       " 'happened',\n",
       " 'first',\n",
       " 'thing',\n",
       " 'struck',\n",
       " 'oz',\n",
       " 'brutality',\n",
       " 'unflinching',\n",
       " 'scenes',\n",
       " 'violence',\n",
       " 'set',\n",
       " 'right',\n",
       " 'word',\n",
       " 'go',\n",
       " 'trust',\n",
       " 'show',\n",
       " 'faint',\n",
       " 'hearted',\n",
       " 'timid',\n",
       " 'show',\n",
       " 'pulls',\n",
       " 'punches',\n",
       " 'regards',\n",
       " 'drugs',\n",
       " 'sex',\n",
       " 'violence',\n",
       " 'hardcore',\n",
       " 'classic',\n",
       " 'use',\n",
       " 'word',\n",
       " 'called',\n",
       " 'oz',\n",
       " 'nickname',\n",
       " 'given',\n",
       " 'oswald',\n",
       " 'maximum',\n",
       " 'security',\n",
       " 'state',\n",
       " 'penitentary',\n",
       " 'focuses',\n",
       " 'mainly',\n",
       " 'emerald',\n",
       " 'city',\n",
       " 'experimental',\n",
       " 'section',\n",
       " 'prison',\n",
       " 'cells',\n",
       " 'glass',\n",
       " 'fronts',\n",
       " 'face',\n",
       " 'inwards',\n",
       " 'privacy',\n",
       " 'high',\n",
       " 'agenda',\n",
       " 'em',\n",
       " 'city',\n",
       " 'home',\n",
       " 'many',\n",
       " 'aryans',\n",
       " 'muslims',\n",
       " 'gangstas',\n",
       " 'latinos',\n",
       " 'christians',\n",
       " 'italians',\n",
       " 'irish',\n",
       " 'scuffles',\n",
       " 'death',\n",
       " 'stares',\n",
       " 'dodgy',\n",
       " 'dealings',\n",
       " 'shady',\n",
       " 'agreements',\n",
       " 'never',\n",
       " 'far',\n",
       " 'away',\n",
       " 'would',\n",
       " 'say',\n",
       " 'main',\n",
       " 'appeal',\n",
       " 'show',\n",
       " 'due',\n",
       " 'fact',\n",
       " 'goes',\n",
       " 'shows',\n",
       " 'dare',\n",
       " 'forget',\n",
       " 'pretty',\n",
       " 'pictures',\n",
       " 'painted',\n",
       " 'mainstream',\n",
       " 'audiences',\n",
       " 'forget',\n",
       " 'charm',\n",
       " 'forget',\n",
       " 'romance',\n",
       " 'oz',\n",
       " 'mess',\n",
       " 'around',\n",
       " 'first',\n",
       " 'episode',\n",
       " 'ever',\n",
       " 'saw',\n",
       " 'struck',\n",
       " 'nasty',\n",
       " 'surreal',\n",
       " 'say',\n",
       " 'ready',\n",
       " 'watched',\n",
       " 'developed',\n",
       " 'taste',\n",
       " 'oz',\n",
       " 'got',\n",
       " 'accustomed',\n",
       " 'high',\n",
       " 'levels',\n",
       " 'graphic',\n",
       " 'violence',\n",
       " 'violence',\n",
       " 'injustice',\n",
       " 'crooked',\n",
       " 'guards',\n",
       " 'sold',\n",
       " 'nickel',\n",
       " 'inmates',\n",
       " 'kill',\n",
       " 'order',\n",
       " 'get',\n",
       " 'away',\n",
       " 'well',\n",
       " 'mannered',\n",
       " 'middle',\n",
       " 'class',\n",
       " 'inmates',\n",
       " 'turned',\n",
       " 'prison',\n",
       " 'bitches',\n",
       " 'due',\n",
       " 'lack',\n",
       " 'street',\n",
       " 'skills',\n",
       " 'prison',\n",
       " 'experience',\n",
       " 'watching',\n",
       " 'oz',\n",
       " 'may',\n",
       " 'become',\n",
       " 'comfortable',\n",
       " 'uncomfortable',\n",
       " 'viewing',\n",
       " 'thats',\n",
       " 'get',\n",
       " 'touch',\n",
       " 'darker',\n",
       " 'side']"
      ]
     },
     "execution_count": 27,
     "metadata": {},
     "output_type": "execute_result"
    }
   ],
   "source": [
    "dados.review[0]"
   ]
  },
  {
   "cell_type": "code",
   "execution_count": 28,
   "id": "7bc2633d-4e77-4e1c-ad8a-419f87228c0f",
   "metadata": {},
   "outputs": [],
   "source": [
    "# Função para o stemmer\n",
    "def stemmer(texto):\n",
    "    objeto_stemmer = SnowballStemmer('english')\n",
    "    return \" \".join([objeto_stemmer.stem(w) for w in texto])"
   ]
  },
  {
   "cell_type": "code",
   "execution_count": 29,
   "id": "70d82bff-72c4-4069-8fd0-e631b1c3365c",
   "metadata": {},
   "outputs": [
    {
     "name": "stdout",
     "output_type": "stream",
     "text": [
      "the cat are run\n"
     ]
    }
   ],
   "source": [
    "# Testando a função\n",
    "texto = \"The cats are running\"\n",
    "texto_stemmed = stemmer(texto.split())\n",
    "print(texto_stemmed)  "
   ]
  },
  {
   "cell_type": "code",
   "execution_count": 30,
   "id": "9be889f4-d56e-47e4-a3ce-739e18115ab7",
   "metadata": {},
   "outputs": [
    {
     "name": "stdout",
     "output_type": "stream",
     "text": [
      "CPU times: user 59.9 s, sys: 26.1 ms, total: 60 s\n",
      "Wall time: 60 s\n"
     ]
    }
   ],
   "source": [
    "%%time\n",
    "dados.review = dados.review.apply(stemmer)"
   ]
  },
  {
   "cell_type": "code",
   "execution_count": 31,
   "id": "0cb5ef54-672b-4e53-a656-e6e0bcd2f097",
   "metadata": {},
   "outputs": [
    {
     "data": {
      "text/plain": [
       "'one review mention watch 1 oz episod hook right exact happen first thing struck oz brutal unflinch scene violenc set right word go trust show faint heart timid show pull punch regard drug sex violenc hardcor classic use word call oz nicknam given oswald maximum secur state penitentari focus main emerald citi experiment section prison cell glass front face inward privaci high agenda em citi home mani aryan muslim gangsta latino christian italian irish scuffl death stare dodgi deal shadi agreement never far away would say main appeal show due fact goe show dare forget pretti pictur paint mainstream audienc forget charm forget romanc oz mess around first episod ever saw struck nasti surreal say readi watch develop tast oz got accustom high level graphic violenc violenc injustic crook guard sold nickel inmat kill order get away well manner middl class inmat turn prison bitch due lack street skill prison experi watch oz may becom comfort uncomfort view that get touch darker side'"
      ]
     },
     "execution_count": 31,
     "metadata": {},
     "output_type": "execute_result"
    }
   ],
   "source": [
    "dados.review[0]"
   ]
  },
  {
   "cell_type": "markdown",
   "id": "c1bc1b31-cdbb-4a90-b1c6-12771acfd753",
   "metadata": {},
   "source": [
    "## Pré-Processamento dos Dados"
   ]
  },
  {
   "cell_type": "code",
   "execution_count": 32,
   "id": "d57857f0-3ff2-4215-bb5e-3d6e2a47758b",
   "metadata": {},
   "outputs": [],
   "source": [
    "# Extrai o texto da avaliação (entrada)\n",
    "x = np.array(dados.iloc[:,0].values)"
   ]
  },
  {
   "cell_type": "code",
   "execution_count": 33,
   "id": "e23f178d-7e7e-460c-bbcf-eebd35e58f54",
   "metadata": {},
   "outputs": [],
   "source": [
    "# Extrai o sentimento (saída)\n",
    "y = np.array(dados.sentiment.values)"
   ]
  },
  {
   "cell_type": "code",
   "execution_count": 34,
   "id": "aca1ebee-07a1-40bf-8adf-61f86f796bfd",
   "metadata": {},
   "outputs": [],
   "source": [
    "# Divisão dos dados em treino e teste com proporção 80/20\n",
    "x_treino, x_teste, y_treino, y_teste = train_test_split(x,y, test_size = 0.2, random_state = 0)"
   ]
  },
  {
   "cell_type": "code",
   "execution_count": 35,
   "id": "3f07ef72-c58e-45c9-8d14-501fa8ea1409",
   "metadata": {},
   "outputs": [],
   "source": [
    "# Cria um vetorizador (vai converter os dados de texto em representação numérica)\n",
    "vetorizador = CountVectorizer(max_features = 1000)"
   ]
  },
  {
   "cell_type": "code",
   "execution_count": 36,
   "id": "3b951f13-72ae-4dfd-8069-c91d02a47994",
   "metadata": {},
   "outputs": [],
   "source": [
    "# Fit e transform do vetorizador com dados de treino\n",
    "x_treino_final = vetorizador.fit_transform(x_treino).toarray()"
   ]
  },
  {
   "cell_type": "code",
   "execution_count": 37,
   "id": "8bd79520-c48e-413d-9dfd-4c6a6b38aba9",
   "metadata": {},
   "outputs": [],
   "source": [
    "# Apenas transorm nos dados de teste\n",
    "x_teste_final = vetorizador.transform(x_teste).toarray()"
   ]
  },
  {
   "cell_type": "code",
   "execution_count": 38,
   "id": "55654161-ea95-4c58-81fe-803275a94d3a",
   "metadata": {},
   "outputs": [
    {
     "name": "stdout",
     "output_type": "stream",
     "text": [
      "x_treino_final: (40000, 1000)\n",
      "y_treino: (40000,)\n"
     ]
    }
   ],
   "source": [
    "print(\"x_treino_final:\", x_treino_final.shape)\n",
    "print(\"y_treino:\", y_treino.shape)"
   ]
  },
  {
   "cell_type": "code",
   "execution_count": 39,
   "id": "c8d1e75c-e1a9-4645-a2c2-c6b1e3fe3d60",
   "metadata": {},
   "outputs": [
    {
     "name": "stdout",
     "output_type": "stream",
     "text": [
      "[[0 0 0 ... 0 0 0]\n",
      " [0 0 0 ... 0 0 0]\n",
      " [1 0 1 ... 0 0 0]\n",
      " ...\n",
      " [0 0 0 ... 0 0 0]\n",
      " [0 0 0 ... 0 0 0]\n",
      " [0 0 0 ... 0 0 0]]\n"
     ]
    }
   ],
   "source": [
    "print(x_treino_final)"
   ]
  },
  {
   "cell_type": "code",
   "execution_count": 40,
   "id": "58d26035-a77d-43dc-8a5c-ea2963e7c255",
   "metadata": {},
   "outputs": [
    {
     "name": "stdout",
     "output_type": "stream",
     "text": [
      "x_teste_final: (10000, 1000)\n",
      "y_teste: (10000,)\n"
     ]
    }
   ],
   "source": [
    "print(\"x_teste_final:\", x_teste_final.shape)\n",
    "print(\"y_teste:\", y_teste.shape)"
   ]
  },
  {
   "cell_type": "markdown",
   "id": "c1511d34-ca2f-44c7-a089-48b1ed0ea976",
   "metadata": {},
   "source": [
    "## Criação de Modelos de Machine Learning"
   ]
  },
  {
   "cell_type": "markdown",
   "id": "383f4b29-346c-49f7-9729-b0a1e27c1832",
   "metadata": {},
   "source": [
    "#### Modelo Probabilístico 1 - GaussianNB\n"
   ]
  },
  {
   "cell_type": "code",
   "execution_count": 41,
   "id": "3205a16a-d6ee-401f-98af-43f2381264c6",
   "metadata": {},
   "outputs": [],
   "source": [
    "# Cria o modelo\n",
    "modelo_v1 = GaussianNB()"
   ]
  },
  {
   "cell_type": "code",
   "execution_count": 42,
   "id": "d5e80296-d56b-400a-a9fe-9fb255698d4f",
   "metadata": {},
   "outputs": [
    {
     "data": {
      "text/html": [
       "<style>#sk-container-id-1 {color: black;background-color: white;}#sk-container-id-1 pre{padding: 0;}#sk-container-id-1 div.sk-toggleable {background-color: white;}#sk-container-id-1 label.sk-toggleable__label {cursor: pointer;display: block;width: 100%;margin-bottom: 0;padding: 0.3em;box-sizing: border-box;text-align: center;}#sk-container-id-1 label.sk-toggleable__label-arrow:before {content: \"▸\";float: left;margin-right: 0.25em;color: #696969;}#sk-container-id-1 label.sk-toggleable__label-arrow:hover:before {color: black;}#sk-container-id-1 div.sk-estimator:hover label.sk-toggleable__label-arrow:before {color: black;}#sk-container-id-1 div.sk-toggleable__content {max-height: 0;max-width: 0;overflow: hidden;text-align: left;background-color: #f0f8ff;}#sk-container-id-1 div.sk-toggleable__content pre {margin: 0.2em;color: black;border-radius: 0.25em;background-color: #f0f8ff;}#sk-container-id-1 input.sk-toggleable__control:checked~div.sk-toggleable__content {max-height: 200px;max-width: 100%;overflow: auto;}#sk-container-id-1 input.sk-toggleable__control:checked~label.sk-toggleable__label-arrow:before {content: \"▾\";}#sk-container-id-1 div.sk-estimator input.sk-toggleable__control:checked~label.sk-toggleable__label {background-color: #d4ebff;}#sk-container-id-1 div.sk-label input.sk-toggleable__control:checked~label.sk-toggleable__label {background-color: #d4ebff;}#sk-container-id-1 input.sk-hidden--visually {border: 0;clip: rect(1px 1px 1px 1px);clip: rect(1px, 1px, 1px, 1px);height: 1px;margin: -1px;overflow: hidden;padding: 0;position: absolute;width: 1px;}#sk-container-id-1 div.sk-estimator {font-family: monospace;background-color: #f0f8ff;border: 1px dotted black;border-radius: 0.25em;box-sizing: border-box;margin-bottom: 0.5em;}#sk-container-id-1 div.sk-estimator:hover {background-color: #d4ebff;}#sk-container-id-1 div.sk-parallel-item::after {content: \"\";width: 100%;border-bottom: 1px solid gray;flex-grow: 1;}#sk-container-id-1 div.sk-label:hover label.sk-toggleable__label {background-color: #d4ebff;}#sk-container-id-1 div.sk-serial::before {content: \"\";position: absolute;border-left: 1px solid gray;box-sizing: border-box;top: 0;bottom: 0;left: 50%;z-index: 0;}#sk-container-id-1 div.sk-serial {display: flex;flex-direction: column;align-items: center;background-color: white;padding-right: 0.2em;padding-left: 0.2em;position: relative;}#sk-container-id-1 div.sk-item {position: relative;z-index: 1;}#sk-container-id-1 div.sk-parallel {display: flex;align-items: stretch;justify-content: center;background-color: white;position: relative;}#sk-container-id-1 div.sk-item::before, #sk-container-id-1 div.sk-parallel-item::before {content: \"\";position: absolute;border-left: 1px solid gray;box-sizing: border-box;top: 0;bottom: 0;left: 50%;z-index: -1;}#sk-container-id-1 div.sk-parallel-item {display: flex;flex-direction: column;z-index: 1;position: relative;background-color: white;}#sk-container-id-1 div.sk-parallel-item:first-child::after {align-self: flex-end;width: 50%;}#sk-container-id-1 div.sk-parallel-item:last-child::after {align-self: flex-start;width: 50%;}#sk-container-id-1 div.sk-parallel-item:only-child::after {width: 0;}#sk-container-id-1 div.sk-dashed-wrapped {border: 1px dashed gray;margin: 0 0.4em 0.5em 0.4em;box-sizing: border-box;padding-bottom: 0.4em;background-color: white;}#sk-container-id-1 div.sk-label label {font-family: monospace;font-weight: bold;display: inline-block;line-height: 1.2em;}#sk-container-id-1 div.sk-label-container {text-align: center;}#sk-container-id-1 div.sk-container {/* jupyter's `normalize.less` sets `[hidden] { display: none; }` but bootstrap.min.css set `[hidden] { display: none !important; }` so we also need the `!important` here to be able to override the default hidden behavior on the sphinx rendered scikit-learn.org. See: https://github.com/scikit-learn/scikit-learn/issues/21755 */display: inline-block !important;position: relative;}#sk-container-id-1 div.sk-text-repr-fallback {display: none;}</style><div id=\"sk-container-id-1\" class=\"sk-top-container\"><div class=\"sk-text-repr-fallback\"><pre>GaussianNB()</pre><b>In a Jupyter environment, please rerun this cell to show the HTML representation or trust the notebook. <br />On GitHub, the HTML representation is unable to render, please try loading this page with nbviewer.org.</b></div><div class=\"sk-container\" hidden><div class=\"sk-item\"><div class=\"sk-estimator sk-toggleable\"><input class=\"sk-toggleable__control sk-hidden--visually\" id=\"sk-estimator-id-1\" type=\"checkbox\" checked><label for=\"sk-estimator-id-1\" class=\"sk-toggleable__label sk-toggleable__label-arrow\">GaussianNB</label><div class=\"sk-toggleable__content\"><pre>GaussianNB()</pre></div></div></div></div></div>"
      ],
      "text/plain": [
       "GaussianNB()"
      ]
     },
     "execution_count": 42,
     "metadata": {},
     "output_type": "execute_result"
    }
   ],
   "source": [
    "# Treina o modelo\n",
    "modelo_v1.fit(x_treino_final, y_treino)"
   ]
  },
  {
   "cell_type": "markdown",
   "id": "2e83fce3-e34f-4003-a7aa-5df5cbf39a94",
   "metadata": {},
   "source": [
    "#### Modelo Probabilístico 2 - MultinomialNB"
   ]
  },
  {
   "cell_type": "code",
   "execution_count": 43,
   "id": "7eb1b75d-c9e9-400e-89cf-9429204a2f22",
   "metadata": {},
   "outputs": [],
   "source": [
    "# Cria o modelo\n",
    "modelo_v2 = MultinomialNB(alpha = 1.0, fit_prior = True)"
   ]
  },
  {
   "cell_type": "code",
   "execution_count": 44,
   "id": "6844b230-93a9-49b0-9e8b-0e124bc489af",
   "metadata": {},
   "outputs": [
    {
     "data": {
      "text/html": [
       "<style>#sk-container-id-2 {color: black;background-color: white;}#sk-container-id-2 pre{padding: 0;}#sk-container-id-2 div.sk-toggleable {background-color: white;}#sk-container-id-2 label.sk-toggleable__label {cursor: pointer;display: block;width: 100%;margin-bottom: 0;padding: 0.3em;box-sizing: border-box;text-align: center;}#sk-container-id-2 label.sk-toggleable__label-arrow:before {content: \"▸\";float: left;margin-right: 0.25em;color: #696969;}#sk-container-id-2 label.sk-toggleable__label-arrow:hover:before {color: black;}#sk-container-id-2 div.sk-estimator:hover label.sk-toggleable__label-arrow:before {color: black;}#sk-container-id-2 div.sk-toggleable__content {max-height: 0;max-width: 0;overflow: hidden;text-align: left;background-color: #f0f8ff;}#sk-container-id-2 div.sk-toggleable__content pre {margin: 0.2em;color: black;border-radius: 0.25em;background-color: #f0f8ff;}#sk-container-id-2 input.sk-toggleable__control:checked~div.sk-toggleable__content {max-height: 200px;max-width: 100%;overflow: auto;}#sk-container-id-2 input.sk-toggleable__control:checked~label.sk-toggleable__label-arrow:before {content: \"▾\";}#sk-container-id-2 div.sk-estimator input.sk-toggleable__control:checked~label.sk-toggleable__label {background-color: #d4ebff;}#sk-container-id-2 div.sk-label input.sk-toggleable__control:checked~label.sk-toggleable__label {background-color: #d4ebff;}#sk-container-id-2 input.sk-hidden--visually {border: 0;clip: rect(1px 1px 1px 1px);clip: rect(1px, 1px, 1px, 1px);height: 1px;margin: -1px;overflow: hidden;padding: 0;position: absolute;width: 1px;}#sk-container-id-2 div.sk-estimator {font-family: monospace;background-color: #f0f8ff;border: 1px dotted black;border-radius: 0.25em;box-sizing: border-box;margin-bottom: 0.5em;}#sk-container-id-2 div.sk-estimator:hover {background-color: #d4ebff;}#sk-container-id-2 div.sk-parallel-item::after {content: \"\";width: 100%;border-bottom: 1px solid gray;flex-grow: 1;}#sk-container-id-2 div.sk-label:hover label.sk-toggleable__label {background-color: #d4ebff;}#sk-container-id-2 div.sk-serial::before {content: \"\";position: absolute;border-left: 1px solid gray;box-sizing: border-box;top: 0;bottom: 0;left: 50%;z-index: 0;}#sk-container-id-2 div.sk-serial {display: flex;flex-direction: column;align-items: center;background-color: white;padding-right: 0.2em;padding-left: 0.2em;position: relative;}#sk-container-id-2 div.sk-item {position: relative;z-index: 1;}#sk-container-id-2 div.sk-parallel {display: flex;align-items: stretch;justify-content: center;background-color: white;position: relative;}#sk-container-id-2 div.sk-item::before, #sk-container-id-2 div.sk-parallel-item::before {content: \"\";position: absolute;border-left: 1px solid gray;box-sizing: border-box;top: 0;bottom: 0;left: 50%;z-index: -1;}#sk-container-id-2 div.sk-parallel-item {display: flex;flex-direction: column;z-index: 1;position: relative;background-color: white;}#sk-container-id-2 div.sk-parallel-item:first-child::after {align-self: flex-end;width: 50%;}#sk-container-id-2 div.sk-parallel-item:last-child::after {align-self: flex-start;width: 50%;}#sk-container-id-2 div.sk-parallel-item:only-child::after {width: 0;}#sk-container-id-2 div.sk-dashed-wrapped {border: 1px dashed gray;margin: 0 0.4em 0.5em 0.4em;box-sizing: border-box;padding-bottom: 0.4em;background-color: white;}#sk-container-id-2 div.sk-label label {font-family: monospace;font-weight: bold;display: inline-block;line-height: 1.2em;}#sk-container-id-2 div.sk-label-container {text-align: center;}#sk-container-id-2 div.sk-container {/* jupyter's `normalize.less` sets `[hidden] { display: none; }` but bootstrap.min.css set `[hidden] { display: none !important; }` so we also need the `!important` here to be able to override the default hidden behavior on the sphinx rendered scikit-learn.org. See: https://github.com/scikit-learn/scikit-learn/issues/21755 */display: inline-block !important;position: relative;}#sk-container-id-2 div.sk-text-repr-fallback {display: none;}</style><div id=\"sk-container-id-2\" class=\"sk-top-container\"><div class=\"sk-text-repr-fallback\"><pre>MultinomialNB()</pre><b>In a Jupyter environment, please rerun this cell to show the HTML representation or trust the notebook. <br />On GitHub, the HTML representation is unable to render, please try loading this page with nbviewer.org.</b></div><div class=\"sk-container\" hidden><div class=\"sk-item\"><div class=\"sk-estimator sk-toggleable\"><input class=\"sk-toggleable__control sk-hidden--visually\" id=\"sk-estimator-id-2\" type=\"checkbox\" checked><label for=\"sk-estimator-id-2\" class=\"sk-toggleable__label sk-toggleable__label-arrow\">MultinomialNB</label><div class=\"sk-toggleable__content\"><pre>MultinomialNB()</pre></div></div></div></div></div>"
      ],
      "text/plain": [
       "MultinomialNB()"
      ]
     },
     "execution_count": 44,
     "metadata": {},
     "output_type": "execute_result"
    }
   ],
   "source": [
    "# Treina o modelo\n",
    "modelo_v2.fit(x_treino_final, y_treino)"
   ]
  },
  {
   "cell_type": "markdown",
   "id": "c0ed21e9-5c47-4c4d-b0a2-41283fd2a01a",
   "metadata": {},
   "source": [
    "#### Modelo Probabilístico 3 - BernoulliNB"
   ]
  },
  {
   "cell_type": "code",
   "execution_count": 45,
   "id": "c41fd328-48db-43c5-972d-f3267f70b75e",
   "metadata": {},
   "outputs": [],
   "source": [
    "# Cria o modelo\n",
    "modelo_v3 = BernoulliNB(alpha = 1.0, fit_prior = True)"
   ]
  },
  {
   "cell_type": "code",
   "execution_count": 46,
   "id": "263585ea-ebfd-4373-82ba-7c97f93fa918",
   "metadata": {},
   "outputs": [
    {
     "data": {
      "text/html": [
       "<style>#sk-container-id-3 {color: black;background-color: white;}#sk-container-id-3 pre{padding: 0;}#sk-container-id-3 div.sk-toggleable {background-color: white;}#sk-container-id-3 label.sk-toggleable__label {cursor: pointer;display: block;width: 100%;margin-bottom: 0;padding: 0.3em;box-sizing: border-box;text-align: center;}#sk-container-id-3 label.sk-toggleable__label-arrow:before {content: \"▸\";float: left;margin-right: 0.25em;color: #696969;}#sk-container-id-3 label.sk-toggleable__label-arrow:hover:before {color: black;}#sk-container-id-3 div.sk-estimator:hover label.sk-toggleable__label-arrow:before {color: black;}#sk-container-id-3 div.sk-toggleable__content {max-height: 0;max-width: 0;overflow: hidden;text-align: left;background-color: #f0f8ff;}#sk-container-id-3 div.sk-toggleable__content pre {margin: 0.2em;color: black;border-radius: 0.25em;background-color: #f0f8ff;}#sk-container-id-3 input.sk-toggleable__control:checked~div.sk-toggleable__content {max-height: 200px;max-width: 100%;overflow: auto;}#sk-container-id-3 input.sk-toggleable__control:checked~label.sk-toggleable__label-arrow:before {content: \"▾\";}#sk-container-id-3 div.sk-estimator input.sk-toggleable__control:checked~label.sk-toggleable__label {background-color: #d4ebff;}#sk-container-id-3 div.sk-label input.sk-toggleable__control:checked~label.sk-toggleable__label {background-color: #d4ebff;}#sk-container-id-3 input.sk-hidden--visually {border: 0;clip: rect(1px 1px 1px 1px);clip: rect(1px, 1px, 1px, 1px);height: 1px;margin: -1px;overflow: hidden;padding: 0;position: absolute;width: 1px;}#sk-container-id-3 div.sk-estimator {font-family: monospace;background-color: #f0f8ff;border: 1px dotted black;border-radius: 0.25em;box-sizing: border-box;margin-bottom: 0.5em;}#sk-container-id-3 div.sk-estimator:hover {background-color: #d4ebff;}#sk-container-id-3 div.sk-parallel-item::after {content: \"\";width: 100%;border-bottom: 1px solid gray;flex-grow: 1;}#sk-container-id-3 div.sk-label:hover label.sk-toggleable__label {background-color: #d4ebff;}#sk-container-id-3 div.sk-serial::before {content: \"\";position: absolute;border-left: 1px solid gray;box-sizing: border-box;top: 0;bottom: 0;left: 50%;z-index: 0;}#sk-container-id-3 div.sk-serial {display: flex;flex-direction: column;align-items: center;background-color: white;padding-right: 0.2em;padding-left: 0.2em;position: relative;}#sk-container-id-3 div.sk-item {position: relative;z-index: 1;}#sk-container-id-3 div.sk-parallel {display: flex;align-items: stretch;justify-content: center;background-color: white;position: relative;}#sk-container-id-3 div.sk-item::before, #sk-container-id-3 div.sk-parallel-item::before {content: \"\";position: absolute;border-left: 1px solid gray;box-sizing: border-box;top: 0;bottom: 0;left: 50%;z-index: -1;}#sk-container-id-3 div.sk-parallel-item {display: flex;flex-direction: column;z-index: 1;position: relative;background-color: white;}#sk-container-id-3 div.sk-parallel-item:first-child::after {align-self: flex-end;width: 50%;}#sk-container-id-3 div.sk-parallel-item:last-child::after {align-self: flex-start;width: 50%;}#sk-container-id-3 div.sk-parallel-item:only-child::after {width: 0;}#sk-container-id-3 div.sk-dashed-wrapped {border: 1px dashed gray;margin: 0 0.4em 0.5em 0.4em;box-sizing: border-box;padding-bottom: 0.4em;background-color: white;}#sk-container-id-3 div.sk-label label {font-family: monospace;font-weight: bold;display: inline-block;line-height: 1.2em;}#sk-container-id-3 div.sk-label-container {text-align: center;}#sk-container-id-3 div.sk-container {/* jupyter's `normalize.less` sets `[hidden] { display: none; }` but bootstrap.min.css set `[hidden] { display: none !important; }` so we also need the `!important` here to be able to override the default hidden behavior on the sphinx rendered scikit-learn.org. See: https://github.com/scikit-learn/scikit-learn/issues/21755 */display: inline-block !important;position: relative;}#sk-container-id-3 div.sk-text-repr-fallback {display: none;}</style><div id=\"sk-container-id-3\" class=\"sk-top-container\"><div class=\"sk-text-repr-fallback\"><pre>BernoulliNB()</pre><b>In a Jupyter environment, please rerun this cell to show the HTML representation or trust the notebook. <br />On GitHub, the HTML representation is unable to render, please try loading this page with nbviewer.org.</b></div><div class=\"sk-container\" hidden><div class=\"sk-item\"><div class=\"sk-estimator sk-toggleable\"><input class=\"sk-toggleable__control sk-hidden--visually\" id=\"sk-estimator-id-3\" type=\"checkbox\" checked><label for=\"sk-estimator-id-3\" class=\"sk-toggleable__label sk-toggleable__label-arrow\">BernoulliNB</label><div class=\"sk-toggleable__content\"><pre>BernoulliNB()</pre></div></div></div></div></div>"
      ],
      "text/plain": [
       "BernoulliNB()"
      ]
     },
     "execution_count": 46,
     "metadata": {},
     "output_type": "execute_result"
    }
   ],
   "source": [
    "# Treina o modelo\n",
    "modelo_v3.fit(x_treino_final, y_treino)"
   ]
  },
  {
   "cell_type": "markdown",
   "id": "145baa75-8022-4ed3-8d8b-88569c4a9230",
   "metadata": {},
   "source": [
    "## Avaliação, Interpretação e Comparação dos Modelos"
   ]
  },
  {
   "cell_type": "code",
   "execution_count": 47,
   "id": "9e8982f8-b392-4615-9ed8-1437e4a925cb",
   "metadata": {},
   "outputs": [],
   "source": [
    "# Previsões com dados de teste\n",
    "ypred_v1 = modelo_v1.predict(x_teste_final)"
   ]
  },
  {
   "cell_type": "code",
   "execution_count": 48,
   "id": "159b2f41-00d8-4e5c-915f-0db7ce159140",
   "metadata": {},
   "outputs": [],
   "source": [
    "# Previsões com dados de teste\n",
    "ypred_v2 = modelo_v2.predict(x_teste_final)"
   ]
  },
  {
   "cell_type": "code",
   "execution_count": 49,
   "id": "d506dc20-18fb-4143-a572-90ba55f23e71",
   "metadata": {},
   "outputs": [],
   "source": [
    "# Previsões com dados de teste\n",
    "ypred_v3 = modelo_v3.predict(x_teste_final)"
   ]
  },
  {
   "cell_type": "code",
   "execution_count": 50,
   "id": "12871cef-6fcb-478a-b20b-e0d79e9ea0b1",
   "metadata": {},
   "outputs": [
    {
     "name": "stdout",
     "output_type": "stream",
     "text": [
      "Acurácia do Modelo GaussianNB =  79.06\n",
      "Acurácia do Modelo MultinomialNB =  82.57\n",
      "Acurácia do Modelo BernoulliNB =  83.02000000000001\n"
     ]
    }
   ],
   "source": [
    "print(\"Acurácia do Modelo GaussianNB = \", accuracy_score(y_teste, ypred_v1) * 100)\n",
    "print(\"Acurácia do Modelo MultinomialNB = \", accuracy_score(y_teste, ypred_v2) * 100)\n",
    "print(\"Acurácia do Modelo BernoulliNB = \", accuracy_score(y_teste, ypred_v3) * 100)"
   ]
  },
  {
   "cell_type": "code",
   "execution_count": 51,
   "id": "124f1f8d-8d43-4c09-bbd6-e1561a292b5c",
   "metadata": {},
   "outputs": [],
   "source": [
    "# Import\n",
    "from sklearn.metrics import roc_auc_score"
   ]
  },
  {
   "cell_type": "markdown",
   "id": "ce7e89f4-2003-42f7-8e87-24ef5899e440",
   "metadata": {},
   "source": [
    "A acurácia é uma métrica global ideal para comparar versões do modelo do mesmo algoritmo. Para modelos de algoritmos diferentes a métrica AUC (Area Under The Curve) é a ideal."
   ]
  },
  {
   "cell_type": "code",
   "execution_count": 52,
   "id": "a6fafd84-fe28-4394-bccd-15b4ee09dd42",
   "metadata": {},
   "outputs": [
    {
     "name": "stdout",
     "output_type": "stream",
     "text": [
      "AUC do Modelo GaussianNB = 0.861081232980416\n"
     ]
    }
   ],
   "source": [
    "# AUC do GaussianNB\n",
    "y_proba = modelo_v1.predict_proba(x_teste_final)[:, 1]\n",
    "auc = roc_auc_score(y_teste, y_proba)\n",
    "print(\"AUC do Modelo GaussianNB =\", auc)"
   ]
  },
  {
   "cell_type": "code",
   "execution_count": 53,
   "id": "9f1da883-cca2-4ed7-b472-98c710eb6bfa",
   "metadata": {},
   "outputs": [
    {
     "name": "stdout",
     "output_type": "stream",
     "text": [
      "AUC do Modelo MultinomialNB = 0.8993217067636314\n"
     ]
    }
   ],
   "source": [
    "# AUC do MultinomialNB\n",
    "y_proba = modelo_v2.predict_proba(x_teste_final)[:, 1]\n",
    "auc = roc_auc_score(y_teste, y_proba)\n",
    "print(\"AUC do Modelo MultinomialNB =\", auc)"
   ]
  },
  {
   "cell_type": "code",
   "execution_count": 54,
   "id": "5554934d-f399-4720-a34e-7aa666db4449",
   "metadata": {},
   "outputs": [
    {
     "name": "stdout",
     "output_type": "stream",
     "text": [
      "AUC do Modelo BernoulliNB = 0.9083430688103717\n"
     ]
    }
   ],
   "source": [
    "# AUC do BernoulliNB\n",
    "y_proba = modelo_v3.predict_proba(x_teste_final)[:, 1]\n",
    "auc = roc_auc_score(y_teste, y_proba)\n",
    "print(\"AUC do Modelo BernoulliNB =\", auc)"
   ]
  },
  {
   "cell_type": "code",
   "execution_count": 55,
   "id": "9f86fbb6-d649-4019-b798-0fc4cf88688e",
   "metadata": {},
   "outputs": [],
   "source": [
    "# Salva o melhor modelo em disco\n",
    "with open('modelo_v3.pkl', 'wb') as arquivo:\n",
    "    pickle.dump(modelo_v3, arquivo)"
   ]
  },
  {
   "cell_type": "markdown",
   "id": "27e8b9b9-55bf-4e62-8c23-5e0a2190115d",
   "metadata": {},
   "source": [
    "## Deploy e Uso do Modelo"
   ]
  },
  {
   "cell_type": "code",
   "execution_count": 56,
   "id": "586565a8-6fb8-4878-8a1e-1a3ef5ed012a",
   "metadata": {},
   "outputs": [],
   "source": [
    "# Carrega o modelo do disco\n",
    "with open('modelo_v3.pkl', 'rb') as arquivo:\n",
    "    modelo_final = pickle.load(arquivo)"
   ]
  },
  {
   "cell_type": "code",
   "execution_count": 57,
   "id": "8f15a29b-abda-4751-a415-307621eed7ae",
   "metadata": {},
   "outputs": [],
   "source": [
    "# Texto de uma avaliação de usuário (esse texto apresenta sentimento positivo)\n",
    "texto_aval = \"\"\"This is probably the fastest-paced and most action-packed of the German Edgar Wallace \"\"krimi\"\" \n",
    "series, a cross between the Dr. Mabuse films of yore and 60's pop thrillers like Batman and the Man \n",
    "from UNCLE. It reintroduces the outrageous villain from an earlier film who dons a stylish monk's habit and \n",
    "breaks the necks of victims with the curl of a deadly whip. Set at a posh girls' school filled with lecherous \n",
    "middle-aged professors, and with the cops fondling their hot-to-trot secretaries at every opportunity, it \n",
    "certainly is a throwback to those wonderfully politically-incorrect times. There's a definite link to a later \n",
    "Wallace-based film, the excellent giallo \"\"Whatever Happened to Solange?\"\", which also concerns female students \n",
    "being corrupted by (and corrupting?) their elders. Quite appropriate to the monk theme, the master-mind villain \n",
    "uses booby-trapped bibles here to deal some of the death blows, and also maintains a reptile-replete dungeon \n",
    "to amuse his captive audiences. <br /><br />Alfred Vohrer was always the most playful and visually flamboyant \n",
    "of the series directors, and here the lurid colour cinematography is the real star of the show. The Monk appears \n",
    "in a raving scarlet cowl and robe, tastefully setting off the lustrous white whip, while appearing against \n",
    "purplish-night backgrounds. There's also a voyeur-friendly turquoise swimming pool which looks great both \n",
    "as a glowing milieu for the nubile students and as a shadowy backdrop for one of the murder scenes. \n",
    "The trademark \"\"kicker\"\" of hiding the \"\"Ende\"\" card somewhere in the set of the last scene is also quite \n",
    "memorable here. And there's a fine brassy and twangy score for retro-music fans.<br /><br />Fans of the series \n",
    "will definitely miss the flippant Eddie Arent character in these later films. Instead, the chief inspector \n",
    "Sir John takes on the role of buffoon, convinced that he has mastered criminal psychology after taking a few \n",
    "night courses. Unfortunately, Klaus Kinski had also gone on to bigger and better things. The krimis had \n",
    "lost some of their offbeat subversive charm by this point, and now worked on a much more blatant pop-culture \n",
    "level, which will make this one quite accessible to uninitiated viewers.\"\"\""
   ]
  },
  {
   "cell_type": "code",
   "execution_count": 58,
   "id": "ad6d2370-45c1-49b7-a645-c556dc737397",
   "metadata": {},
   "outputs": [],
   "source": [
    "# Fluxo de transformação dos dados\n",
    "tarefa1 = limpa_dados(texto_aval)\n",
    "tarefa2 = limpa_caracter_especial(tarefa1)\n",
    "tarefa3 = converte_minusculo(tarefa2)\n",
    "tarefa4 = remove_stopwords(tarefa3)\n",
    "tarefa5 = stemmer(tarefa4)"
   ]
  },
  {
   "cell_type": "code",
   "execution_count": 59,
   "id": "a7a70159-a955-4da4-bf45-b3c2302f19f2",
   "metadata": {},
   "outputs": [
    {
     "name": "stdout",
     "output_type": "stream",
     "text": [
      "probabl fastest pace action pack german edgar wallac krimi seri cross dr mabus film yore 60 pop thriller like batman man uncl reintroduc outrag villain earlier film don stylish monk habit break neck victim curl dead whip set posh girl school fill lecher middl age professor cop fondl hot trot secretari everi opportun certain throwback wonder polit incorrect time definit link later wallac base film excel giallo whatev happen solang also concern femal student corrupt corrupt elder quit appropri monk theme master mind villain use boobi trap bibl deal death blow also maintain reptil replet dungeon amus captiv audienc alfr vohrer alway play visual flamboy seri director lurid colour cinematographi real star show monk appear rave scarlet cowl robe tast set lustrous white whip appear purplish night background also voyeur friend turquois swim pool look great glow milieu nubil student shadowi backdrop one murder scene trademark kicker hide end card somewher set last scene also quit memor fine brassi twangi score retro music fan fan seri definit miss flippant eddi arent charact later film instead chief inspector sir john take role buffoon convinc master crimin psycholog take night cours unfortun klaus kinski also gone bigger better thing krimi lost offbeat subvers charm point work much blatant pop cultur level make one quit access uniniti viewer\n"
     ]
    }
   ],
   "source": [
    "print(tarefa5)"
   ]
  },
  {
   "cell_type": "code",
   "execution_count": 60,
   "id": "33117640-8dd9-4689-a14b-3e8a2100eb9c",
   "metadata": {},
   "outputs": [
    {
     "data": {
      "text/plain": [
       "str"
      ]
     },
     "execution_count": 60,
     "metadata": {},
     "output_type": "execute_result"
    }
   ],
   "source": [
    "type(tarefa5)"
   ]
  },
  {
   "cell_type": "code",
   "execution_count": 61,
   "id": "28b6b214-5fce-4f6b-bba0-467bf0bc87cd",
   "metadata": {},
   "outputs": [],
   "source": [
    "# Convertendo a string para um array Numpy (pois foi assim que o modelo foi treinado)\n",
    "tarefa5_array = np.array(tarefa5)"
   ]
  },
  {
   "cell_type": "code",
   "execution_count": 62,
   "id": "93d82b06-8a1d-4627-a3af-2fd75798b0e3",
   "metadata": {},
   "outputs": [
    {
     "data": {
      "text/plain": [
       "numpy.ndarray"
      ]
     },
     "execution_count": 62,
     "metadata": {},
     "output_type": "execute_result"
    }
   ],
   "source": [
    "type(tarefa5_array)"
   ]
  },
  {
   "cell_type": "code",
   "execution_count": 63,
   "id": "57837510-46ed-475f-a7cf-bd030b4d7341",
   "metadata": {},
   "outputs": [],
   "source": [
    "# Aplicamos o vetorizador com mais uma conversão para array NumPy a fim de ajustar o shape de 0-d para 1-d\n",
    "aval_final = vetorizador.transform(np.array([tarefa5_array])).toarray()"
   ]
  },
  {
   "cell_type": "code",
   "execution_count": 64,
   "id": "0282d2f3-c709-4c8d-8a62-e4bfc7723df0",
   "metadata": {},
   "outputs": [
    {
     "data": {
      "text/plain": [
       "numpy.ndarray"
      ]
     },
     "execution_count": 64,
     "metadata": {},
     "output_type": "execute_result"
    }
   ],
   "source": [
    "type(aval_final)"
   ]
  },
  {
   "cell_type": "code",
   "execution_count": 65,
   "id": "c6019e7a-3ced-479b-815e-504986a34b90",
   "metadata": {},
   "outputs": [],
   "source": [
    "# Previsão com o modelo\n",
    "previsao = modelo_final.predict(aval_final.reshape(1,1000))"
   ]
  },
  {
   "cell_type": "code",
   "execution_count": 66,
   "id": "ce056c88-12d4-42cb-969f-c636c28d1e9d",
   "metadata": {},
   "outputs": [
    {
     "name": "stdout",
     "output_type": "stream",
     "text": [
      "[1]\n"
     ]
    }
   ],
   "source": [
    "print(previsao)"
   ]
  },
  {
   "cell_type": "code",
   "execution_count": 67,
   "id": "39563ea9-435b-4851-9637-12e97910e044",
   "metadata": {},
   "outputs": [
    {
     "name": "stdout",
     "output_type": "stream",
     "text": [
      "O Texto Indica Sentimento Positivo!\n"
     ]
    }
   ],
   "source": [
    "# Estrutura condicional para verificar o valor de previsao\n",
    "if previsao == 1:\n",
    "    print(\"O Texto Indica Sentimento Positivo!\")\n",
    "else:\n",
    "    print(\"O Texto Indica Sentimento Negativo!\")"
   ]
  },
  {
   "cell_type": "code",
   "execution_count": null,
   "id": "7751e036-71db-4e94-8786-bf8b85c3a79f",
   "metadata": {},
   "outputs": [],
   "source": []
  }
 ],
 "metadata": {
  "kernelspec": {
   "display_name": "Python 3 (ipykernel)",
   "language": "python",
   "name": "python3"
  },
  "language_info": {
   "codemirror_mode": {
    "name": "ipython",
    "version": 3
   },
   "file_extension": ".py",
   "mimetype": "text/x-python",
   "name": "python",
   "nbconvert_exporter": "python",
   "pygments_lexer": "ipython3",
   "version": "3.10.12"
  }
 },
 "nbformat": 4,
 "nbformat_minor": 5
}
