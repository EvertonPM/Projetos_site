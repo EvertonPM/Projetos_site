{
 "cells": [
  {
   "cell_type": "code",
   "execution_count": 1,
   "id": "0b9d4479-7340-4fe9-9aed-295d473ec2b0",
   "metadata": {},
   "outputs": [],
   "source": [
    "import pandas as pd"
   ]
  },
  {
   "cell_type": "code",
   "execution_count": 2,
   "id": "817c5bfa-ce2b-4908-84e1-b9d4065ebf8f",
   "metadata": {},
   "outputs": [],
   "source": [
    "train = pd.read_csv(\"train.csv\")\n",
    "test = pd.read_csv(\"test.csv\")\n",
    "sample = pd.read_csv(\"sample_submission.csv\")"
   ]
  },
  {
   "cell_type": "code",
   "execution_count": 3,
   "id": "180d60e0-46be-4cfd-b707-5439d40de3bb",
   "metadata": {},
   "outputs": [
    {
     "data": {
      "text/html": [
       "<div>\n",
       "<style scoped>\n",
       "    .dataframe tbody tr th:only-of-type {\n",
       "        vertical-align: middle;\n",
       "    }\n",
       "\n",
       "    .dataframe tbody tr th {\n",
       "        vertical-align: top;\n",
       "    }\n",
       "\n",
       "    .dataframe thead th {\n",
       "        text-align: right;\n",
       "    }\n",
       "</style>\n",
       "<table border=\"1\" class=\"dataframe\">\n",
       "  <thead>\n",
       "    <tr style=\"text-align: right;\">\n",
       "      <th></th>\n",
       "      <th>id</th>\n",
       "      <th>Name</th>\n",
       "      <th>Gender</th>\n",
       "      <th>Age</th>\n",
       "      <th>City</th>\n",
       "      <th>Working Professional or Student</th>\n",
       "      <th>Profession</th>\n",
       "      <th>Academic Pressure</th>\n",
       "      <th>Work Pressure</th>\n",
       "      <th>CGPA</th>\n",
       "      <th>Study Satisfaction</th>\n",
       "      <th>Job Satisfaction</th>\n",
       "      <th>Sleep Duration</th>\n",
       "      <th>Dietary Habits</th>\n",
       "      <th>Degree</th>\n",
       "      <th>Have you ever had suicidal thoughts ?</th>\n",
       "      <th>Work/Study Hours</th>\n",
       "      <th>Financial Stress</th>\n",
       "      <th>Family History of Mental Illness</th>\n",
       "      <th>Depression</th>\n",
       "    </tr>\n",
       "  </thead>\n",
       "  <tbody>\n",
       "    <tr>\n",
       "      <th>0</th>\n",
       "      <td>0</td>\n",
       "      <td>Aaradhya</td>\n",
       "      <td>Female</td>\n",
       "      <td>49.0</td>\n",
       "      <td>Ludhiana</td>\n",
       "      <td>Working Professional</td>\n",
       "      <td>Chef</td>\n",
       "      <td>NaN</td>\n",
       "      <td>5.0</td>\n",
       "      <td>NaN</td>\n",
       "      <td>NaN</td>\n",
       "      <td>2.0</td>\n",
       "      <td>More than 8 hours</td>\n",
       "      <td>Healthy</td>\n",
       "      <td>BHM</td>\n",
       "      <td>No</td>\n",
       "      <td>1.0</td>\n",
       "      <td>2.0</td>\n",
       "      <td>No</td>\n",
       "      <td>0</td>\n",
       "    </tr>\n",
       "    <tr>\n",
       "      <th>1</th>\n",
       "      <td>1</td>\n",
       "      <td>Vivan</td>\n",
       "      <td>Male</td>\n",
       "      <td>26.0</td>\n",
       "      <td>Varanasi</td>\n",
       "      <td>Working Professional</td>\n",
       "      <td>Teacher</td>\n",
       "      <td>NaN</td>\n",
       "      <td>4.0</td>\n",
       "      <td>NaN</td>\n",
       "      <td>NaN</td>\n",
       "      <td>3.0</td>\n",
       "      <td>Less than 5 hours</td>\n",
       "      <td>Unhealthy</td>\n",
       "      <td>LLB</td>\n",
       "      <td>Yes</td>\n",
       "      <td>7.0</td>\n",
       "      <td>3.0</td>\n",
       "      <td>No</td>\n",
       "      <td>1</td>\n",
       "    </tr>\n",
       "    <tr>\n",
       "      <th>2</th>\n",
       "      <td>2</td>\n",
       "      <td>Yuvraj</td>\n",
       "      <td>Male</td>\n",
       "      <td>33.0</td>\n",
       "      <td>Visakhapatnam</td>\n",
       "      <td>Student</td>\n",
       "      <td>NaN</td>\n",
       "      <td>5.0</td>\n",
       "      <td>NaN</td>\n",
       "      <td>8.97</td>\n",
       "      <td>2.0</td>\n",
       "      <td>NaN</td>\n",
       "      <td>5-6 hours</td>\n",
       "      <td>Healthy</td>\n",
       "      <td>B.Pharm</td>\n",
       "      <td>Yes</td>\n",
       "      <td>3.0</td>\n",
       "      <td>1.0</td>\n",
       "      <td>No</td>\n",
       "      <td>1</td>\n",
       "    </tr>\n",
       "    <tr>\n",
       "      <th>3</th>\n",
       "      <td>3</td>\n",
       "      <td>Yuvraj</td>\n",
       "      <td>Male</td>\n",
       "      <td>22.0</td>\n",
       "      <td>Mumbai</td>\n",
       "      <td>Working Professional</td>\n",
       "      <td>Teacher</td>\n",
       "      <td>NaN</td>\n",
       "      <td>5.0</td>\n",
       "      <td>NaN</td>\n",
       "      <td>NaN</td>\n",
       "      <td>1.0</td>\n",
       "      <td>Less than 5 hours</td>\n",
       "      <td>Moderate</td>\n",
       "      <td>BBA</td>\n",
       "      <td>Yes</td>\n",
       "      <td>10.0</td>\n",
       "      <td>1.0</td>\n",
       "      <td>Yes</td>\n",
       "      <td>1</td>\n",
       "    </tr>\n",
       "    <tr>\n",
       "      <th>4</th>\n",
       "      <td>4</td>\n",
       "      <td>Rhea</td>\n",
       "      <td>Female</td>\n",
       "      <td>30.0</td>\n",
       "      <td>Kanpur</td>\n",
       "      <td>Working Professional</td>\n",
       "      <td>Business Analyst</td>\n",
       "      <td>NaN</td>\n",
       "      <td>1.0</td>\n",
       "      <td>NaN</td>\n",
       "      <td>NaN</td>\n",
       "      <td>1.0</td>\n",
       "      <td>5-6 hours</td>\n",
       "      <td>Unhealthy</td>\n",
       "      <td>BBA</td>\n",
       "      <td>Yes</td>\n",
       "      <td>9.0</td>\n",
       "      <td>4.0</td>\n",
       "      <td>Yes</td>\n",
       "      <td>0</td>\n",
       "    </tr>\n",
       "  </tbody>\n",
       "</table>\n",
       "</div>"
      ],
      "text/plain": [
       "   id      Name  Gender   Age           City Working Professional or Student  \\\n",
       "0   0  Aaradhya  Female  49.0       Ludhiana            Working Professional   \n",
       "1   1     Vivan    Male  26.0       Varanasi            Working Professional   \n",
       "2   2    Yuvraj    Male  33.0  Visakhapatnam                         Student   \n",
       "3   3    Yuvraj    Male  22.0         Mumbai            Working Professional   \n",
       "4   4      Rhea  Female  30.0         Kanpur            Working Professional   \n",
       "\n",
       "         Profession  Academic Pressure  Work Pressure  CGPA  \\\n",
       "0              Chef                NaN            5.0   NaN   \n",
       "1           Teacher                NaN            4.0   NaN   \n",
       "2               NaN                5.0            NaN  8.97   \n",
       "3           Teacher                NaN            5.0   NaN   \n",
       "4  Business Analyst                NaN            1.0   NaN   \n",
       "\n",
       "   Study Satisfaction  Job Satisfaction     Sleep Duration Dietary Habits  \\\n",
       "0                 NaN               2.0  More than 8 hours        Healthy   \n",
       "1                 NaN               3.0  Less than 5 hours      Unhealthy   \n",
       "2                 2.0               NaN          5-6 hours        Healthy   \n",
       "3                 NaN               1.0  Less than 5 hours       Moderate   \n",
       "4                 NaN               1.0          5-6 hours      Unhealthy   \n",
       "\n",
       "    Degree Have you ever had suicidal thoughts ?  Work/Study Hours  \\\n",
       "0      BHM                                    No               1.0   \n",
       "1      LLB                                   Yes               7.0   \n",
       "2  B.Pharm                                   Yes               3.0   \n",
       "3      BBA                                   Yes              10.0   \n",
       "4      BBA                                   Yes               9.0   \n",
       "\n",
       "   Financial Stress Family History of Mental Illness  Depression  \n",
       "0               2.0                               No           0  \n",
       "1               3.0                               No           1  \n",
       "2               1.0                               No           1  \n",
       "3               1.0                              Yes           1  \n",
       "4               4.0                              Yes           0  "
      ]
     },
     "execution_count": 3,
     "metadata": {},
     "output_type": "execute_result"
    }
   ],
   "source": [
    "train.head()"
   ]
  },
  {
   "cell_type": "code",
   "execution_count": 4,
   "id": "6cc62111-1bc0-4bc4-b30f-277aab3bad98",
   "metadata": {},
   "outputs": [
    {
     "data": {
      "text/plain": [
       "((140700, 20), (93800, 19), (93800, 2))"
      ]
     },
     "execution_count": 4,
     "metadata": {},
     "output_type": "execute_result"
    }
   ],
   "source": [
    "train.shape,test.shape,sample.shape"
   ]
  },
  {
   "cell_type": "code",
   "execution_count": 5,
   "id": "97af3cdf-6121-48c7-b3b4-4400af77a389",
   "metadata": {},
   "outputs": [],
   "source": [
    "original=pd.read_csv(\"final_depression_dataset_1.csv\")"
   ]
  },
  {
   "cell_type": "code",
   "execution_count": 6,
   "id": "0fef995f-86a4-4818-9765-05393f14d6dd",
   "metadata": {},
   "outputs": [
    {
     "data": {
      "text/plain": [
       "(2556, 19)"
      ]
     },
     "execution_count": 6,
     "metadata": {},
     "output_type": "execute_result"
    }
   ],
   "source": [
    "original.shape"
   ]
  },
  {
   "cell_type": "code",
   "execution_count": 7,
   "id": "b8c5690b-a927-40a0-9a13-41436b36b99a",
   "metadata": {},
   "outputs": [
    {
     "data": {
      "text/html": [
       "<div>\n",
       "<style scoped>\n",
       "    .dataframe tbody tr th:only-of-type {\n",
       "        vertical-align: middle;\n",
       "    }\n",
       "\n",
       "    .dataframe tbody tr th {\n",
       "        vertical-align: top;\n",
       "    }\n",
       "\n",
       "    .dataframe thead th {\n",
       "        text-align: right;\n",
       "    }\n",
       "</style>\n",
       "<table border=\"1\" class=\"dataframe\">\n",
       "  <thead>\n",
       "    <tr style=\"text-align: right;\">\n",
       "      <th></th>\n",
       "      <th>Name</th>\n",
       "      <th>Gender</th>\n",
       "      <th>Age</th>\n",
       "      <th>City</th>\n",
       "      <th>Working Professional or Student</th>\n",
       "      <th>Profession</th>\n",
       "      <th>Academic Pressure</th>\n",
       "      <th>Work Pressure</th>\n",
       "      <th>CGPA</th>\n",
       "      <th>Study Satisfaction</th>\n",
       "      <th>Job Satisfaction</th>\n",
       "      <th>Sleep Duration</th>\n",
       "      <th>Dietary Habits</th>\n",
       "      <th>Degree</th>\n",
       "      <th>Have you ever had suicidal thoughts ?</th>\n",
       "      <th>Work/Study Hours</th>\n",
       "      <th>Financial Stress</th>\n",
       "      <th>Family History of Mental Illness</th>\n",
       "      <th>Depression</th>\n",
       "    </tr>\n",
       "  </thead>\n",
       "  <tbody>\n",
       "    <tr>\n",
       "      <th>0</th>\n",
       "      <td>Pooja</td>\n",
       "      <td>Female</td>\n",
       "      <td>37</td>\n",
       "      <td>Ghaziabad</td>\n",
       "      <td>Working Professional</td>\n",
       "      <td>Teacher</td>\n",
       "      <td>NaN</td>\n",
       "      <td>2.0</td>\n",
       "      <td>NaN</td>\n",
       "      <td>NaN</td>\n",
       "      <td>4.0</td>\n",
       "      <td>7-8 hours</td>\n",
       "      <td>Moderate</td>\n",
       "      <td>MA</td>\n",
       "      <td>No</td>\n",
       "      <td>6</td>\n",
       "      <td>2</td>\n",
       "      <td>No</td>\n",
       "      <td>No</td>\n",
       "    </tr>\n",
       "    <tr>\n",
       "      <th>1</th>\n",
       "      <td>Reyansh</td>\n",
       "      <td>Male</td>\n",
       "      <td>60</td>\n",
       "      <td>Kalyan</td>\n",
       "      <td>Working Professional</td>\n",
       "      <td>Financial Analyst</td>\n",
       "      <td>NaN</td>\n",
       "      <td>4.0</td>\n",
       "      <td>NaN</td>\n",
       "      <td>NaN</td>\n",
       "      <td>3.0</td>\n",
       "      <td>5-6 hours</td>\n",
       "      <td>Unhealthy</td>\n",
       "      <td>B.Com</td>\n",
       "      <td>Yes</td>\n",
       "      <td>0</td>\n",
       "      <td>4</td>\n",
       "      <td>Yes</td>\n",
       "      <td>No</td>\n",
       "    </tr>\n",
       "    <tr>\n",
       "      <th>2</th>\n",
       "      <td>Manvi</td>\n",
       "      <td>Female</td>\n",
       "      <td>42</td>\n",
       "      <td>Bhopal</td>\n",
       "      <td>Working Professional</td>\n",
       "      <td>Teacher</td>\n",
       "      <td>NaN</td>\n",
       "      <td>2.0</td>\n",
       "      <td>NaN</td>\n",
       "      <td>NaN</td>\n",
       "      <td>3.0</td>\n",
       "      <td>5-6 hours</td>\n",
       "      <td>Moderate</td>\n",
       "      <td>M.Com</td>\n",
       "      <td>No</td>\n",
       "      <td>0</td>\n",
       "      <td>2</td>\n",
       "      <td>No</td>\n",
       "      <td>No</td>\n",
       "    </tr>\n",
       "    <tr>\n",
       "      <th>3</th>\n",
       "      <td>Isha</td>\n",
       "      <td>Female</td>\n",
       "      <td>44</td>\n",
       "      <td>Thane</td>\n",
       "      <td>Working Professional</td>\n",
       "      <td>Teacher</td>\n",
       "      <td>NaN</td>\n",
       "      <td>3.0</td>\n",
       "      <td>NaN</td>\n",
       "      <td>NaN</td>\n",
       "      <td>5.0</td>\n",
       "      <td>7-8 hours</td>\n",
       "      <td>Healthy</td>\n",
       "      <td>MD</td>\n",
       "      <td>Yes</td>\n",
       "      <td>1</td>\n",
       "      <td>2</td>\n",
       "      <td>Yes</td>\n",
       "      <td>No</td>\n",
       "    </tr>\n",
       "    <tr>\n",
       "      <th>4</th>\n",
       "      <td>Aarav</td>\n",
       "      <td>Male</td>\n",
       "      <td>48</td>\n",
       "      <td>Indore</td>\n",
       "      <td>Working Professional</td>\n",
       "      <td>UX/UI Designer</td>\n",
       "      <td>NaN</td>\n",
       "      <td>4.0</td>\n",
       "      <td>NaN</td>\n",
       "      <td>NaN</td>\n",
       "      <td>3.0</td>\n",
       "      <td>7-8 hours</td>\n",
       "      <td>Moderate</td>\n",
       "      <td>BE</td>\n",
       "      <td>Yes</td>\n",
       "      <td>6</td>\n",
       "      <td>5</td>\n",
       "      <td>Yes</td>\n",
       "      <td>No</td>\n",
       "    </tr>\n",
       "  </tbody>\n",
       "</table>\n",
       "</div>"
      ],
      "text/plain": [
       "      Name  Gender  Age       City Working Professional or Student  \\\n",
       "0    Pooja  Female   37  Ghaziabad            Working Professional   \n",
       "1  Reyansh    Male   60     Kalyan            Working Professional   \n",
       "2    Manvi  Female   42     Bhopal            Working Professional   \n",
       "3     Isha  Female   44      Thane            Working Professional   \n",
       "4    Aarav    Male   48     Indore            Working Professional   \n",
       "\n",
       "          Profession  Academic Pressure  Work Pressure  CGPA  \\\n",
       "0            Teacher                NaN            2.0   NaN   \n",
       "1  Financial Analyst                NaN            4.0   NaN   \n",
       "2            Teacher                NaN            2.0   NaN   \n",
       "3            Teacher                NaN            3.0   NaN   \n",
       "4     UX/UI Designer                NaN            4.0   NaN   \n",
       "\n",
       "   Study Satisfaction  Job Satisfaction Sleep Duration Dietary Habits Degree  \\\n",
       "0                 NaN               4.0      7-8 hours       Moderate     MA   \n",
       "1                 NaN               3.0      5-6 hours      Unhealthy  B.Com   \n",
       "2                 NaN               3.0      5-6 hours       Moderate  M.Com   \n",
       "3                 NaN               5.0      7-8 hours        Healthy     MD   \n",
       "4                 NaN               3.0      7-8 hours       Moderate     BE   \n",
       "\n",
       "  Have you ever had suicidal thoughts ?  Work/Study Hours  Financial Stress  \\\n",
       "0                                    No                 6                 2   \n",
       "1                                   Yes                 0                 4   \n",
       "2                                    No                 0                 2   \n",
       "3                                   Yes                 1                 2   \n",
       "4                                   Yes                 6                 5   \n",
       "\n",
       "  Family History of Mental Illness Depression  \n",
       "0                               No         No  \n",
       "1                              Yes         No  \n",
       "2                               No         No  \n",
       "3                              Yes         No  \n",
       "4                              Yes         No  "
      ]
     },
     "execution_count": 7,
     "metadata": {},
     "output_type": "execute_result"
    }
   ],
   "source": [
    "original.head()"
   ]
  },
  {
   "cell_type": "code",
   "execution_count": 8,
   "id": "c136e8f8-17a0-4001-afe9-1885385686f9",
   "metadata": {},
   "outputs": [],
   "source": [
    "df = train.copy()"
   ]
  },
  {
   "cell_type": "code",
   "execution_count": 9,
   "id": "909a9c5e-8b7e-4f3b-a952-305e33b078d0",
   "metadata": {},
   "outputs": [
    {
     "data": {
      "text/plain": [
       "id                                            0\n",
       "Name                                          0\n",
       "Gender                                        0\n",
       "Age                                           0\n",
       "City                                          0\n",
       "Working Professional or Student               0\n",
       "Profession                                36630\n",
       "Academic Pressure                        112803\n",
       "Work Pressure                             27918\n",
       "CGPA                                     112802\n",
       "Study Satisfaction                       112803\n",
       "Job Satisfaction                          27910\n",
       "Sleep Duration                                0\n",
       "Dietary Habits                                4\n",
       "Degree                                        2\n",
       "Have you ever had suicidal thoughts ?         0\n",
       "Work/Study Hours                              0\n",
       "Financial Stress                              4\n",
       "Family History of Mental Illness              0\n",
       "Depression                                    0\n",
       "dtype: int64"
      ]
     },
     "execution_count": 9,
     "metadata": {},
     "output_type": "execute_result"
    }
   ],
   "source": [
    "df.isnull().sum()"
   ]
  },
  {
   "cell_type": "code",
   "execution_count": 10,
   "id": "2980fa9a-b1c3-4083-891a-f933888a3050",
   "metadata": {},
   "outputs": [
    {
     "data": {
      "text/plain": [
       "id                                           0\n",
       "Name                                         0\n",
       "Gender                                       0\n",
       "Age                                          0\n",
       "City                                         0\n",
       "Working Professional or Student              0\n",
       "Profession                               24632\n",
       "Academic Pressure                        75033\n",
       "Work Pressure                            18778\n",
       "CGPA                                     75034\n",
       "Study Satisfaction                       75033\n",
       "Job Satisfaction                         18774\n",
       "Sleep Duration                               0\n",
       "Dietary Habits                               5\n",
       "Degree                                       2\n",
       "Have you ever had suicidal thoughts ?        0\n",
       "Work/Study Hours                             0\n",
       "Financial Stress                             0\n",
       "Family History of Mental Illness             0\n",
       "dtype: int64"
      ]
     },
     "execution_count": 10,
     "metadata": {},
     "output_type": "execute_result"
    }
   ],
   "source": [
    "test.isnull().sum()"
   ]
  },
  {
   "cell_type": "code",
   "execution_count": 11,
   "id": "3302417b-0e44-4689-9c61-0d6246318517",
   "metadata": {},
   "outputs": [
    {
     "data": {
      "text/html": [
       "<div>\n",
       "<style scoped>\n",
       "    .dataframe tbody tr th:only-of-type {\n",
       "        vertical-align: middle;\n",
       "    }\n",
       "\n",
       "    .dataframe tbody tr th {\n",
       "        vertical-align: top;\n",
       "    }\n",
       "\n",
       "    .dataframe thead th {\n",
       "        text-align: right;\n",
       "    }\n",
       "</style>\n",
       "<table border=\"1\" class=\"dataframe\">\n",
       "  <thead>\n",
       "    <tr style=\"text-align: right;\">\n",
       "      <th></th>\n",
       "      <th>id</th>\n",
       "      <th>Name</th>\n",
       "      <th>Gender</th>\n",
       "      <th>Age</th>\n",
       "      <th>City</th>\n",
       "      <th>Working Professional or Student</th>\n",
       "      <th>Profession</th>\n",
       "      <th>Academic Pressure</th>\n",
       "      <th>Work Pressure</th>\n",
       "      <th>CGPA</th>\n",
       "      <th>Study Satisfaction</th>\n",
       "      <th>Job Satisfaction</th>\n",
       "      <th>Sleep Duration</th>\n",
       "      <th>Dietary Habits</th>\n",
       "      <th>Degree</th>\n",
       "      <th>Have you ever had suicidal thoughts ?</th>\n",
       "      <th>Work/Study Hours</th>\n",
       "      <th>Financial Stress</th>\n",
       "      <th>Family History of Mental Illness</th>\n",
       "      <th>Depression</th>\n",
       "    </tr>\n",
       "  </thead>\n",
       "  <tbody>\n",
       "    <tr>\n",
       "      <th>0</th>\n",
       "      <td>0</td>\n",
       "      <td>Aaradhya</td>\n",
       "      <td>Female</td>\n",
       "      <td>49.0</td>\n",
       "      <td>Ludhiana</td>\n",
       "      <td>Working Professional</td>\n",
       "      <td>Chef</td>\n",
       "      <td>NaN</td>\n",
       "      <td>5.0</td>\n",
       "      <td>NaN</td>\n",
       "      <td>NaN</td>\n",
       "      <td>2.0</td>\n",
       "      <td>More than 8 hours</td>\n",
       "      <td>Healthy</td>\n",
       "      <td>BHM</td>\n",
       "      <td>No</td>\n",
       "      <td>1.0</td>\n",
       "      <td>2.0</td>\n",
       "      <td>No</td>\n",
       "      <td>0</td>\n",
       "    </tr>\n",
       "    <tr>\n",
       "      <th>1</th>\n",
       "      <td>1</td>\n",
       "      <td>Vivan</td>\n",
       "      <td>Male</td>\n",
       "      <td>26.0</td>\n",
       "      <td>Varanasi</td>\n",
       "      <td>Working Professional</td>\n",
       "      <td>Teacher</td>\n",
       "      <td>NaN</td>\n",
       "      <td>4.0</td>\n",
       "      <td>NaN</td>\n",
       "      <td>NaN</td>\n",
       "      <td>3.0</td>\n",
       "      <td>Less than 5 hours</td>\n",
       "      <td>Unhealthy</td>\n",
       "      <td>LLB</td>\n",
       "      <td>Yes</td>\n",
       "      <td>7.0</td>\n",
       "      <td>3.0</td>\n",
       "      <td>No</td>\n",
       "      <td>1</td>\n",
       "    </tr>\n",
       "    <tr>\n",
       "      <th>2</th>\n",
       "      <td>2</td>\n",
       "      <td>Yuvraj</td>\n",
       "      <td>Male</td>\n",
       "      <td>33.0</td>\n",
       "      <td>Visakhapatnam</td>\n",
       "      <td>Student</td>\n",
       "      <td>NaN</td>\n",
       "      <td>5.0</td>\n",
       "      <td>NaN</td>\n",
       "      <td>8.97</td>\n",
       "      <td>2.0</td>\n",
       "      <td>NaN</td>\n",
       "      <td>5-6 hours</td>\n",
       "      <td>Healthy</td>\n",
       "      <td>B.Pharm</td>\n",
       "      <td>Yes</td>\n",
       "      <td>3.0</td>\n",
       "      <td>1.0</td>\n",
       "      <td>No</td>\n",
       "      <td>1</td>\n",
       "    </tr>\n",
       "    <tr>\n",
       "      <th>3</th>\n",
       "      <td>3</td>\n",
       "      <td>Yuvraj</td>\n",
       "      <td>Male</td>\n",
       "      <td>22.0</td>\n",
       "      <td>Mumbai</td>\n",
       "      <td>Working Professional</td>\n",
       "      <td>Teacher</td>\n",
       "      <td>NaN</td>\n",
       "      <td>5.0</td>\n",
       "      <td>NaN</td>\n",
       "      <td>NaN</td>\n",
       "      <td>1.0</td>\n",
       "      <td>Less than 5 hours</td>\n",
       "      <td>Moderate</td>\n",
       "      <td>BBA</td>\n",
       "      <td>Yes</td>\n",
       "      <td>10.0</td>\n",
       "      <td>1.0</td>\n",
       "      <td>Yes</td>\n",
       "      <td>1</td>\n",
       "    </tr>\n",
       "    <tr>\n",
       "      <th>4</th>\n",
       "      <td>4</td>\n",
       "      <td>Rhea</td>\n",
       "      <td>Female</td>\n",
       "      <td>30.0</td>\n",
       "      <td>Kanpur</td>\n",
       "      <td>Working Professional</td>\n",
       "      <td>Business Analyst</td>\n",
       "      <td>NaN</td>\n",
       "      <td>1.0</td>\n",
       "      <td>NaN</td>\n",
       "      <td>NaN</td>\n",
       "      <td>1.0</td>\n",
       "      <td>5-6 hours</td>\n",
       "      <td>Unhealthy</td>\n",
       "      <td>BBA</td>\n",
       "      <td>Yes</td>\n",
       "      <td>9.0</td>\n",
       "      <td>4.0</td>\n",
       "      <td>Yes</td>\n",
       "      <td>0</td>\n",
       "    </tr>\n",
       "  </tbody>\n",
       "</table>\n",
       "</div>"
      ],
      "text/plain": [
       "   id      Name  Gender   Age           City Working Professional or Student  \\\n",
       "0   0  Aaradhya  Female  49.0       Ludhiana            Working Professional   \n",
       "1   1     Vivan    Male  26.0       Varanasi            Working Professional   \n",
       "2   2    Yuvraj    Male  33.0  Visakhapatnam                         Student   \n",
       "3   3    Yuvraj    Male  22.0         Mumbai            Working Professional   \n",
       "4   4      Rhea  Female  30.0         Kanpur            Working Professional   \n",
       "\n",
       "         Profession  Academic Pressure  Work Pressure  CGPA  \\\n",
       "0              Chef                NaN            5.0   NaN   \n",
       "1           Teacher                NaN            4.0   NaN   \n",
       "2               NaN                5.0            NaN  8.97   \n",
       "3           Teacher                NaN            5.0   NaN   \n",
       "4  Business Analyst                NaN            1.0   NaN   \n",
       "\n",
       "   Study Satisfaction  Job Satisfaction     Sleep Duration Dietary Habits  \\\n",
       "0                 NaN               2.0  More than 8 hours        Healthy   \n",
       "1                 NaN               3.0  Less than 5 hours      Unhealthy   \n",
       "2                 2.0               NaN          5-6 hours        Healthy   \n",
       "3                 NaN               1.0  Less than 5 hours       Moderate   \n",
       "4                 NaN               1.0          5-6 hours      Unhealthy   \n",
       "\n",
       "    Degree Have you ever had suicidal thoughts ?  Work/Study Hours  \\\n",
       "0      BHM                                    No               1.0   \n",
       "1      LLB                                   Yes               7.0   \n",
       "2  B.Pharm                                   Yes               3.0   \n",
       "3      BBA                                   Yes              10.0   \n",
       "4      BBA                                   Yes               9.0   \n",
       "\n",
       "   Financial Stress Family History of Mental Illness  Depression  \n",
       "0               2.0                               No           0  \n",
       "1               3.0                               No           1  \n",
       "2               1.0                               No           1  \n",
       "3               1.0                              Yes           1  \n",
       "4               4.0                              Yes           0  "
      ]
     },
     "execution_count": 11,
     "metadata": {},
     "output_type": "execute_result"
    }
   ],
   "source": [
    "train.head()"
   ]
  },
  {
   "cell_type": "code",
   "execution_count": 12,
   "id": "5ec1381b-8d04-4270-98dd-c4839c1bc9a6",
   "metadata": {},
   "outputs": [
    {
     "data": {
      "text/plain": [
       "Profession\n",
       "Teacher           24906\n",
       "Content Writer     7814\n",
       "Architect          4370\n",
       "Consultant         4229\n",
       "HR Manager         4022\n",
       "                  ...  \n",
       "BBA                   1\n",
       "City Manager          1\n",
       "FamilyVirar           1\n",
       "B.Com                 1\n",
       "Yuvraj                1\n",
       "Name: count, Length: 64, dtype: int64"
      ]
     },
     "execution_count": 12,
     "metadata": {},
     "output_type": "execute_result"
    }
   ],
   "source": [
    "train['Profession'].value_counts()"
   ]
  },
  {
   "cell_type": "code",
   "execution_count": 13,
   "id": "4c017816-fe5f-45d4-b5d7-cc81b0f9c5db",
   "metadata": {},
   "outputs": [
    {
     "data": {
      "text/plain": [
       "Profession\n",
       "Teacher           16385\n",
       "Content Writer     5187\n",
       "Architect          2982\n",
       "Consultant         2920\n",
       "Pharmacist         2656\n",
       "                  ...  \n",
       "Manvi                 1\n",
       "24th                  1\n",
       "ME                    1\n",
       "3M                    1\n",
       "M.Pharm               1\n",
       "Name: count, Length: 64, dtype: int64"
      ]
     },
     "execution_count": 13,
     "metadata": {},
     "output_type": "execute_result"
    }
   ],
   "source": [
    "test['Profession'].value_counts()"
   ]
  },
  {
   "cell_type": "markdown",
   "id": "16292af1-cd5b-477a-84a8-a56c55a37013",
   "metadata": {},
   "source": [
    "## Limpar a colunas 'Profession' do train"
   ]
  },
  {
   "cell_type": "code",
   "execution_count": 14,
   "id": "57cde456-9b77-4285-bdb1-cb1c33803809",
   "metadata": {},
   "outputs": [],
   "source": [
    "import numpy as np\n",
    "\n",
    "# Substituir NaN por 'Student'\n",
    "df['Profession'] = df['Profession'].fillna('Student')\n",
    "\n",
    "# Substituir 'Academic' por 'Student'\n",
    "df['Profession'] = df['Profession'].replace('Academic', 'Student')"
   ]
  },
  {
   "cell_type": "code",
   "execution_count": 15,
   "id": "8ddcfb39-e139-4296-8375-5696f648c632",
   "metadata": {},
   "outputs": [],
   "source": [
    "# Contar ocorrências de cada profissão, ignorando NaN\n",
    "profession_counts = df['Profession'].value_counts()\n",
    "\n",
    "# Substituir profissões com menos de 10 ocorrências ou NaN por 'Outros'\n",
    "df['Profession'] = df['Profession'].apply(lambda x: x if pd.notna(x) and profession_counts.get(x, 0) >= 5 else 'Outros')\n"
   ]
  },
  {
   "cell_type": "code",
   "execution_count": 16,
   "id": "3746ee74-8a7c-4524-8232-293f594aab47",
   "metadata": {},
   "outputs": [
    {
     "data": {
      "text/plain": [
       "Profession\n",
       "Student                   36642\n",
       "Teacher                   24906\n",
       "Content Writer             7814\n",
       "Architect                  4370\n",
       "Consultant                 4229\n",
       "HR Manager                 4022\n",
       "Pharmacist                 3893\n",
       "Doctor                     3255\n",
       "Business Analyst           3161\n",
       "Entrepreneur               2968\n",
       "Chemist                    2967\n",
       "Chef                       2862\n",
       "Educational Consultant     2852\n",
       "Data Scientist             2390\n",
       "Researcher                 2328\n",
       "Lawyer                     2212\n",
       "Customer Support           2055\n",
       "Marketing Manager          1976\n",
       "Pilot                      1913\n",
       "Travel Consultant          1860\n",
       "Plumber                    1748\n",
       "Sales Executive            1739\n",
       "Manager                    1737\n",
       "Judge                      1712\n",
       "Electrician                1582\n",
       "Financial Analyst          1574\n",
       "Software Engineer          1510\n",
       "Civil Engineer             1470\n",
       "UX/UI Designer             1452\n",
       "Digital Marketer           1372\n",
       "Accountant                 1339\n",
       "Finanancial Analyst        1329\n",
       "Mechanical Engineer        1177\n",
       "Graphic Designer           1163\n",
       "Research Analyst            690\n",
       "Investment Banker           393\n",
       "Outros                       38\n",
       "Name: count, dtype: int64"
      ]
     },
     "execution_count": 16,
     "metadata": {},
     "output_type": "execute_result"
    }
   ],
   "source": [
    "df['Profession'].value_counts()"
   ]
  },
  {
   "cell_type": "markdown",
   "id": "40e81519-f510-41b6-9d37-53e8b04afbe2",
   "metadata": {},
   "source": [
    "## Limpar a colunas 'Profession' do test"
   ]
  },
  {
   "cell_type": "code",
   "execution_count": 17,
   "id": "0c58f4af-3861-48e6-9db4-010bfc3cfff3",
   "metadata": {},
   "outputs": [],
   "source": [
    "# Substituir NaN por 'Student'\n",
    "test['Profession'] = test['Profession'].fillna('Student')\n",
    "\n",
    "# Substituir 'Academic' por 'Student'\n",
    "test['Profession'] = test['Profession'].replace('Academic', 'Student')"
   ]
  },
  {
   "cell_type": "code",
   "execution_count": 18,
   "id": "c35e0c4e-f2b6-4ced-b20c-f2c2df71e100",
   "metadata": {},
   "outputs": [],
   "source": [
    "# Contar ocorrências de cada profissão, ignorando NaN\n",
    "profession_counts = test['Profession'].value_counts()\n",
    "\n",
    "# Substituir profissões com menos de 10 ocorrências ou NaN por 'Outros'\n",
    "test['Profession'] = test['Profession'].apply(lambda x: x if pd.notna(x) and profession_counts.get(x, 0) >= 5 else 'Outros')"
   ]
  },
  {
   "cell_type": "code",
   "execution_count": 19,
   "id": "270eff44-dd93-405b-9d07-e398ba9aeabe",
   "metadata": {},
   "outputs": [
    {
     "data": {
      "text/plain": [
       "Profession\n",
       "Student                   24640\n",
       "Teacher                   16385\n",
       "Content Writer             5187\n",
       "Architect                  2982\n",
       "Consultant                 2920\n",
       "Pharmacist                 2656\n",
       "HR Manager                 2601\n",
       "Doctor                     2198\n",
       "Business Analyst           2186\n",
       "Chemist                    1967\n",
       "Entrepreneur               1935\n",
       "Chef                       1844\n",
       "Educational Consultant     1827\n",
       "Data Scientist             1582\n",
       "Lawyer                     1497\n",
       "Researcher                 1496\n",
       "Pilot                      1448\n",
       "Customer Support           1422\n",
       "Marketing Manager          1284\n",
       "Judge                      1189\n",
       "Travel Consultant          1188\n",
       "Manager                    1155\n",
       "Sales Executive            1139\n",
       "Plumber                    1123\n",
       "Electrician                1121\n",
       "Financial Analyst          1048\n",
       "Software Engineer          1002\n",
       "Digital Marketer            942\n",
       "Civil Engineer              938\n",
       "UX/UI Designer              915\n",
       "Finanancial Analyst         894\n",
       "Accountant                  853\n",
       "Mechanical Engineer         800\n",
       "Graphic Designer            720\n",
       "Research Analyst            423\n",
       "Investment Banker           257\n",
       "Outros                       36\n",
       "Name: count, dtype: int64"
      ]
     },
     "execution_count": 19,
     "metadata": {},
     "output_type": "execute_result"
    }
   ],
   "source": [
    "test['Profession'].value_counts()"
   ]
  },
  {
   "cell_type": "markdown",
   "id": "4c7d92c3-6cc0-42d9-8d26-428955554f33",
   "metadata": {},
   "source": [
    "## Limpar a colunas 'Academic Pressure' e 'Work Pressure' do train"
   ]
  },
  {
   "cell_type": "code",
   "execution_count": 20,
   "id": "86008204-e8d7-4170-ae00-085f64d0d588",
   "metadata": {},
   "outputs": [],
   "source": [
    "# Criar a coluna 'Pressure' dando prioridade para 'Academic Pressure' quando ambas têm valor\n",
    "df['Pressure'] = df['Academic Pressure'].combine_first(df['Work Pressure'])\n"
   ]
  },
  {
   "cell_type": "code",
   "execution_count": 21,
   "id": "79f87d71-b24c-4689-91e2-f66cb55d6c6d",
   "metadata": {},
   "outputs": [
    {
     "data": {
      "text/html": [
       "<div>\n",
       "<style scoped>\n",
       "    .dataframe tbody tr th:only-of-type {\n",
       "        vertical-align: middle;\n",
       "    }\n",
       "\n",
       "    .dataframe tbody tr th {\n",
       "        vertical-align: top;\n",
       "    }\n",
       "\n",
       "    .dataframe thead th {\n",
       "        text-align: right;\n",
       "    }\n",
       "</style>\n",
       "<table border=\"1\" class=\"dataframe\">\n",
       "  <thead>\n",
       "    <tr style=\"text-align: right;\">\n",
       "      <th></th>\n",
       "      <th>id</th>\n",
       "      <th>Name</th>\n",
       "      <th>Gender</th>\n",
       "      <th>Age</th>\n",
       "      <th>City</th>\n",
       "      <th>Working Professional or Student</th>\n",
       "      <th>Profession</th>\n",
       "      <th>Academic Pressure</th>\n",
       "      <th>Work Pressure</th>\n",
       "      <th>CGPA</th>\n",
       "      <th>...</th>\n",
       "      <th>Job Satisfaction</th>\n",
       "      <th>Sleep Duration</th>\n",
       "      <th>Dietary Habits</th>\n",
       "      <th>Degree</th>\n",
       "      <th>Have you ever had suicidal thoughts ?</th>\n",
       "      <th>Work/Study Hours</th>\n",
       "      <th>Financial Stress</th>\n",
       "      <th>Family History of Mental Illness</th>\n",
       "      <th>Depression</th>\n",
       "      <th>Pressure</th>\n",
       "    </tr>\n",
       "  </thead>\n",
       "  <tbody>\n",
       "    <tr>\n",
       "      <th>140219</th>\n",
       "      <td>140219</td>\n",
       "      <td>Ishan</td>\n",
       "      <td>Male</td>\n",
       "      <td>27.0</td>\n",
       "      <td>Kalyan</td>\n",
       "      <td>Working Professional</td>\n",
       "      <td>Teacher</td>\n",
       "      <td>NaN</td>\n",
       "      <td>4.0</td>\n",
       "      <td>NaN</td>\n",
       "      <td>...</td>\n",
       "      <td>1.0</td>\n",
       "      <td>Less than 5 hours</td>\n",
       "      <td>Unhealthy</td>\n",
       "      <td>BSc</td>\n",
       "      <td>Yes</td>\n",
       "      <td>12.0</td>\n",
       "      <td>5.0</td>\n",
       "      <td>No</td>\n",
       "      <td>1</td>\n",
       "      <td>4.0</td>\n",
       "    </tr>\n",
       "    <tr>\n",
       "      <th>103613</th>\n",
       "      <td>103613</td>\n",
       "      <td>Asha</td>\n",
       "      <td>Female</td>\n",
       "      <td>51.0</td>\n",
       "      <td>Nagpur</td>\n",
       "      <td>Working Professional</td>\n",
       "      <td>Content Writer</td>\n",
       "      <td>NaN</td>\n",
       "      <td>5.0</td>\n",
       "      <td>NaN</td>\n",
       "      <td>...</td>\n",
       "      <td>1.0</td>\n",
       "      <td>7-8 hours</td>\n",
       "      <td>Moderate</td>\n",
       "      <td>B.Ed</td>\n",
       "      <td>Yes</td>\n",
       "      <td>2.0</td>\n",
       "      <td>1.0</td>\n",
       "      <td>Yes</td>\n",
       "      <td>0</td>\n",
       "      <td>5.0</td>\n",
       "    </tr>\n",
       "    <tr>\n",
       "      <th>138216</th>\n",
       "      <td>138216</td>\n",
       "      <td>Ansh</td>\n",
       "      <td>Male</td>\n",
       "      <td>56.0</td>\n",
       "      <td>Meerut</td>\n",
       "      <td>Working Professional</td>\n",
       "      <td>Teacher</td>\n",
       "      <td>NaN</td>\n",
       "      <td>2.0</td>\n",
       "      <td>NaN</td>\n",
       "      <td>...</td>\n",
       "      <td>4.0</td>\n",
       "      <td>7-8 hours</td>\n",
       "      <td>Unhealthy</td>\n",
       "      <td>M.Ed</td>\n",
       "      <td>Yes</td>\n",
       "      <td>2.0</td>\n",
       "      <td>4.0</td>\n",
       "      <td>No</td>\n",
       "      <td>0</td>\n",
       "      <td>2.0</td>\n",
       "    </tr>\n",
       "    <tr>\n",
       "      <th>121155</th>\n",
       "      <td>121155</td>\n",
       "      <td>Aarohi</td>\n",
       "      <td>Female</td>\n",
       "      <td>59.0</td>\n",
       "      <td>Chennai</td>\n",
       "      <td>Working Professional</td>\n",
       "      <td>Educational Consultant</td>\n",
       "      <td>NaN</td>\n",
       "      <td>2.0</td>\n",
       "      <td>NaN</td>\n",
       "      <td>...</td>\n",
       "      <td>5.0</td>\n",
       "      <td>7-8 hours</td>\n",
       "      <td>Moderate</td>\n",
       "      <td>B.Ed</td>\n",
       "      <td>No</td>\n",
       "      <td>1.0</td>\n",
       "      <td>4.0</td>\n",
       "      <td>Yes</td>\n",
       "      <td>0</td>\n",
       "      <td>2.0</td>\n",
       "    </tr>\n",
       "    <tr>\n",
       "      <th>24706</th>\n",
       "      <td>24706</td>\n",
       "      <td>Aadhya</td>\n",
       "      <td>Female</td>\n",
       "      <td>39.0</td>\n",
       "      <td>Bhopal</td>\n",
       "      <td>Working Professional</td>\n",
       "      <td>Entrepreneur</td>\n",
       "      <td>NaN</td>\n",
       "      <td>3.0</td>\n",
       "      <td>NaN</td>\n",
       "      <td>...</td>\n",
       "      <td>2.0</td>\n",
       "      <td>Less than 5 hours</td>\n",
       "      <td>Moderate</td>\n",
       "      <td>BBA</td>\n",
       "      <td>Yes</td>\n",
       "      <td>9.0</td>\n",
       "      <td>2.0</td>\n",
       "      <td>No</td>\n",
       "      <td>0</td>\n",
       "      <td>3.0</td>\n",
       "    </tr>\n",
       "    <tr>\n",
       "      <th>81467</th>\n",
       "      <td>81467</td>\n",
       "      <td>Kashish</td>\n",
       "      <td>Female</td>\n",
       "      <td>30.0</td>\n",
       "      <td>Patna</td>\n",
       "      <td>Working Professional</td>\n",
       "      <td>Pharmacist</td>\n",
       "      <td>NaN</td>\n",
       "      <td>5.0</td>\n",
       "      <td>NaN</td>\n",
       "      <td>...</td>\n",
       "      <td>1.0</td>\n",
       "      <td>More than 8 hours</td>\n",
       "      <td>Healthy</td>\n",
       "      <td>B.Pharm</td>\n",
       "      <td>Yes</td>\n",
       "      <td>0.0</td>\n",
       "      <td>2.0</td>\n",
       "      <td>Yes</td>\n",
       "      <td>0</td>\n",
       "      <td>5.0</td>\n",
       "    </tr>\n",
       "    <tr>\n",
       "      <th>119172</th>\n",
       "      <td>119172</td>\n",
       "      <td>Pratyush</td>\n",
       "      <td>Male</td>\n",
       "      <td>43.0</td>\n",
       "      <td>Srinagar</td>\n",
       "      <td>Working Professional</td>\n",
       "      <td>Teacher</td>\n",
       "      <td>NaN</td>\n",
       "      <td>1.0</td>\n",
       "      <td>NaN</td>\n",
       "      <td>...</td>\n",
       "      <td>4.0</td>\n",
       "      <td>7-8 hours</td>\n",
       "      <td>Healthy</td>\n",
       "      <td>B.Pharm</td>\n",
       "      <td>No</td>\n",
       "      <td>7.0</td>\n",
       "      <td>2.0</td>\n",
       "      <td>Yes</td>\n",
       "      <td>0</td>\n",
       "      <td>1.0</td>\n",
       "    </tr>\n",
       "    <tr>\n",
       "      <th>104328</th>\n",
       "      <td>104328</td>\n",
       "      <td>Siddharth</td>\n",
       "      <td>Male</td>\n",
       "      <td>43.0</td>\n",
       "      <td>Ludhiana</td>\n",
       "      <td>Working Professional</td>\n",
       "      <td>Mechanical Engineer</td>\n",
       "      <td>NaN</td>\n",
       "      <td>4.0</td>\n",
       "      <td>NaN</td>\n",
       "      <td>...</td>\n",
       "      <td>4.0</td>\n",
       "      <td>More than 8 hours</td>\n",
       "      <td>Unhealthy</td>\n",
       "      <td>MCA</td>\n",
       "      <td>No</td>\n",
       "      <td>9.0</td>\n",
       "      <td>2.0</td>\n",
       "      <td>No</td>\n",
       "      <td>0</td>\n",
       "      <td>4.0</td>\n",
       "    </tr>\n",
       "    <tr>\n",
       "      <th>98655</th>\n",
       "      <td>98655</td>\n",
       "      <td>Tushar</td>\n",
       "      <td>Male</td>\n",
       "      <td>55.0</td>\n",
       "      <td>Nashik</td>\n",
       "      <td>Working Professional</td>\n",
       "      <td>Sales Executive</td>\n",
       "      <td>NaN</td>\n",
       "      <td>3.0</td>\n",
       "      <td>NaN</td>\n",
       "      <td>...</td>\n",
       "      <td>3.0</td>\n",
       "      <td>7-8 hours</td>\n",
       "      <td>Unhealthy</td>\n",
       "      <td>B.Com</td>\n",
       "      <td>No</td>\n",
       "      <td>10.0</td>\n",
       "      <td>4.0</td>\n",
       "      <td>Yes</td>\n",
       "      <td>0</td>\n",
       "      <td>3.0</td>\n",
       "    </tr>\n",
       "    <tr>\n",
       "      <th>62898</th>\n",
       "      <td>62898</td>\n",
       "      <td>Sanya</td>\n",
       "      <td>Female</td>\n",
       "      <td>52.0</td>\n",
       "      <td>Vasai-Virar</td>\n",
       "      <td>Working Professional</td>\n",
       "      <td>Teacher</td>\n",
       "      <td>NaN</td>\n",
       "      <td>3.0</td>\n",
       "      <td>NaN</td>\n",
       "      <td>...</td>\n",
       "      <td>5.0</td>\n",
       "      <td>7-8 hours</td>\n",
       "      <td>Unhealthy</td>\n",
       "      <td>B.Ed</td>\n",
       "      <td>Yes</td>\n",
       "      <td>10.0</td>\n",
       "      <td>5.0</td>\n",
       "      <td>No</td>\n",
       "      <td>0</td>\n",
       "      <td>3.0</td>\n",
       "    </tr>\n",
       "  </tbody>\n",
       "</table>\n",
       "<p>10 rows × 21 columns</p>\n",
       "</div>"
      ],
      "text/plain": [
       "            id       Name  Gender   Age         City  \\\n",
       "140219  140219      Ishan    Male  27.0       Kalyan   \n",
       "103613  103613       Asha  Female  51.0       Nagpur   \n",
       "138216  138216       Ansh    Male  56.0       Meerut   \n",
       "121155  121155     Aarohi  Female  59.0      Chennai   \n",
       "24706    24706     Aadhya  Female  39.0       Bhopal   \n",
       "81467    81467    Kashish  Female  30.0        Patna   \n",
       "119172  119172   Pratyush    Male  43.0     Srinagar   \n",
       "104328  104328  Siddharth    Male  43.0     Ludhiana   \n",
       "98655    98655     Tushar    Male  55.0       Nashik   \n",
       "62898    62898      Sanya  Female  52.0  Vasai-Virar   \n",
       "\n",
       "       Working Professional or Student              Profession  \\\n",
       "140219            Working Professional                 Teacher   \n",
       "103613            Working Professional          Content Writer   \n",
       "138216            Working Professional                 Teacher   \n",
       "121155            Working Professional  Educational Consultant   \n",
       "24706             Working Professional            Entrepreneur   \n",
       "81467             Working Professional              Pharmacist   \n",
       "119172            Working Professional                 Teacher   \n",
       "104328            Working Professional     Mechanical Engineer   \n",
       "98655             Working Professional         Sales Executive   \n",
       "62898             Working Professional                 Teacher   \n",
       "\n",
       "        Academic Pressure  Work Pressure  CGPA  ...  Job Satisfaction  \\\n",
       "140219                NaN            4.0   NaN  ...               1.0   \n",
       "103613                NaN            5.0   NaN  ...               1.0   \n",
       "138216                NaN            2.0   NaN  ...               4.0   \n",
       "121155                NaN            2.0   NaN  ...               5.0   \n",
       "24706                 NaN            3.0   NaN  ...               2.0   \n",
       "81467                 NaN            5.0   NaN  ...               1.0   \n",
       "119172                NaN            1.0   NaN  ...               4.0   \n",
       "104328                NaN            4.0   NaN  ...               4.0   \n",
       "98655                 NaN            3.0   NaN  ...               3.0   \n",
       "62898                 NaN            3.0   NaN  ...               5.0   \n",
       "\n",
       "           Sleep Duration Dietary Habits   Degree  \\\n",
       "140219  Less than 5 hours      Unhealthy      BSc   \n",
       "103613          7-8 hours       Moderate     B.Ed   \n",
       "138216          7-8 hours      Unhealthy     M.Ed   \n",
       "121155          7-8 hours       Moderate     B.Ed   \n",
       "24706   Less than 5 hours       Moderate      BBA   \n",
       "81467   More than 8 hours        Healthy  B.Pharm   \n",
       "119172          7-8 hours        Healthy  B.Pharm   \n",
       "104328  More than 8 hours      Unhealthy      MCA   \n",
       "98655           7-8 hours      Unhealthy    B.Com   \n",
       "62898           7-8 hours      Unhealthy     B.Ed   \n",
       "\n",
       "       Have you ever had suicidal thoughts ? Work/Study Hours  \\\n",
       "140219                                   Yes             12.0   \n",
       "103613                                   Yes              2.0   \n",
       "138216                                   Yes              2.0   \n",
       "121155                                    No              1.0   \n",
       "24706                                    Yes              9.0   \n",
       "81467                                    Yes              0.0   \n",
       "119172                                    No              7.0   \n",
       "104328                                    No              9.0   \n",
       "98655                                     No             10.0   \n",
       "62898                                    Yes             10.0   \n",
       "\n",
       "        Financial Stress  Family History of Mental Illness Depression  \\\n",
       "140219               5.0                                No          1   \n",
       "103613               1.0                               Yes          0   \n",
       "138216               4.0                                No          0   \n",
       "121155               4.0                               Yes          0   \n",
       "24706                2.0                                No          0   \n",
       "81467                2.0                               Yes          0   \n",
       "119172               2.0                               Yes          0   \n",
       "104328               2.0                                No          0   \n",
       "98655                4.0                               Yes          0   \n",
       "62898                5.0                                No          0   \n",
       "\n",
       "        Pressure  \n",
       "140219       4.0  \n",
       "103613       5.0  \n",
       "138216       2.0  \n",
       "121155       2.0  \n",
       "24706        3.0  \n",
       "81467        5.0  \n",
       "119172       1.0  \n",
       "104328       4.0  \n",
       "98655        3.0  \n",
       "62898        3.0  \n",
       "\n",
       "[10 rows x 21 columns]"
      ]
     },
     "execution_count": 21,
     "metadata": {},
     "output_type": "execute_result"
    }
   ],
   "source": [
    "df.sample(10)"
   ]
  },
  {
   "cell_type": "code",
   "execution_count": 22,
   "id": "600066d4-9315-4629-9744-49671922ebda",
   "metadata": {},
   "outputs": [
    {
     "data": {
      "text/plain": [
       "id                                            0\n",
       "Name                                          0\n",
       "Gender                                        0\n",
       "Age                                           0\n",
       "City                                          0\n",
       "Working Professional or Student               0\n",
       "Profession                                    0\n",
       "Academic Pressure                        112803\n",
       "Work Pressure                             27918\n",
       "CGPA                                     112802\n",
       "Study Satisfaction                       112803\n",
       "Job Satisfaction                          27910\n",
       "Sleep Duration                                0\n",
       "Dietary Habits                                4\n",
       "Degree                                        2\n",
       "Have you ever had suicidal thoughts ?         0\n",
       "Work/Study Hours                              0\n",
       "Financial Stress                              4\n",
       "Family History of Mental Illness              0\n",
       "Depression                                    0\n",
       "Pressure                                     21\n",
       "dtype: int64"
      ]
     },
     "execution_count": 22,
     "metadata": {},
     "output_type": "execute_result"
    }
   ],
   "source": [
    "df.isnull().sum()"
   ]
  },
  {
   "cell_type": "code",
   "execution_count": 23,
   "id": "54a18e97-d381-4dc6-a277-fbf46362acae",
   "metadata": {},
   "outputs": [],
   "source": [
    "\n",
    "# Calcular a moda da coluna 'Pressure'\n",
    "mode_value = df['Pressure'].mode()[0]\n",
    "\n",
    "# Preencher valores nulos com a moda\n",
    "df['Pressure'].fillna(mode_value, inplace=True)\n"
   ]
  },
  {
   "cell_type": "code",
   "execution_count": 24,
   "id": "298e84cf-5d19-4475-814f-31e439fed422",
   "metadata": {},
   "outputs": [
    {
     "data": {
      "text/plain": [
       "id                                            0\n",
       "Name                                          0\n",
       "Gender                                        0\n",
       "Age                                           0\n",
       "City                                          0\n",
       "Working Professional or Student               0\n",
       "Profession                                    0\n",
       "Academic Pressure                        112803\n",
       "Work Pressure                             27918\n",
       "CGPA                                     112802\n",
       "Study Satisfaction                       112803\n",
       "Job Satisfaction                          27910\n",
       "Sleep Duration                                0\n",
       "Dietary Habits                                4\n",
       "Degree                                        2\n",
       "Have you ever had suicidal thoughts ?         0\n",
       "Work/Study Hours                              0\n",
       "Financial Stress                              4\n",
       "Family History of Mental Illness              0\n",
       "Depression                                    0\n",
       "Pressure                                      0\n",
       "dtype: int64"
      ]
     },
     "execution_count": 24,
     "metadata": {},
     "output_type": "execute_result"
    }
   ],
   "source": [
    "df.isnull().sum()"
   ]
  },
  {
   "cell_type": "code",
   "execution_count": 25,
   "id": "d44761f6-a665-472d-ac58-265d305e1a24",
   "metadata": {},
   "outputs": [],
   "source": [
    "# Excluir as colunas originais, se necessário\n",
    "df = df.drop(columns=['Academic Pressure', 'Work Pressure'])"
   ]
  },
  {
   "cell_type": "code",
   "execution_count": 26,
   "id": "a534758b-b3ec-4ab6-8410-ba0200ae0b12",
   "metadata": {},
   "outputs": [],
   "source": [
    "# Reordenar as colunas\n",
    "cols = df.columns.tolist()\n",
    "cols.insert(cols.index('Profession') + 1, cols.pop(cols.index('Pressure')))\n",
    "df = df[cols]"
   ]
  },
  {
   "cell_type": "code",
   "execution_count": 27,
   "id": "fc12b054-9318-4694-9be1-041494eb580b",
   "metadata": {},
   "outputs": [
    {
     "data": {
      "text/plain": [
       "id                                            0\n",
       "Name                                          0\n",
       "Gender                                        0\n",
       "Age                                           0\n",
       "City                                          0\n",
       "Working Professional or Student               0\n",
       "Profession                                    0\n",
       "Pressure                                      0\n",
       "CGPA                                     112802\n",
       "Study Satisfaction                       112803\n",
       "Job Satisfaction                          27910\n",
       "Sleep Duration                                0\n",
       "Dietary Habits                                4\n",
       "Degree                                        2\n",
       "Have you ever had suicidal thoughts ?         0\n",
       "Work/Study Hours                              0\n",
       "Financial Stress                              4\n",
       "Family History of Mental Illness              0\n",
       "Depression                                    0\n",
       "dtype: int64"
      ]
     },
     "execution_count": 27,
     "metadata": {},
     "output_type": "execute_result"
    }
   ],
   "source": [
    "df.isnull().sum()"
   ]
  },
  {
   "cell_type": "markdown",
   "id": "ddc115f5-1dc7-4d4b-9007-55537de1b316",
   "metadata": {},
   "source": [
    "## Limpar a colunas 'Academic Pressure' e 'Work Pressure' do test"
   ]
  },
  {
   "cell_type": "code",
   "execution_count": 28,
   "id": "99992720-b8d2-41e1-ada5-c5bd58552f85",
   "metadata": {},
   "outputs": [],
   "source": [
    "# Criar a coluna 'Pressure' dando prioridade para 'Academic Pressure' quando ambas têm valor\n",
    "test['Pressure'] = test['Academic Pressure'].combine_first(test['Work Pressure'])\n"
   ]
  },
  {
   "cell_type": "code",
   "execution_count": 29,
   "id": "02db22b8-ad80-4e34-8a6b-e9863d2529de",
   "metadata": {},
   "outputs": [
    {
     "data": {
      "text/plain": [
       "id                                           0\n",
       "Name                                         0\n",
       "Gender                                       0\n",
       "Age                                          0\n",
       "City                                         0\n",
       "Working Professional or Student              0\n",
       "Profession                                   0\n",
       "Academic Pressure                        75033\n",
       "Work Pressure                            18778\n",
       "CGPA                                     75034\n",
       "Study Satisfaction                       75033\n",
       "Job Satisfaction                         18774\n",
       "Sleep Duration                               0\n",
       "Dietary Habits                               5\n",
       "Degree                                       2\n",
       "Have you ever had suicidal thoughts ?        0\n",
       "Work/Study Hours                             0\n",
       "Financial Stress                             0\n",
       "Family History of Mental Illness             0\n",
       "Pressure                                    12\n",
       "dtype: int64"
      ]
     },
     "execution_count": 29,
     "metadata": {},
     "output_type": "execute_result"
    }
   ],
   "source": [
    "test.isnull().sum()"
   ]
  },
  {
   "cell_type": "code",
   "execution_count": 30,
   "id": "01ca823c-fd98-404d-ab30-a58790df5755",
   "metadata": {},
   "outputs": [],
   "source": [
    "# Calcular a moda da coluna 'Pressure'\n",
    "mode_value = test['Pressure'].mode()[0]\n",
    "\n",
    "# Preencher valores nulos com a moda\n",
    "test['Pressure'].fillna(mode_value, inplace=True)\n"
   ]
  },
  {
   "cell_type": "code",
   "execution_count": 31,
   "id": "77a52c51-508c-4083-80d6-1c23b1b29adb",
   "metadata": {},
   "outputs": [
    {
     "data": {
      "text/plain": [
       "id                                            0\n",
       "Name                                          0\n",
       "Gender                                        0\n",
       "Age                                           0\n",
       "City                                          0\n",
       "Working Professional or Student               0\n",
       "Profession                                    0\n",
       "Pressure                                      0\n",
       "CGPA                                     112802\n",
       "Study Satisfaction                       112803\n",
       "Job Satisfaction                          27910\n",
       "Sleep Duration                                0\n",
       "Dietary Habits                                4\n",
       "Degree                                        2\n",
       "Have you ever had suicidal thoughts ?         0\n",
       "Work/Study Hours                              0\n",
       "Financial Stress                              4\n",
       "Family History of Mental Illness              0\n",
       "Depression                                    0\n",
       "dtype: int64"
      ]
     },
     "execution_count": 31,
     "metadata": {},
     "output_type": "execute_result"
    }
   ],
   "source": [
    "df.isnull().sum()"
   ]
  },
  {
   "cell_type": "code",
   "execution_count": 32,
   "id": "e35c9b56-c1da-443c-b496-b674cb41348c",
   "metadata": {},
   "outputs": [],
   "source": [
    "# Excluir as colunas originais, se necessário\n",
    "test = test.drop(columns=['Academic Pressure', 'Work Pressure'])"
   ]
  },
  {
   "cell_type": "code",
   "execution_count": 33,
   "id": "d1c2357b-b0c7-4a24-93d7-73a02e19e211",
   "metadata": {},
   "outputs": [],
   "source": [
    "# Reordenar as colunas\n",
    "cols = test.columns.tolist()\n",
    "cols.insert(cols.index('Profession') + 1, cols.pop(cols.index('Pressure')))\n",
    "test = test[cols]"
   ]
  },
  {
   "cell_type": "code",
   "execution_count": 34,
   "id": "77f5ff26-80e2-479b-a58b-52a6e6a0d28b",
   "metadata": {},
   "outputs": [
    {
     "data": {
      "text/plain": [
       "id                                           0\n",
       "Name                                         0\n",
       "Gender                                       0\n",
       "Age                                          0\n",
       "City                                         0\n",
       "Working Professional or Student              0\n",
       "Profession                                   0\n",
       "Pressure                                     0\n",
       "CGPA                                     75034\n",
       "Study Satisfaction                       75033\n",
       "Job Satisfaction                         18774\n",
       "Sleep Duration                               0\n",
       "Dietary Habits                               5\n",
       "Degree                                       2\n",
       "Have you ever had suicidal thoughts ?        0\n",
       "Work/Study Hours                             0\n",
       "Financial Stress                             0\n",
       "Family History of Mental Illness             0\n",
       "dtype: int64"
      ]
     },
     "execution_count": 34,
     "metadata": {},
     "output_type": "execute_result"
    }
   ],
   "source": [
    "test.isnull().sum()"
   ]
  },
  {
   "cell_type": "markdown",
   "id": "a4ac409a-4db3-48cd-b2da-42f028de064c",
   "metadata": {},
   "source": [
    "## Limpar a colunas 'CGPA' do train"
   ]
  },
  {
   "cell_type": "code",
   "execution_count": 35,
   "id": "3992b009-c522-4373-a413-64e0c807615f",
   "metadata": {},
   "outputs": [],
   "source": [
    "# Calcular a média da coluna 'CGPA', ignorando valores nulos\n",
    "mean_value = df['CGPA'].mean()\n",
    "\n",
    "# Preencher valores nulos com a média\n",
    "df['CGPA'].fillna(mean_value, inplace=True)"
   ]
  },
  {
   "cell_type": "code",
   "execution_count": 36,
   "id": "e937cc33-8908-44af-b6b0-57b4da910a23",
   "metadata": {},
   "outputs": [
    {
     "data": {
      "text/plain": [
       "id                                            0\n",
       "Name                                          0\n",
       "Gender                                        0\n",
       "Age                                           0\n",
       "City                                          0\n",
       "Working Professional or Student               0\n",
       "Profession                                    0\n",
       "Pressure                                      0\n",
       "CGPA                                          0\n",
       "Study Satisfaction                       112803\n",
       "Job Satisfaction                          27910\n",
       "Sleep Duration                                0\n",
       "Dietary Habits                                4\n",
       "Degree                                        2\n",
       "Have you ever had suicidal thoughts ?         0\n",
       "Work/Study Hours                              0\n",
       "Financial Stress                              4\n",
       "Family History of Mental Illness              0\n",
       "Depression                                    0\n",
       "dtype: int64"
      ]
     },
     "execution_count": 36,
     "metadata": {},
     "output_type": "execute_result"
    }
   ],
   "source": [
    "df.isnull().sum()"
   ]
  },
  {
   "cell_type": "markdown",
   "id": "0de8f1c1-aa5e-4e52-acfb-f787c3fdebd6",
   "metadata": {},
   "source": [
    "## Limpar a colunas 'CGPA' do test"
   ]
  },
  {
   "cell_type": "code",
   "execution_count": 37,
   "id": "6bcc4cd5-46af-4dd4-be9c-335002a4aed7",
   "metadata": {},
   "outputs": [],
   "source": [
    "# Calcular a média da coluna 'CGPA', ignorando valores nulos\n",
    "mean_value = test['CGPA'].mean()\n",
    "\n",
    "# Preencher valores nulos com a média\n",
    "test['CGPA'].fillna(mean_value, inplace=True)"
   ]
  },
  {
   "cell_type": "code",
   "execution_count": 38,
   "id": "b24877bb-6c2b-4d18-be92-88c58e58eaea",
   "metadata": {},
   "outputs": [
    {
     "data": {
      "text/plain": [
       "id                                           0\n",
       "Name                                         0\n",
       "Gender                                       0\n",
       "Age                                          0\n",
       "City                                         0\n",
       "Working Professional or Student              0\n",
       "Profession                                   0\n",
       "Pressure                                     0\n",
       "CGPA                                         0\n",
       "Study Satisfaction                       75033\n",
       "Job Satisfaction                         18774\n",
       "Sleep Duration                               0\n",
       "Dietary Habits                               5\n",
       "Degree                                       2\n",
       "Have you ever had suicidal thoughts ?        0\n",
       "Work/Study Hours                             0\n",
       "Financial Stress                             0\n",
       "Family History of Mental Illness             0\n",
       "dtype: int64"
      ]
     },
     "execution_count": 38,
     "metadata": {},
     "output_type": "execute_result"
    }
   ],
   "source": [
    "test.isnull().sum()"
   ]
  },
  {
   "cell_type": "markdown",
   "id": "cbde6b9a-5e71-41fd-bd0c-5178b6c70f62",
   "metadata": {},
   "source": [
    "## Limpar a colunas 'Study Satisfaction' do train"
   ]
  },
  {
   "cell_type": "code",
   "execution_count": 39,
   "id": "c2ff3787-d70f-4fc0-9205-8c180964a7c0",
   "metadata": {},
   "outputs": [],
   "source": [
    "# Criar a coluna 'Satisfaction' com prioridade para 'Study Satisfaction' quando ambas têm valor\n",
    "df['Satisfaction'] = df['Study Satisfaction'].combine_first(df['Job Satisfaction'])\n",
    "\n",
    "# Excluir as colunas originais, se necessário\n",
    "df = df.drop(columns=['Study Satisfaction', 'Job Satisfaction'])"
   ]
  },
  {
   "cell_type": "code",
   "execution_count": 40,
   "id": "57e0853b-32d8-4d96-8311-7cca89a63bfa",
   "metadata": {},
   "outputs": [
    {
     "data": {
      "text/html": [
       "<div>\n",
       "<style scoped>\n",
       "    .dataframe tbody tr th:only-of-type {\n",
       "        vertical-align: middle;\n",
       "    }\n",
       "\n",
       "    .dataframe tbody tr th {\n",
       "        vertical-align: top;\n",
       "    }\n",
       "\n",
       "    .dataframe thead th {\n",
       "        text-align: right;\n",
       "    }\n",
       "</style>\n",
       "<table border=\"1\" class=\"dataframe\">\n",
       "  <thead>\n",
       "    <tr style=\"text-align: right;\">\n",
       "      <th></th>\n",
       "      <th>id</th>\n",
       "      <th>Name</th>\n",
       "      <th>Gender</th>\n",
       "      <th>Age</th>\n",
       "      <th>City</th>\n",
       "      <th>Working Professional or Student</th>\n",
       "      <th>Profession</th>\n",
       "      <th>Pressure</th>\n",
       "      <th>CGPA</th>\n",
       "      <th>Sleep Duration</th>\n",
       "      <th>Dietary Habits</th>\n",
       "      <th>Degree</th>\n",
       "      <th>Have you ever had suicidal thoughts ?</th>\n",
       "      <th>Work/Study Hours</th>\n",
       "      <th>Financial Stress</th>\n",
       "      <th>Family History of Mental Illness</th>\n",
       "      <th>Depression</th>\n",
       "      <th>Satisfaction</th>\n",
       "    </tr>\n",
       "  </thead>\n",
       "  <tbody>\n",
       "    <tr>\n",
       "      <th>0</th>\n",
       "      <td>0</td>\n",
       "      <td>Aaradhya</td>\n",
       "      <td>Female</td>\n",
       "      <td>49.0</td>\n",
       "      <td>Ludhiana</td>\n",
       "      <td>Working Professional</td>\n",
       "      <td>Chef</td>\n",
       "      <td>5.0</td>\n",
       "      <td>7.658636</td>\n",
       "      <td>More than 8 hours</td>\n",
       "      <td>Healthy</td>\n",
       "      <td>BHM</td>\n",
       "      <td>No</td>\n",
       "      <td>1.0</td>\n",
       "      <td>2.0</td>\n",
       "      <td>No</td>\n",
       "      <td>0</td>\n",
       "      <td>2.0</td>\n",
       "    </tr>\n",
       "    <tr>\n",
       "      <th>1</th>\n",
       "      <td>1</td>\n",
       "      <td>Vivan</td>\n",
       "      <td>Male</td>\n",
       "      <td>26.0</td>\n",
       "      <td>Varanasi</td>\n",
       "      <td>Working Professional</td>\n",
       "      <td>Teacher</td>\n",
       "      <td>4.0</td>\n",
       "      <td>7.658636</td>\n",
       "      <td>Less than 5 hours</td>\n",
       "      <td>Unhealthy</td>\n",
       "      <td>LLB</td>\n",
       "      <td>Yes</td>\n",
       "      <td>7.0</td>\n",
       "      <td>3.0</td>\n",
       "      <td>No</td>\n",
       "      <td>1</td>\n",
       "      <td>3.0</td>\n",
       "    </tr>\n",
       "    <tr>\n",
       "      <th>2</th>\n",
       "      <td>2</td>\n",
       "      <td>Yuvraj</td>\n",
       "      <td>Male</td>\n",
       "      <td>33.0</td>\n",
       "      <td>Visakhapatnam</td>\n",
       "      <td>Student</td>\n",
       "      <td>Student</td>\n",
       "      <td>5.0</td>\n",
       "      <td>8.970000</td>\n",
       "      <td>5-6 hours</td>\n",
       "      <td>Healthy</td>\n",
       "      <td>B.Pharm</td>\n",
       "      <td>Yes</td>\n",
       "      <td>3.0</td>\n",
       "      <td>1.0</td>\n",
       "      <td>No</td>\n",
       "      <td>1</td>\n",
       "      <td>2.0</td>\n",
       "    </tr>\n",
       "    <tr>\n",
       "      <th>3</th>\n",
       "      <td>3</td>\n",
       "      <td>Yuvraj</td>\n",
       "      <td>Male</td>\n",
       "      <td>22.0</td>\n",
       "      <td>Mumbai</td>\n",
       "      <td>Working Professional</td>\n",
       "      <td>Teacher</td>\n",
       "      <td>5.0</td>\n",
       "      <td>7.658636</td>\n",
       "      <td>Less than 5 hours</td>\n",
       "      <td>Moderate</td>\n",
       "      <td>BBA</td>\n",
       "      <td>Yes</td>\n",
       "      <td>10.0</td>\n",
       "      <td>1.0</td>\n",
       "      <td>Yes</td>\n",
       "      <td>1</td>\n",
       "      <td>1.0</td>\n",
       "    </tr>\n",
       "    <tr>\n",
       "      <th>4</th>\n",
       "      <td>4</td>\n",
       "      <td>Rhea</td>\n",
       "      <td>Female</td>\n",
       "      <td>30.0</td>\n",
       "      <td>Kanpur</td>\n",
       "      <td>Working Professional</td>\n",
       "      <td>Business Analyst</td>\n",
       "      <td>1.0</td>\n",
       "      <td>7.658636</td>\n",
       "      <td>5-6 hours</td>\n",
       "      <td>Unhealthy</td>\n",
       "      <td>BBA</td>\n",
       "      <td>Yes</td>\n",
       "      <td>9.0</td>\n",
       "      <td>4.0</td>\n",
       "      <td>Yes</td>\n",
       "      <td>0</td>\n",
       "      <td>1.0</td>\n",
       "    </tr>\n",
       "  </tbody>\n",
       "</table>\n",
       "</div>"
      ],
      "text/plain": [
       "   id      Name  Gender   Age           City Working Professional or Student  \\\n",
       "0   0  Aaradhya  Female  49.0       Ludhiana            Working Professional   \n",
       "1   1     Vivan    Male  26.0       Varanasi            Working Professional   \n",
       "2   2    Yuvraj    Male  33.0  Visakhapatnam                         Student   \n",
       "3   3    Yuvraj    Male  22.0         Mumbai            Working Professional   \n",
       "4   4      Rhea  Female  30.0         Kanpur            Working Professional   \n",
       "\n",
       "         Profession  Pressure      CGPA     Sleep Duration Dietary Habits  \\\n",
       "0              Chef       5.0  7.658636  More than 8 hours        Healthy   \n",
       "1           Teacher       4.0  7.658636  Less than 5 hours      Unhealthy   \n",
       "2           Student       5.0  8.970000          5-6 hours        Healthy   \n",
       "3           Teacher       5.0  7.658636  Less than 5 hours       Moderate   \n",
       "4  Business Analyst       1.0  7.658636          5-6 hours      Unhealthy   \n",
       "\n",
       "    Degree Have you ever had suicidal thoughts ?  Work/Study Hours  \\\n",
       "0      BHM                                    No               1.0   \n",
       "1      LLB                                   Yes               7.0   \n",
       "2  B.Pharm                                   Yes               3.0   \n",
       "3      BBA                                   Yes              10.0   \n",
       "4      BBA                                   Yes               9.0   \n",
       "\n",
       "   Financial Stress Family History of Mental Illness  Depression  Satisfaction  \n",
       "0               2.0                               No           0           2.0  \n",
       "1               3.0                               No           1           3.0  \n",
       "2               1.0                               No           1           2.0  \n",
       "3               1.0                              Yes           1           1.0  \n",
       "4               4.0                              Yes           0           1.0  "
      ]
     },
     "execution_count": 40,
     "metadata": {},
     "output_type": "execute_result"
    }
   ],
   "source": [
    "df.head()"
   ]
  },
  {
   "cell_type": "code",
   "execution_count": 41,
   "id": "182ece76-591d-4088-b205-daee8b7fe98c",
   "metadata": {},
   "outputs": [
    {
     "data": {
      "text/plain": [
       "id                                        0\n",
       "Name                                      0\n",
       "Gender                                    0\n",
       "Age                                       0\n",
       "City                                      0\n",
       "Working Professional or Student           0\n",
       "Profession                                0\n",
       "Pressure                                  0\n",
       "CGPA                                      0\n",
       "Sleep Duration                            0\n",
       "Dietary Habits                            4\n",
       "Degree                                    2\n",
       "Have you ever had suicidal thoughts ?     0\n",
       "Work/Study Hours                          0\n",
       "Financial Stress                          4\n",
       "Family History of Mental Illness          0\n",
       "Depression                                0\n",
       "Satisfaction                             15\n",
       "dtype: int64"
      ]
     },
     "execution_count": 41,
     "metadata": {},
     "output_type": "execute_result"
    }
   ],
   "source": [
    "df.isnull().sum()"
   ]
  },
  {
   "cell_type": "code",
   "execution_count": 42,
   "id": "66df2cf9-25e4-4842-a7cd-212f379362bd",
   "metadata": {},
   "outputs": [],
   "source": [
    "# Calcular a moda da coluna 'Satisfaction'\n",
    "mode_value = df['Satisfaction'].mode()[0]\n",
    "\n",
    "# Preencher valores nulos com a moda\n",
    "df['Satisfaction'].fillna(mode_value, inplace=True)"
   ]
  },
  {
   "cell_type": "code",
   "execution_count": 43,
   "id": "4724fcc4-c7b7-4716-a98d-f57d12f6d458",
   "metadata": {},
   "outputs": [
    {
     "data": {
      "text/plain": [
       "id                                       0\n",
       "Name                                     0\n",
       "Gender                                   0\n",
       "Age                                      0\n",
       "City                                     0\n",
       "Working Professional or Student          0\n",
       "Profession                               0\n",
       "Pressure                                 0\n",
       "CGPA                                     0\n",
       "Sleep Duration                           0\n",
       "Dietary Habits                           4\n",
       "Degree                                   2\n",
       "Have you ever had suicidal thoughts ?    0\n",
       "Work/Study Hours                         0\n",
       "Financial Stress                         4\n",
       "Family History of Mental Illness         0\n",
       "Depression                               0\n",
       "Satisfaction                             0\n",
       "dtype: int64"
      ]
     },
     "execution_count": 43,
     "metadata": {},
     "output_type": "execute_result"
    }
   ],
   "source": [
    "df.isnull().sum()"
   ]
  },
  {
   "cell_type": "code",
   "execution_count": 44,
   "id": "2f45d541-0562-4333-9f2e-52a935093fe7",
   "metadata": {},
   "outputs": [],
   "source": [
    "# Reordenar as colunas\n",
    "cols = df.columns.tolist()\n",
    "cols.insert(cols.index('CGPA') + 1, cols.pop(cols.index('Satisfaction')))\n",
    "df = df[cols]"
   ]
  },
  {
   "cell_type": "markdown",
   "id": "141e4202-37a6-4a42-9c53-0557c8da797a",
   "metadata": {},
   "source": [
    "## Limpar a colunas 'Study Satisfaction' do test"
   ]
  },
  {
   "cell_type": "code",
   "execution_count": 45,
   "id": "d830f9cd-1559-4097-b3a0-ecd0d81e2e08",
   "metadata": {},
   "outputs": [],
   "source": [
    "# Criar a coluna 'Satisfaction' com prioridade para 'Study Satisfaction' quando ambas têm valor\n",
    "test['Satisfaction'] = test['Study Satisfaction'].combine_first(test['Job Satisfaction'])\n",
    "\n",
    "# Excluir as colunas originais, se necessário\n",
    "test = test.drop(columns=['Study Satisfaction', 'Job Satisfaction'])"
   ]
  },
  {
   "cell_type": "code",
   "execution_count": 46,
   "id": "e9891508-8655-434b-9d00-b36bedca7fa1",
   "metadata": {},
   "outputs": [
    {
     "data": {
      "text/plain": [
       "id                                       0\n",
       "Name                                     0\n",
       "Gender                                   0\n",
       "Age                                      0\n",
       "City                                     0\n",
       "Working Professional or Student          0\n",
       "Profession                               0\n",
       "Pressure                                 0\n",
       "CGPA                                     0\n",
       "Sleep Duration                           0\n",
       "Dietary Habits                           5\n",
       "Degree                                   2\n",
       "Have you ever had suicidal thoughts ?    0\n",
       "Work/Study Hours                         0\n",
       "Financial Stress                         0\n",
       "Family History of Mental Illness         0\n",
       "Satisfaction                             8\n",
       "dtype: int64"
      ]
     },
     "execution_count": 46,
     "metadata": {},
     "output_type": "execute_result"
    }
   ],
   "source": [
    "test.isnull().sum()"
   ]
  },
  {
   "cell_type": "code",
   "execution_count": 47,
   "id": "369c39c4-b7b5-4c7a-8fcd-9726af3a0547",
   "metadata": {},
   "outputs": [],
   "source": [
    "# Calcular a moda da coluna 'Satisfaction'\n",
    "mode_value = test['Satisfaction'].mode()[0]\n",
    "\n",
    "# Preencher valores nulos com a moda\n",
    "test['Satisfaction'].fillna(mode_value, inplace=True)"
   ]
  },
  {
   "cell_type": "code",
   "execution_count": 48,
   "id": "6c8cc424-b843-41ee-8723-d70d2da93efa",
   "metadata": {},
   "outputs": [],
   "source": [
    "# Reordenar as colunas\n",
    "cols = test.columns.tolist()\n",
    "cols.insert(cols.index('CGPA') + 1, cols.pop(cols.index('Satisfaction')))\n",
    "test = test[cols]"
   ]
  },
  {
   "cell_type": "code",
   "execution_count": 49,
   "id": "8b7ee419-1d3e-486d-85f9-022761422042",
   "metadata": {},
   "outputs": [
    {
     "data": {
      "text/plain": [
       "id                                       0\n",
       "Name                                     0\n",
       "Gender                                   0\n",
       "Age                                      0\n",
       "City                                     0\n",
       "Working Professional or Student          0\n",
       "Profession                               0\n",
       "Pressure                                 0\n",
       "CGPA                                     0\n",
       "Satisfaction                             0\n",
       "Sleep Duration                           0\n",
       "Dietary Habits                           5\n",
       "Degree                                   2\n",
       "Have you ever had suicidal thoughts ?    0\n",
       "Work/Study Hours                         0\n",
       "Financial Stress                         0\n",
       "Family History of Mental Illness         0\n",
       "dtype: int64"
      ]
     },
     "execution_count": 49,
     "metadata": {},
     "output_type": "execute_result"
    }
   ],
   "source": [
    "test.isnull().sum()"
   ]
  },
  {
   "cell_type": "markdown",
   "id": "5cb3f077-c400-45a1-aaab-a46f8b007d66",
   "metadata": {},
   "source": [
    "## Agora vamos apagar todos os valores nulos do train"
   ]
  },
  {
   "cell_type": "code",
   "execution_count": 50,
   "id": "e6ce134b-0693-43ab-b6de-c4d2d99c27ae",
   "metadata": {},
   "outputs": [],
   "source": [
    "# Excluir todas as linhas que contêm valores nulos em qualquer coluna\n",
    "df = df.dropna()"
   ]
  },
  {
   "cell_type": "code",
   "execution_count": 51,
   "id": "51009379-971c-423b-b8ef-8256a50460f7",
   "metadata": {},
   "outputs": [
    {
     "data": {
      "text/plain": [
       "id                                       0\n",
       "Name                                     0\n",
       "Gender                                   0\n",
       "Age                                      0\n",
       "City                                     0\n",
       "Working Professional or Student          0\n",
       "Profession                               0\n",
       "Pressure                                 0\n",
       "CGPA                                     0\n",
       "Satisfaction                             0\n",
       "Sleep Duration                           0\n",
       "Dietary Habits                           0\n",
       "Degree                                   0\n",
       "Have you ever had suicidal thoughts ?    0\n",
       "Work/Study Hours                         0\n",
       "Financial Stress                         0\n",
       "Family History of Mental Illness         0\n",
       "Depression                               0\n",
       "dtype: int64"
      ]
     },
     "execution_count": 51,
     "metadata": {},
     "output_type": "execute_result"
    }
   ],
   "source": [
    "df.isnull().sum()"
   ]
  },
  {
   "cell_type": "markdown",
   "id": "b0ac6527-e2e6-4bf3-a2fb-26e8915f0fcb",
   "metadata": {},
   "source": [
    "## Agora vamos tratar todos os valores nulos do test, pois aqui nao podemos perder registros\n"
   ]
  },
  {
   "cell_type": "code",
   "execution_count": 52,
   "id": "bad73764-bcbd-4600-ae3f-9206fbac6fed",
   "metadata": {},
   "outputs": [
    {
     "data": {
      "text/html": [
       "<div>\n",
       "<style scoped>\n",
       "    .dataframe tbody tr th:only-of-type {\n",
       "        vertical-align: middle;\n",
       "    }\n",
       "\n",
       "    .dataframe tbody tr th {\n",
       "        vertical-align: top;\n",
       "    }\n",
       "\n",
       "    .dataframe thead th {\n",
       "        text-align: right;\n",
       "    }\n",
       "</style>\n",
       "<table border=\"1\" class=\"dataframe\">\n",
       "  <thead>\n",
       "    <tr style=\"text-align: right;\">\n",
       "      <th></th>\n",
       "      <th>id</th>\n",
       "      <th>Name</th>\n",
       "      <th>Gender</th>\n",
       "      <th>Age</th>\n",
       "      <th>City</th>\n",
       "      <th>Working Professional or Student</th>\n",
       "      <th>Profession</th>\n",
       "      <th>Pressure</th>\n",
       "      <th>CGPA</th>\n",
       "      <th>Satisfaction</th>\n",
       "      <th>Sleep Duration</th>\n",
       "      <th>Dietary Habits</th>\n",
       "      <th>Degree</th>\n",
       "      <th>Have you ever had suicidal thoughts ?</th>\n",
       "      <th>Work/Study Hours</th>\n",
       "      <th>Financial Stress</th>\n",
       "      <th>Family History of Mental Illness</th>\n",
       "    </tr>\n",
       "  </thead>\n",
       "  <tbody>\n",
       "    <tr>\n",
       "      <th>0</th>\n",
       "      <td>140700</td>\n",
       "      <td>Shivam</td>\n",
       "      <td>Male</td>\n",
       "      <td>53.0</td>\n",
       "      <td>Visakhapatnam</td>\n",
       "      <td>Working Professional</td>\n",
       "      <td>Judge</td>\n",
       "      <td>2.0</td>\n",
       "      <td>7.674016</td>\n",
       "      <td>5.0</td>\n",
       "      <td>Less than 5 hours</td>\n",
       "      <td>Moderate</td>\n",
       "      <td>LLB</td>\n",
       "      <td>No</td>\n",
       "      <td>9.0</td>\n",
       "      <td>3.0</td>\n",
       "      <td>Yes</td>\n",
       "    </tr>\n",
       "    <tr>\n",
       "      <th>1</th>\n",
       "      <td>140701</td>\n",
       "      <td>Sanya</td>\n",
       "      <td>Female</td>\n",
       "      <td>58.0</td>\n",
       "      <td>Kolkata</td>\n",
       "      <td>Working Professional</td>\n",
       "      <td>Educational Consultant</td>\n",
       "      <td>2.0</td>\n",
       "      <td>7.674016</td>\n",
       "      <td>4.0</td>\n",
       "      <td>Less than 5 hours</td>\n",
       "      <td>Moderate</td>\n",
       "      <td>B.Ed</td>\n",
       "      <td>No</td>\n",
       "      <td>6.0</td>\n",
       "      <td>4.0</td>\n",
       "      <td>No</td>\n",
       "    </tr>\n",
       "    <tr>\n",
       "      <th>2</th>\n",
       "      <td>140702</td>\n",
       "      <td>Yash</td>\n",
       "      <td>Male</td>\n",
       "      <td>53.0</td>\n",
       "      <td>Jaipur</td>\n",
       "      <td>Working Professional</td>\n",
       "      <td>Teacher</td>\n",
       "      <td>4.0</td>\n",
       "      <td>7.674016</td>\n",
       "      <td>1.0</td>\n",
       "      <td>7-8 hours</td>\n",
       "      <td>Moderate</td>\n",
       "      <td>B.Arch</td>\n",
       "      <td>Yes</td>\n",
       "      <td>12.0</td>\n",
       "      <td>4.0</td>\n",
       "      <td>No</td>\n",
       "    </tr>\n",
       "    <tr>\n",
       "      <th>3</th>\n",
       "      <td>140703</td>\n",
       "      <td>Nalini</td>\n",
       "      <td>Female</td>\n",
       "      <td>23.0</td>\n",
       "      <td>Rajkot</td>\n",
       "      <td>Student</td>\n",
       "      <td>Student</td>\n",
       "      <td>5.0</td>\n",
       "      <td>6.840000</td>\n",
       "      <td>1.0</td>\n",
       "      <td>More than 8 hours</td>\n",
       "      <td>Moderate</td>\n",
       "      <td>BSc</td>\n",
       "      <td>Yes</td>\n",
       "      <td>10.0</td>\n",
       "      <td>4.0</td>\n",
       "      <td>No</td>\n",
       "    </tr>\n",
       "    <tr>\n",
       "      <th>4</th>\n",
       "      <td>140704</td>\n",
       "      <td>Shaurya</td>\n",
       "      <td>Male</td>\n",
       "      <td>47.0</td>\n",
       "      <td>Kalyan</td>\n",
       "      <td>Working Professional</td>\n",
       "      <td>Teacher</td>\n",
       "      <td>5.0</td>\n",
       "      <td>7.674016</td>\n",
       "      <td>5.0</td>\n",
       "      <td>7-8 hours</td>\n",
       "      <td>Moderate</td>\n",
       "      <td>BCA</td>\n",
       "      <td>Yes</td>\n",
       "      <td>3.0</td>\n",
       "      <td>4.0</td>\n",
       "      <td>No</td>\n",
       "    </tr>\n",
       "  </tbody>\n",
       "</table>\n",
       "</div>"
      ],
      "text/plain": [
       "       id     Name  Gender   Age           City  \\\n",
       "0  140700   Shivam    Male  53.0  Visakhapatnam   \n",
       "1  140701    Sanya  Female  58.0        Kolkata   \n",
       "2  140702     Yash    Male  53.0         Jaipur   \n",
       "3  140703   Nalini  Female  23.0         Rajkot   \n",
       "4  140704  Shaurya    Male  47.0         Kalyan   \n",
       "\n",
       "  Working Professional or Student              Profession  Pressure      CGPA  \\\n",
       "0            Working Professional                   Judge       2.0  7.674016   \n",
       "1            Working Professional  Educational Consultant       2.0  7.674016   \n",
       "2            Working Professional                 Teacher       4.0  7.674016   \n",
       "3                         Student                 Student       5.0  6.840000   \n",
       "4            Working Professional                 Teacher       5.0  7.674016   \n",
       "\n",
       "   Satisfaction     Sleep Duration Dietary Habits  Degree  \\\n",
       "0           5.0  Less than 5 hours       Moderate     LLB   \n",
       "1           4.0  Less than 5 hours       Moderate    B.Ed   \n",
       "2           1.0          7-8 hours       Moderate  B.Arch   \n",
       "3           1.0  More than 8 hours       Moderate     BSc   \n",
       "4           5.0          7-8 hours       Moderate     BCA   \n",
       "\n",
       "  Have you ever had suicidal thoughts ?  Work/Study Hours  Financial Stress  \\\n",
       "0                                    No               9.0               3.0   \n",
       "1                                    No               6.0               4.0   \n",
       "2                                   Yes              12.0               4.0   \n",
       "3                                   Yes              10.0               4.0   \n",
       "4                                   Yes               3.0               4.0   \n",
       "\n",
       "  Family History of Mental Illness  \n",
       "0                              Yes  \n",
       "1                               No  \n",
       "2                               No  \n",
       "3                               No  \n",
       "4                               No  "
      ]
     },
     "execution_count": 52,
     "metadata": {},
     "output_type": "execute_result"
    }
   ],
   "source": [
    "test.head()"
   ]
  },
  {
   "cell_type": "code",
   "execution_count": 53,
   "id": "eae191a9-979b-4f98-a94b-3fb3c15a3560",
   "metadata": {},
   "outputs": [
    {
     "data": {
      "text/plain": [
       "Dietary Habits\n",
       "Moderate        33018\n",
       "Unhealthy       30786\n",
       "Healthy         29966\n",
       "No                  6\n",
       "More Healthy        2\n",
       "Academic            1\n",
       "Naina               1\n",
       "1.0                 1\n",
       "Raghav              1\n",
       "Vivaan              1\n",
       "5 Unhealthy         1\n",
       "Soham               1\n",
       "Educational         1\n",
       "MCA                 1\n",
       "5 Healthy           1\n",
       "Resistant           1\n",
       "Mealy               1\n",
       "Less Healthy        1\n",
       "Male                1\n",
       "Prachi              1\n",
       "Indoor              1\n",
       "Kolkata             1\n",
       "Name: count, dtype: int64"
      ]
     },
     "execution_count": 53,
     "metadata": {},
     "output_type": "execute_result"
    }
   ],
   "source": [
    "test['Dietary Habits'].value_counts()"
   ]
  },
  {
   "cell_type": "code",
   "execution_count": 54,
   "id": "03ee7c35-067a-4836-ac5d-0386d8501a34",
   "metadata": {},
   "outputs": [
    {
     "data": {
      "text/plain": [
       "Dietary Habits\n",
       "Moderate             49704\n",
       "Unhealthy            46224\n",
       "Healthy              44739\n",
       "Yes                      2\n",
       "No                       2\n",
       "More Healthy             2\n",
       "No Healthy               1\n",
       "Class 12                 1\n",
       "Indoor                   1\n",
       "Male                     1\n",
       "Vegas                    1\n",
       "M.Tech                   1\n",
       "Less Healthy             1\n",
       "1.0                      1\n",
       "Electrician              1\n",
       "Hormonal                 1\n",
       "Mihir                    1\n",
       "Less than Healthy        1\n",
       "3                        1\n",
       "Gender                   1\n",
       "BSc                      1\n",
       "Pratham                  1\n",
       "2                        1\n",
       "Name: count, dtype: int64"
      ]
     },
     "execution_count": 54,
     "metadata": {},
     "output_type": "execute_result"
    }
   ],
   "source": [
    "df['Dietary Habits'].value_counts()"
   ]
  },
  {
   "cell_type": "code",
   "execution_count": 55,
   "id": "5ae3ef75-df3c-42b6-80ce-3730e6acdeea",
   "metadata": {},
   "outputs": [],
   "source": [
    "# Contar ocorrências de cada categoria\n",
    "habit_counts = df['Dietary Habits'].value_counts()\n",
    "\n",
    "# Substituir as categorias com menos de 10 ocorrências por 'Moderate'\n",
    "df['Dietary Habits'] = df['Dietary Habits'].apply(lambda x: x if habit_counts[x] >= 10 else 'Moderate')"
   ]
  },
  {
   "cell_type": "code",
   "execution_count": 56,
   "id": "40648c6a-b4f1-4b53-af2d-c23a06d09866",
   "metadata": {},
   "outputs": [
    {
     "data": {
      "text/plain": [
       "Dietary Habits\n",
       "Moderate     49727\n",
       "Unhealthy    46224\n",
       "Healthy      44739\n",
       "Name: count, dtype: int64"
      ]
     },
     "execution_count": 56,
     "metadata": {},
     "output_type": "execute_result"
    }
   ],
   "source": [
    "df['Dietary Habits'].value_counts()"
   ]
  },
  {
   "cell_type": "code",
   "execution_count": 57,
   "id": "8ad7fc4e-5d5b-4811-8851-caa874550720",
   "metadata": {},
   "outputs": [],
   "source": [
    "# Contar ocorrências de cada categoria\n",
    "habit_counts = test['Dietary Habits'].value_counts()\n",
    "\n",
    "# Substituir as categorias com menos de 10 ocorrências ou valores nulos por 'Moderate'\n",
    "test['Dietary Habits'] = test['Dietary Habits'].apply(lambda x: x if (x is not np.nan and habit_counts[x] >= 10) else 'Moderate')"
   ]
  },
  {
   "cell_type": "code",
   "execution_count": 58,
   "id": "745317db-ee61-4424-a766-2b5f03408515",
   "metadata": {},
   "outputs": [
    {
     "data": {
      "text/plain": [
       "Dietary Habits\n",
       "Moderate     33048\n",
       "Unhealthy    30786\n",
       "Healthy      29966\n",
       "Name: count, dtype: int64"
      ]
     },
     "execution_count": 58,
     "metadata": {},
     "output_type": "execute_result"
    }
   ],
   "source": [
    "test['Dietary Habits'].value_counts()"
   ]
  },
  {
   "cell_type": "markdown",
   "id": "e59abc07-76d0-403a-a351-4c90396f91d2",
   "metadata": {},
   "source": [
    "## Limpar a colunas 'Degree'"
   ]
  },
  {
   "cell_type": "code",
   "execution_count": 59,
   "id": "d8731cdf-7baa-4dfd-8d0f-13789ac95fde",
   "metadata": {},
   "outputs": [
    {
     "data": {
      "text/plain": [
       "Degree\n",
       "Class 12    14728\n",
       "B.Ed        11690\n",
       "B.Arch       8742\n",
       "B.Com        8113\n",
       "B.Pharm      5856\n",
       "            ...  \n",
       "Vivaan          1\n",
       "MTech           1\n",
       "29              1\n",
       "LLCom           1\n",
       "Advait          1\n",
       "Name: count, Length: 115, dtype: int64"
      ]
     },
     "execution_count": 59,
     "metadata": {},
     "output_type": "execute_result"
    }
   ],
   "source": [
    "df['Degree'].value_counts()"
   ]
  },
  {
   "cell_type": "code",
   "execution_count": 60,
   "id": "7d813d67-dc5d-4a07-9830-cbc30b29333f",
   "metadata": {},
   "outputs": [
    {
     "data": {
      "text/plain": [
       "Degree\n",
       "Class 12    9812\n",
       "B.Ed        7762\n",
       "B.Arch      6037\n",
       "B.Com       5439\n",
       "B.Pharm     3987\n",
       "            ... \n",
       "Bian           1\n",
       "Kavya          1\n",
       "M.M.Ed         1\n",
       "Vrinda         1\n",
       "BHCA           1\n",
       "Name: count, Length: 87, dtype: int64"
      ]
     },
     "execution_count": 60,
     "metadata": {},
     "output_type": "execute_result"
    }
   ],
   "source": [
    "test['Degree'].value_counts()"
   ]
  },
  {
   "cell_type": "code",
   "execution_count": 61,
   "id": "a2802119-13ef-4661-920e-a7614a15e3a8",
   "metadata": {},
   "outputs": [],
   "source": [
    "# Contar ocorrências de cada categoria\n",
    "degree_counts = df['Degree'].value_counts()\n",
    "\n",
    "# Substituir as categorias com menos de 10 ocorrências por 'Outros'\n",
    "df['Degree'] = df['Degree'].apply(lambda x: x if degree_counts[x] >= 10 else 'Outros')"
   ]
  },
  {
   "cell_type": "code",
   "execution_count": 62,
   "id": "84fa4918-fea8-4360-9b6d-7d335cc7ad92",
   "metadata": {},
   "outputs": [
    {
     "data": {
      "text/plain": [
       "Degree\n",
       "Class 12    14728\n",
       "B.Ed        11690\n",
       "B.Arch       8742\n",
       "B.Com        8113\n",
       "B.Pharm      5856\n",
       "BCA          5738\n",
       "M.Ed         5668\n",
       "MCA          5234\n",
       "BBA          5030\n",
       "BSc          5027\n",
       "MSc          4879\n",
       "LLM          4647\n",
       "M.Pharm      4536\n",
       "M.Tech       4475\n",
       "B.Tech       4424\n",
       "LLB          4348\n",
       "BHM          4305\n",
       "MBA          3817\n",
       "BA           3750\n",
       "ME           3631\n",
       "MD           3383\n",
       "MHM          3286\n",
       "BE           3104\n",
       "PhD          3103\n",
       "M.Com        3094\n",
       "MBBS         3081\n",
       "MA           2887\n",
       "Outros        114\n",
       "Name: count, dtype: int64"
      ]
     },
     "execution_count": 62,
     "metadata": {},
     "output_type": "execute_result"
    }
   ],
   "source": [
    "df['Degree'].value_counts()"
   ]
  },
  {
   "cell_type": "code",
   "execution_count": 63,
   "id": "40c2fa6d-27ec-42de-9162-3917a9f10573",
   "metadata": {},
   "outputs": [],
   "source": [
    "# Contar ocorrências de cada categoria\n",
    "degree_counts = test['Degree'].value_counts()\n",
    "\n",
    "# Substituir as categorias com menos de 10 ocorrências ou valores nulos por 'Outros'\n",
    "test['Degree'] = test['Degree'].apply(lambda x: x if pd.notnull(x) and degree_counts[x] >= 10 else 'Outros')"
   ]
  },
  {
   "cell_type": "code",
   "execution_count": 64,
   "id": "1437e407-f018-4fc4-b133-3557e9704838",
   "metadata": {},
   "outputs": [
    {
     "data": {
      "text/plain": [
       "Degree\n",
       "Class 12    9812\n",
       "B.Ed        7762\n",
       "B.Arch      6037\n",
       "B.Com       5439\n",
       "B.Pharm     3987\n",
       "BCA         3869\n",
       "M.Ed        3707\n",
       "MCA         3438\n",
       "BBA         3387\n",
       "BSc         3314\n",
       "LLM         3133\n",
       "MSc         3096\n",
       "M.Tech      3017\n",
       "M.Pharm     2995\n",
       "LLB         2938\n",
       "B.Tech      2885\n",
       "BHM         2776\n",
       "BA          2490\n",
       "MBA         2470\n",
       "ME          2391\n",
       "MD          2289\n",
       "BE          2166\n",
       "MHM         2149\n",
       "M.Com       2128\n",
       "PhD         2073\n",
       "MBBS        2033\n",
       "MA          1933\n",
       "Outros        86\n",
       "Name: count, dtype: int64"
      ]
     },
     "execution_count": 64,
     "metadata": {},
     "output_type": "execute_result"
    }
   ],
   "source": [
    "test['Degree'].value_counts()"
   ]
  },
  {
   "cell_type": "markdown",
   "id": "b570897e-b2a0-432e-a18a-d38caf625291",
   "metadata": {},
   "source": [
    "## Verificando as outras variaveis"
   ]
  },
  {
   "cell_type": "code",
   "execution_count": 65,
   "id": "97a9ecaa-11c9-4612-bd6f-85a1219a7cd3",
   "metadata": {},
   "outputs": [
    {
     "data": {
      "text/plain": [
       "id                                       0\n",
       "Name                                     0\n",
       "Gender                                   0\n",
       "Age                                      0\n",
       "City                                     0\n",
       "Working Professional or Student          0\n",
       "Profession                               0\n",
       "Pressure                                 0\n",
       "CGPA                                     0\n",
       "Satisfaction                             0\n",
       "Sleep Duration                           0\n",
       "Dietary Habits                           0\n",
       "Degree                                   0\n",
       "Have you ever had suicidal thoughts ?    0\n",
       "Work/Study Hours                         0\n",
       "Financial Stress                         0\n",
       "Family History of Mental Illness         0\n",
       "Depression                               0\n",
       "dtype: int64"
      ]
     },
     "execution_count": 65,
     "metadata": {},
     "output_type": "execute_result"
    }
   ],
   "source": [
    "df.isnull().sum()"
   ]
  },
  {
   "cell_type": "code",
   "execution_count": 66,
   "id": "2c66be49-630d-4b7b-a9a0-1b7fde1b1a07",
   "metadata": {},
   "outputs": [
    {
     "data": {
      "text/plain": [
       "Gender\n",
       "Male      77459\n",
       "Female    63231\n",
       "Name: count, dtype: int64"
      ]
     },
     "execution_count": 66,
     "metadata": {},
     "output_type": "execute_result"
    }
   ],
   "source": [
    "df['Gender'].value_counts()"
   ]
  },
  {
   "cell_type": "code",
   "execution_count": 67,
   "id": "8d75727c-7e51-44a2-8ac1-3fe318edbb97",
   "metadata": {},
   "outputs": [
    {
     "data": {
      "text/plain": [
       "Gender\n",
       "Male      51262\n",
       "Female    42538\n",
       "Name: count, dtype: int64"
      ]
     },
     "execution_count": 67,
     "metadata": {},
     "output_type": "execute_result"
    }
   ],
   "source": [
    "test['Gender'].value_counts()"
   ]
  },
  {
   "cell_type": "code",
   "execution_count": 68,
   "id": "69d37b70-7a5b-46ce-9b54-cf10c494c582",
   "metadata": {},
   "outputs": [
    {
     "data": {
      "text/plain": [
       "Age\n",
       "56.0    5246\n",
       "49.0    5099\n",
       "38.0    4564\n",
       "53.0    4526\n",
       "57.0    4395\n",
       "47.0    4199\n",
       "46.0    4080\n",
       "54.0    3928\n",
       "51.0    3927\n",
       "18.0    3921\n",
       "43.0    3856\n",
       "59.0    3781\n",
       "48.0    3694\n",
       "45.0    3535\n",
       "20.0    3514\n",
       "50.0    3439\n",
       "42.0    3393\n",
       "24.0    3355\n",
       "28.0    3336\n",
       "39.0    3262\n",
       "44.0    3217\n",
       "41.0    3140\n",
       "33.0    3140\n",
       "29.0    3096\n",
       "40.0    3094\n",
       "58.0    2932\n",
       "25.0    2931\n",
       "23.0    2899\n",
       "55.0    2846\n",
       "35.0    2834\n",
       "21.0    2742\n",
       "37.0    2722\n",
       "36.0    2703\n",
       "19.0    2634\n",
       "27.0    2613\n",
       "52.0    2589\n",
       "34.0    2577\n",
       "31.0    2560\n",
       "60.0    2501\n",
       "26.0    2108\n",
       "22.0    2066\n",
       "30.0    1912\n",
       "32.0    1784\n",
       "Name: count, dtype: int64"
      ]
     },
     "execution_count": 68,
     "metadata": {},
     "output_type": "execute_result"
    }
   ],
   "source": [
    "df['Age'].value_counts()"
   ]
  },
  {
   "cell_type": "code",
   "execution_count": 69,
   "id": "2083b2d8-0896-4c48-999b-f74c9645f8ff",
   "metadata": {},
   "outputs": [
    {
     "data": {
      "text/plain": [
       "Age\n",
       "56.00    3432\n",
       "49.00    3425\n",
       "38.00    3008\n",
       "53.00    2958\n",
       "57.00    2875\n",
       "47.00    2740\n",
       "46.00    2728\n",
       "18.00    2614\n",
       "59.00    2551\n",
       "54.00    2549\n",
       "51.00    2544\n",
       "43.00    2506\n",
       "48.00    2459\n",
       "20.00    2335\n",
       "45.00    2329\n",
       "50.00    2311\n",
       "24.00    2296\n",
       "42.00    2295\n",
       "28.00    2292\n",
       "39.00    2279\n",
       "44.00    2242\n",
       "29.00    2152\n",
       "41.00    2093\n",
       "33.00    2057\n",
       "58.00    1982\n",
       "25.00    1953\n",
       "40.00    1950\n",
       "35.00    1940\n",
       "21.00    1930\n",
       "55.00    1923\n",
       "23.00    1870\n",
       "37.00    1789\n",
       "34.00    1785\n",
       "36.00    1742\n",
       "19.00    1731\n",
       "27.00    1719\n",
       "60.00    1701\n",
       "52.00    1687\n",
       "31.00    1660\n",
       "22.00    1417\n",
       "26.00    1362\n",
       "30.00    1361\n",
       "32.00    1227\n",
       "32.08       1\n",
       "Name: count, dtype: int64"
      ]
     },
     "execution_count": 69,
     "metadata": {},
     "output_type": "execute_result"
    }
   ],
   "source": [
    "test['Age'].value_counts()"
   ]
  },
  {
   "cell_type": "code",
   "execution_count": 70,
   "id": "b280aea3-e591-4c5b-b989-2c355a000e59",
   "metadata": {},
   "outputs": [],
   "source": [
    "# Substituir '32.08' por '32.00'\n",
    "test['Age'] = test['Age'].replace(32.08, 32.00)\n"
   ]
  },
  {
   "cell_type": "code",
   "execution_count": 71,
   "id": "ae804360-3c38-4c4d-bc0e-22544b09e4f4",
   "metadata": {},
   "outputs": [
    {
     "data": {
      "text/plain": [
       "Age\n",
       "56.0    3432\n",
       "49.0    3425\n",
       "38.0    3008\n",
       "53.0    2958\n",
       "57.0    2875\n",
       "47.0    2740\n",
       "46.0    2728\n",
       "18.0    2614\n",
       "59.0    2551\n",
       "54.0    2549\n",
       "51.0    2544\n",
       "43.0    2506\n",
       "48.0    2459\n",
       "20.0    2335\n",
       "45.0    2329\n",
       "50.0    2311\n",
       "24.0    2296\n",
       "42.0    2295\n",
       "28.0    2292\n",
       "39.0    2279\n",
       "44.0    2242\n",
       "29.0    2152\n",
       "41.0    2093\n",
       "33.0    2057\n",
       "58.0    1982\n",
       "25.0    1953\n",
       "40.0    1950\n",
       "35.0    1940\n",
       "21.0    1930\n",
       "55.0    1923\n",
       "23.0    1870\n",
       "37.0    1789\n",
       "34.0    1785\n",
       "36.0    1742\n",
       "19.0    1731\n",
       "27.0    1719\n",
       "60.0    1701\n",
       "52.0    1687\n",
       "31.0    1660\n",
       "22.0    1417\n",
       "26.0    1362\n",
       "30.0    1361\n",
       "32.0    1228\n",
       "Name: count, dtype: int64"
      ]
     },
     "execution_count": 71,
     "metadata": {},
     "output_type": "execute_result"
    }
   ],
   "source": [
    "test['Age'].value_counts()"
   ]
  },
  {
   "cell_type": "code",
   "execution_count": 72,
   "id": "731edc08-1960-44db-9f3b-8a359ab85ed9",
   "metadata": {},
   "outputs": [
    {
     "name": "stdout",
     "output_type": "stream",
     "text": [
      "City\n",
      "Kalyan                6591\n",
      "Patna                 5924\n",
      "Vasai-Virar           5765\n",
      "Kolkata               5688\n",
      "Ahmedabad             5613\n",
      "Meerut                5528\n",
      "Ludhiana              5226\n",
      "Pune                  5210\n",
      "Rajkot                5207\n",
      "Visakhapatnam         5176\n",
      "Srinagar              5072\n",
      "Mumbai                4966\n",
      "Indore                4872\n",
      "Agra                  4683\n",
      "Surat                 4636\n",
      "Varanasi              4605\n",
      "Vadodara              4568\n",
      "Hyderabad             4493\n",
      "Kanpur                4398\n",
      "Jaipur                4328\n",
      "Thane                 4289\n",
      "Lucknow               4280\n",
      "Nagpur                4209\n",
      "Bangalore             4122\n",
      "Chennai               4044\n",
      "Ghaziabad             3620\n",
      "Delhi                 3593\n",
      "Bhopal                3475\n",
      "Faridabad             3268\n",
      "Nashik                3143\n",
      "Mihir                    7\n",
      "Nandini                  4\n",
      "Mahi                     3\n",
      "Vidya                    3\n",
      "City                     3\n",
      "Pratyush                 3\n",
      "Harsha                   3\n",
      "Saanvi                   3\n",
      "Bhavna                   3\n",
      "Molkata                  2\n",
      "MCA                      2\n",
      "M.Com                    2\n",
      "Atharv                   2\n",
      "Nalini                   2\n",
      "Keshav                   2\n",
      "Ayush                    2\n",
      "M.Tech                   1\n",
      "Researcher               1\n",
      "Vaishnavi                1\n",
      "Chhavi                   1\n",
      "Parth                    1\n",
      "Vidhi                    1\n",
      "Tushar                   1\n",
      "MSc                      1\n",
      "No                       1\n",
      "Rashi                    1\n",
      "ME                       1\n",
      "Ishanabad                1\n",
      "Armaan                   1\n",
      "Kagan                    1\n",
      "Kashish                  1\n",
      "Ithal                    1\n",
      "Nalyan                   1\n",
      "Dhruv                    1\n",
      "Galesabad                1\n",
      "Itheg                    1\n",
      "Aaradhya                 1\n",
      "Pooja                    1\n",
      "Khushi                   1\n",
      "Khaziabad                1\n",
      "Jhanvi                   1\n",
      "Kibara                   1\n",
      "Harsh                    1\n",
      "Reyansh                  1\n",
      "Morena                   1\n",
      "Less Delhi               1\n",
      "Malyansh                 1\n",
      "Aditya                   1\n",
      "Plata                    1\n",
      "Aishwarya                1\n",
      "3.0                      1\n",
      "Less than 5 Kalyan       1\n",
      "Krishna                  1\n",
      "Mira                     1\n",
      "Moreadhyay               1\n",
      "Ishkarsh                 1\n",
      "Raghavendra              1\n",
      "Kashk                    1\n",
      "Gurgaon                  1\n",
      "Tolkata                  1\n",
      "Anvi                     1\n",
      "Krinda                   1\n",
      "Ayansh                   1\n",
      "Shrey                    1\n",
      "Ivaan                    1\n",
      "Vaanya                   1\n",
      "Gaurav                   1\n",
      "Unirar                   1\n",
      "Name: count, dtype: int64\n"
     ]
    }
   ],
   "source": [
    "# Configurar a exibição para mostrar todas as linhas\n",
    "pd.set_option('display.max_rows', None)  # Para mostrar todas as linhas\n",
    "pd.set_option('display.max_columns', None)  # Para mostrar todas as colunas, se necessário\n",
    "\n",
    "# Exibir a contagem de valores na coluna 'City'\n",
    "city_counts = df['City'].value_counts()\n",
    "print(city_counts)\n",
    "\n",
    "# Resetar as opções para o padrão, se necessário\n",
    "pd.reset_option('display.max_rows')"
   ]
  },
  {
   "cell_type": "code",
   "execution_count": 73,
   "id": "e2124612-d647-4db5-921d-f68bf2bb65a8",
   "metadata": {},
   "outputs": [
    {
     "name": "stdout",
     "output_type": "stream",
     "text": [
      "City\n",
      "Kalyan               4387\n",
      "Vasai-Virar          3897\n",
      "Patna                3888\n",
      "Kolkata              3726\n",
      "Ahmedabad            3677\n",
      "Meerut               3661\n",
      "Srinagar             3547\n",
      "Ludhiana             3545\n",
      "Rajkot               3450\n",
      "Visakhapatnam        3416\n",
      "Pune                 3318\n",
      "Agra                 3189\n",
      "Vadodara             3169\n",
      "Mumbai               3129\n",
      "Hyderabad            3123\n",
      "Surat                3090\n",
      "Varanasi             3052\n",
      "Indore               3040\n",
      "Kanpur               2978\n",
      "Jaipur               2874\n",
      "Lucknow              2860\n",
      "Thane                2835\n",
      "Nagpur               2748\n",
      "Bangalore            2707\n",
      "Chennai              2674\n",
      "Delhi                2536\n",
      "Ghaziabad            2486\n",
      "Bhopal               2370\n",
      "Faridabad            2196\n",
      "Nashik               2182\n",
      "Vidya                   4\n",
      "Siddhesh                3\n",
      "Bhavna                  3\n",
      "Vikram                  2\n",
      "Keshav                  2\n",
      "Nalini                  2\n",
      "City                    2\n",
      "Hrithik                 2\n",
      "San Vasai-Virar         1\n",
      "Vaikot                  1\n",
      "Leela                   1\n",
      "Chemist                 1\n",
      "Ghopal                  1\n",
      "No                      1\n",
      "More Delhi              1\n",
      "Saanvi                  1\n",
      "Pratham                 1\n",
      "Vidhi                   1\n",
      "Abhinav                 1\n",
      "Rolkata                 1\n",
      "Parth                   1\n",
      "Aditi                   1\n",
      "Saurav                  1\n",
      "Sara                    1\n",
      "Less Delhi              1\n",
      "Golkata                 1\n",
      "Is Kanpur               1\n",
      "Unaly                   1\n",
      "Thani                   1\n",
      "Lawyer                  1\n",
      "Vaishnavi               1\n",
      "Ira                     1\n",
      "Avni                    1\n",
      "Mhopal                  1\n",
      "Less than 5 hours       1\n",
      "Pratyush                1\n",
      "Malyan                  1\n",
      "No.12                   1\n",
      "Name: count, dtype: int64\n"
     ]
    }
   ],
   "source": [
    "# Configurar a exibição para mostrar todas as linhas\n",
    "pd.set_option('display.max_rows', None)  # Para mostrar todas as linhas\n",
    "pd.set_option('display.max_columns', None)  # Para mostrar todas as colunas, se necessário\n",
    "\n",
    "# Exibir a contagem de valores na coluna 'City'\n",
    "city_counts = test['City'].value_counts()\n",
    "print(city_counts)\n",
    "\n",
    "# Resetar as opções para o padrão, se necessário\n",
    "pd.reset_option('display.max_rows')"
   ]
  },
  {
   "cell_type": "code",
   "execution_count": 74,
   "id": "2490d5d0-1a39-423f-8ba3-378f019330eb",
   "metadata": {},
   "outputs": [],
   "source": [
    "# Contar ocorrências de cada cidade\n",
    "city_counts = df['City'].value_counts()\n",
    "\n",
    "# Substituir cidades com menos de 10 ocorrências por 'Outros'\n",
    "df['City'] = df['City'].apply(lambda x: x if city_counts[x] >= 10 else 'Outros')\n"
   ]
  },
  {
   "cell_type": "code",
   "execution_count": 75,
   "id": "5774d9ad-6b69-435f-b75c-3ff34af85603",
   "metadata": {},
   "outputs": [
    {
     "data": {
      "text/plain": [
       "City\n",
       "Kalyan           6591\n",
       "Patna            5924\n",
       "Vasai-Virar      5765\n",
       "Kolkata          5688\n",
       "Ahmedabad        5613\n",
       "Meerut           5528\n",
       "Ludhiana         5226\n",
       "Pune             5210\n",
       "Rajkot           5207\n",
       "Visakhapatnam    5176\n",
       "Srinagar         5072\n",
       "Mumbai           4966\n",
       "Indore           4872\n",
       "Agra             4683\n",
       "Surat            4636\n",
       "Varanasi         4605\n",
       "Vadodara         4568\n",
       "Hyderabad        4493\n",
       "Kanpur           4398\n",
       "Jaipur           4328\n",
       "Thane            4289\n",
       "Lucknow          4280\n",
       "Nagpur           4209\n",
       "Bangalore        4122\n",
       "Chennai          4044\n",
       "Ghaziabad        3620\n",
       "Delhi            3593\n",
       "Bhopal           3475\n",
       "Faridabad        3268\n",
       "Nashik           3143\n",
       "Outros             98\n",
       "Name: count, dtype: int64"
      ]
     },
     "execution_count": 75,
     "metadata": {},
     "output_type": "execute_result"
    }
   ],
   "source": [
    "df['City'].value_counts()"
   ]
  },
  {
   "cell_type": "code",
   "execution_count": 76,
   "id": "e4d08923-4114-4b18-8426-cab1da3e7825",
   "metadata": {},
   "outputs": [],
   "source": [
    "# Contar ocorrências de cada cidade\n",
    "city_counts = test['City'].value_counts()\n",
    "\n",
    "# Substituir cidades com menos de 10 ocorrências por 'Outros'\n",
    "test['City'] = test['City'].apply(lambda x: x if city_counts[x] >= 10 else 'Outros')\n"
   ]
  },
  {
   "cell_type": "code",
   "execution_count": 77,
   "id": "fd1680e6-f51b-4f65-afd3-c123339a44aa",
   "metadata": {},
   "outputs": [
    {
     "data": {
      "text/plain": [
       "City\n",
       "Kalyan           4387\n",
       "Vasai-Virar      3897\n",
       "Patna            3888\n",
       "Kolkata          3726\n",
       "Ahmedabad        3677\n",
       "Meerut           3661\n",
       "Srinagar         3547\n",
       "Ludhiana         3545\n",
       "Rajkot           3450\n",
       "Visakhapatnam    3416\n",
       "Pune             3318\n",
       "Agra             3189\n",
       "Vadodara         3169\n",
       "Mumbai           3129\n",
       "Hyderabad        3123\n",
       "Surat            3090\n",
       "Varanasi         3052\n",
       "Indore           3040\n",
       "Kanpur           2978\n",
       "Jaipur           2874\n",
       "Lucknow          2860\n",
       "Thane            2835\n",
       "Nagpur           2748\n",
       "Bangalore        2707\n",
       "Chennai          2674\n",
       "Delhi            2536\n",
       "Ghaziabad        2486\n",
       "Bhopal           2370\n",
       "Faridabad        2196\n",
       "Nashik           2182\n",
       "Outros             50\n",
       "Name: count, dtype: int64"
      ]
     },
     "execution_count": 77,
     "metadata": {},
     "output_type": "execute_result"
    }
   ],
   "source": [
    "test['City'].value_counts()"
   ]
  },
  {
   "cell_type": "code",
   "execution_count": 78,
   "id": "0cd5fe2c-66f8-40c5-8914-c75a20809a09",
   "metadata": {},
   "outputs": [
    {
     "data": {
      "text/plain": [
       "id                                       0\n",
       "Name                                     0\n",
       "Gender                                   0\n",
       "Age                                      0\n",
       "City                                     0\n",
       "Working Professional or Student          0\n",
       "Profession                               0\n",
       "Pressure                                 0\n",
       "CGPA                                     0\n",
       "Satisfaction                             0\n",
       "Sleep Duration                           0\n",
       "Dietary Habits                           0\n",
       "Degree                                   0\n",
       "Have you ever had suicidal thoughts ?    0\n",
       "Work/Study Hours                         0\n",
       "Financial Stress                         0\n",
       "Family History of Mental Illness         0\n",
       "Depression                               0\n",
       "dtype: int64"
      ]
     },
     "execution_count": 78,
     "metadata": {},
     "output_type": "execute_result"
    }
   ],
   "source": [
    "df.isnull().sum()"
   ]
  },
  {
   "cell_type": "code",
   "execution_count": 79,
   "id": "29597e66-23f5-4117-804a-a4120a19fc53",
   "metadata": {},
   "outputs": [
    {
     "data": {
      "text/plain": [
       "Working Professional or Student\n",
       "Working Professional    112794\n",
       "Student                  27896\n",
       "Name: count, dtype: int64"
      ]
     },
     "execution_count": 79,
     "metadata": {},
     "output_type": "execute_result"
    }
   ],
   "source": [
    "df['Working Professional or Student'].value_counts()"
   ]
  },
  {
   "cell_type": "code",
   "execution_count": 80,
   "id": "9553cf06-a3ec-4b8e-866c-93ae23cbc702",
   "metadata": {},
   "outputs": [
    {
     "data": {
      "text/plain": [
       "Working Professional or Student\n",
       "Working Professional    75028\n",
       "Student                 18772\n",
       "Name: count, dtype: int64"
      ]
     },
     "execution_count": 80,
     "metadata": {},
     "output_type": "execute_result"
    }
   ],
   "source": [
    "test['Working Professional or Student'].value_counts()"
   ]
  },
  {
   "cell_type": "code",
   "execution_count": 81,
   "id": "cbdcf6dd-b523-4ccf-bdfb-dba8a3d5926c",
   "metadata": {},
   "outputs": [
    {
     "data": {
      "text/plain": [
       "Sleep Duration\n",
       "Less than 5 hours    38781\n",
       "7-8 hours            36968\n",
       "More than 8 hours    32724\n",
       "5-6 hours            32138\n",
       "3-4 hours               12\n",
       "6-7 hours                8\n",
       "4-5 hours                7\n",
       "2-3 hours                5\n",
       "4-6 hours                5\n",
       "6-8 hours                4\n",
       "1-6 hours                4\n",
       "No                       4\n",
       "9-11 hours               2\n",
       "10-11 hours              2\n",
       "Sleep_Duration           2\n",
       "Unhealthy                2\n",
       "45                       2\n",
       "8-9 hours                2\n",
       "10-6 hours               1\n",
       "9-5                      1\n",
       "45-48 hours              1\n",
       "3-6 hours                1\n",
       "Work_Study_Hours         1\n",
       "49 hours                 1\n",
       "than 5 hours             1\n",
       "Pune                     1\n",
       "9-6 hours                1\n",
       "8 hours                  1\n",
       "35-36 hours              1\n",
       "Indore                   1\n",
       "1-3 hours                1\n",
       "55-66 hours              1\n",
       "Moderate                 1\n",
       "40-45 hours              1\n",
       "1-2 hours                1\n",
       "9-5 hours                1\n",
       "Name: count, dtype: int64"
      ]
     },
     "execution_count": 81,
     "metadata": {},
     "output_type": "execute_result"
    }
   ],
   "source": [
    "df['Sleep Duration'].value_counts()"
   ]
  },
  {
   "cell_type": "code",
   "execution_count": 82,
   "id": "008b4612-76a1-4800-839d-4f857b080566",
   "metadata": {},
   "outputs": [
    {
     "data": {
      "text/plain": [
       "Sleep Duration\n",
       "Less than 5 hours                      25661\n",
       "7-8 hours                              24491\n",
       "More than 8 hours                      22190\n",
       "5-6 hours                              21404\n",
       "6-7 hours                                  7\n",
       "8-9 hours                                  6\n",
       "4-5 hours                                  6\n",
       "2-3 hours                                  4\n",
       "3-4 hours                                  3\n",
       "9-5 hours                                  2\n",
       "1-6 hours                                  2\n",
       "9-5                                        2\n",
       "Meerut                                     2\n",
       "4-6 hours                                  2\n",
       "1-2 hours                                  2\n",
       "10-6 hours                                 1\n",
       "9-10 hours                                 1\n",
       "9-11 hours                                 1\n",
       "50-75 hours                                1\n",
       "6 hours                                    1\n",
       "1-3 hours                                  1\n",
       "8-89 hours                                 1\n",
       "20-21 hours                                1\n",
       "Have_you_ever_had_suicidal_thoughts        1\n",
       "60-65 hours                                1\n",
       "9-6 hours                                  1\n",
       "than 5 hours                               1\n",
       "0                                          1\n",
       "Unhealthy                                  1\n",
       "Vivan                                      1\n",
       "3-6 hours                                  1\n",
       "Name: count, dtype: int64"
      ]
     },
     "execution_count": 82,
     "metadata": {},
     "output_type": "execute_result"
    }
   ],
   "source": [
    "test['Sleep Duration'].value_counts()"
   ]
  },
  {
   "cell_type": "code",
   "execution_count": 83,
   "id": "cffa4e08-df7e-4470-8b69-56f8f55bfa7e",
   "metadata": {},
   "outputs": [],
   "source": [
    "# Contar ocorrências de cada categoria\n",
    "sleep_counts = df['Sleep Duration'].value_counts()\n",
    "\n",
    "# Substituir categorias com menos de 15 ocorrências por '5-6 hours'\n",
    "df['Sleep Duration'] = df['Sleep Duration'].apply(lambda x: x if sleep_counts[x] >= 15 else '5-6 hours')"
   ]
  },
  {
   "cell_type": "code",
   "execution_count": 84,
   "id": "4b25a3ea-c63c-4cf0-86b0-92bf33ea7a22",
   "metadata": {},
   "outputs": [
    {
     "data": {
      "text/plain": [
       "Sleep Duration\n",
       "Less than 5 hours    38781\n",
       "7-8 hours            36968\n",
       "More than 8 hours    32724\n",
       "5-6 hours            32217\n",
       "Name: count, dtype: int64"
      ]
     },
     "execution_count": 84,
     "metadata": {},
     "output_type": "execute_result"
    }
   ],
   "source": [
    "df['Sleep Duration'].value_counts()"
   ]
  },
  {
   "cell_type": "code",
   "execution_count": 85,
   "id": "b310467a-e60d-45de-a565-de0b3a163d7d",
   "metadata": {},
   "outputs": [],
   "source": [
    "# Contar ocorrências de cada categoria\n",
    "sleep_counts = test['Sleep Duration'].value_counts()\n",
    "\n",
    "# Substituir categorias com menos de 15 ocorrências por '5-6 hours'\n",
    "test['Sleep Duration'] = test['Sleep Duration'].apply(lambda x: x if sleep_counts[x] >= 15 else '5-6 hours')"
   ]
  },
  {
   "cell_type": "code",
   "execution_count": 86,
   "id": "2396d8b4-b4e8-4410-9ff2-c36f33629c03",
   "metadata": {},
   "outputs": [
    {
     "data": {
      "text/plain": [
       "Sleep Duration\n",
       "Less than 5 hours    25661\n",
       "7-8 hours            24491\n",
       "More than 8 hours    22190\n",
       "5-6 hours            21458\n",
       "Name: count, dtype: int64"
      ]
     },
     "execution_count": 86,
     "metadata": {},
     "output_type": "execute_result"
    }
   ],
   "source": [
    "test['Sleep Duration'].value_counts()"
   ]
  },
  {
   "cell_type": "code",
   "execution_count": 87,
   "id": "21dea58f-bce8-45a1-a9ea-e756d709a16b",
   "metadata": {},
   "outputs": [],
   "source": [
    "# Criar um dicionário de substituições\n",
    "replacements = {\n",
    "    'Less than 5 hours': 5,\n",
    "    '7-8 hours': 7,\n",
    "    'More than 8 hours': 8,\n",
    "    '5-6 hours': 6\n",
    "}\n",
    "\n",
    "# Substituir os valores de acordo com o dicionário\n",
    "df['Sleep Duration'] = df['Sleep Duration'].replace(replacements)\n"
   ]
  },
  {
   "cell_type": "code",
   "execution_count": 88,
   "id": "ec89948e-7dde-465d-bb17-5fb1d3d8ebbb",
   "metadata": {},
   "outputs": [
    {
     "data": {
      "text/plain": [
       "Sleep Duration\n",
       "5    38781\n",
       "7    36968\n",
       "8    32724\n",
       "6    32217\n",
       "Name: count, dtype: int64"
      ]
     },
     "execution_count": 88,
     "metadata": {},
     "output_type": "execute_result"
    }
   ],
   "source": [
    "df['Sleep Duration'].value_counts()"
   ]
  },
  {
   "cell_type": "code",
   "execution_count": 89,
   "id": "0c70c0c9-f1e3-4079-8bde-2bea193e7913",
   "metadata": {},
   "outputs": [],
   "source": [
    "\n",
    "# Substituir os valores de acordo com o dicionário\n",
    "test['Sleep Duration'] = test['Sleep Duration'].replace(replacements)\n"
   ]
  },
  {
   "cell_type": "code",
   "execution_count": 90,
   "id": "a5816021-9b87-4a98-a09e-7cc21e7807a8",
   "metadata": {},
   "outputs": [
    {
     "data": {
      "text/plain": [
       "Sleep Duration\n",
       "5    25661\n",
       "7    24491\n",
       "8    22190\n",
       "6    21458\n",
       "Name: count, dtype: int64"
      ]
     },
     "execution_count": 90,
     "metadata": {},
     "output_type": "execute_result"
    }
   ],
   "source": [
    "test['Sleep Duration'].value_counts()"
   ]
  },
  {
   "cell_type": "code",
   "execution_count": 91,
   "id": "0a3d70ab-75e2-4f3a-b992-e243b4be66f1",
   "metadata": {},
   "outputs": [
    {
     "data": {
      "text/plain": [
       "id                                       0\n",
       "Name                                     0\n",
       "Gender                                   0\n",
       "Age                                      0\n",
       "City                                     0\n",
       "Working Professional or Student          0\n",
       "Profession                               0\n",
       "Pressure                                 0\n",
       "CGPA                                     0\n",
       "Satisfaction                             0\n",
       "Sleep Duration                           0\n",
       "Dietary Habits                           0\n",
       "Degree                                   0\n",
       "Have you ever had suicidal thoughts ?    0\n",
       "Work/Study Hours                         0\n",
       "Financial Stress                         0\n",
       "Family History of Mental Illness         0\n",
       "Depression                               0\n",
       "dtype: int64"
      ]
     },
     "execution_count": 91,
     "metadata": {},
     "output_type": "execute_result"
    }
   ],
   "source": [
    "df.isnull().sum()"
   ]
  },
  {
   "cell_type": "code",
   "execution_count": 92,
   "id": "97d6584c-c10d-4d71-8121-877d0996a20e",
   "metadata": {},
   "outputs": [
    {
     "data": {
      "text/plain": [
       "Dietary Habits\n",
       "Moderate     33048\n",
       "Unhealthy    30786\n",
       "Healthy      29966\n",
       "Name: count, dtype: int64"
      ]
     },
     "execution_count": 92,
     "metadata": {},
     "output_type": "execute_result"
    }
   ],
   "source": [
    "test['Dietary Habits'].value_counts()"
   ]
  },
  {
   "cell_type": "code",
   "execution_count": 93,
   "id": "5a1b0237-121a-4831-9e42-dc59ad7fb039",
   "metadata": {},
   "outputs": [
    {
     "data": {
      "text/plain": [
       "Degree\n",
       "Class 12    9812\n",
       "B.Ed        7762\n",
       "B.Arch      6037\n",
       "B.Com       5439\n",
       "B.Pharm     3987\n",
       "BCA         3869\n",
       "M.Ed        3707\n",
       "MCA         3438\n",
       "BBA         3387\n",
       "BSc         3314\n",
       "LLM         3133\n",
       "MSc         3096\n",
       "M.Tech      3017\n",
       "M.Pharm     2995\n",
       "LLB         2938\n",
       "B.Tech      2885\n",
       "BHM         2776\n",
       "BA          2490\n",
       "MBA         2470\n",
       "ME          2391\n",
       "MD          2289\n",
       "BE          2166\n",
       "MHM         2149\n",
       "M.Com       2128\n",
       "PhD         2073\n",
       "MBBS        2033\n",
       "MA          1933\n",
       "Outros        86\n",
       "Name: count, dtype: int64"
      ]
     },
     "execution_count": 93,
     "metadata": {},
     "output_type": "execute_result"
    }
   ],
   "source": [
    "test['Degree'].value_counts()"
   ]
  },
  {
   "cell_type": "code",
   "execution_count": 94,
   "id": "970ca047-a500-4e31-8f7c-a9e70e26b5ff",
   "metadata": {},
   "outputs": [
    {
     "data": {
      "text/plain": [
       "Work/Study Hours\n",
       "10.0    9450\n",
       "11.0    8555\n",
       "9.0     8315\n",
       "0.0     8132\n",
       "12.0    7657\n",
       "2.0     7083\n",
       "6.0     7029\n",
       "7.0     6646\n",
       "1.0     6525\n",
       "3.0     6261\n",
       "5.0     6118\n",
       "4.0     6079\n",
       "8.0     5950\n",
       "Name: count, dtype: int64"
      ]
     },
     "execution_count": 94,
     "metadata": {},
     "output_type": "execute_result"
    }
   ],
   "source": [
    "test['Work/Study Hours'].value_counts()"
   ]
  },
  {
   "cell_type": "code",
   "execution_count": 95,
   "id": "fa0e0ca0-8b39-4f1e-8091-2c757c63ea54",
   "metadata": {},
   "outputs": [
    {
     "data": {
      "text/plain": [
       "Work/Study Hours\n",
       "10.0    14199\n",
       "11.0    12831\n",
       "9.0     12709\n",
       "0.0     12066\n",
       "12.0    11407\n",
       "2.0     10595\n",
       "6.0     10431\n",
       "7.0      9872\n",
       "1.0      9802\n",
       "3.0      9473\n",
       "5.0      9336\n",
       "4.0      9063\n",
       "8.0      8906\n",
       "Name: count, dtype: int64"
      ]
     },
     "execution_count": 95,
     "metadata": {},
     "output_type": "execute_result"
    }
   ],
   "source": [
    "df['Work/Study Hours'].value_counts()"
   ]
  },
  {
   "cell_type": "code",
   "execution_count": 96,
   "id": "e7089c83-5927-409d-8759-1ceaf45ac054",
   "metadata": {},
   "outputs": [
    {
     "data": {
      "text/plain": [
       "Financial Stress\n",
       "2.0    21151\n",
       "5.0    18694\n",
       "4.0    18453\n",
       "1.0    18341\n",
       "3.0    17161\n",
       "Name: count, dtype: int64"
      ]
     },
     "execution_count": 96,
     "metadata": {},
     "output_type": "execute_result"
    }
   ],
   "source": [
    "test['Financial Stress'].value_counts()"
   ]
  },
  {
   "cell_type": "code",
   "execution_count": 97,
   "id": "56cd8eb8-b06e-4fa1-845e-82d61d971b82",
   "metadata": {},
   "outputs": [
    {
     "data": {
      "text/plain": [
       "Family History of Mental Illness\n",
       "No     70753\n",
       "Yes    69937\n",
       "Name: count, dtype: int64"
      ]
     },
     "execution_count": 97,
     "metadata": {},
     "output_type": "execute_result"
    }
   ],
   "source": [
    "df['Family History of Mental Illness'].value_counts()"
   ]
  },
  {
   "cell_type": "code",
   "execution_count": 98,
   "id": "773b3a82-6874-466d-b956-4b62c0d85982",
   "metadata": {},
   "outputs": [
    {
     "data": {
      "text/plain": [
       "Family History of Mental Illness\n",
       "No     47118\n",
       "Yes    46682\n",
       "Name: count, dtype: int64"
      ]
     },
     "execution_count": 98,
     "metadata": {},
     "output_type": "execute_result"
    }
   ],
   "source": [
    "test['Family History of Mental Illness'].value_counts()"
   ]
  },
  {
   "cell_type": "code",
   "execution_count": 99,
   "id": "ce1673ff-6d78-4677-913e-769cc9272034",
   "metadata": {},
   "outputs": [
    {
     "data": {
      "text/plain": [
       "Depression\n",
       "0    115127\n",
       "1     25563\n",
       "Name: count, dtype: int64"
      ]
     },
     "execution_count": 99,
     "metadata": {},
     "output_type": "execute_result"
    }
   ],
   "source": [
    "df['Depression'].value_counts()"
   ]
  },
  {
   "cell_type": "code",
   "execution_count": 100,
   "id": "8ba25f37-d3d5-4f27-a7e8-d16d45c4c29f",
   "metadata": {},
   "outputs": [],
   "source": [
    "ts = test.copy()"
   ]
  },
  {
   "cell_type": "code",
   "execution_count": 101,
   "id": "d264314f-793d-4d30-8b91-29a2e120f224",
   "metadata": {},
   "outputs": [
    {
     "data": {
      "text/plain": [
       "((140690, 18), (93800, 17))"
      ]
     },
     "execution_count": 101,
     "metadata": {},
     "output_type": "execute_result"
    }
   ],
   "source": [
    "df.shape,ts.shape"
   ]
  },
  {
   "cell_type": "code",
   "execution_count": 102,
   "id": "483b958f-ea99-4684-b3cf-4419f259a179",
   "metadata": {},
   "outputs": [],
   "source": [
    "df=df.drop(['id','Name'],axis =1)\n",
    "ts=ts.drop(['id','Name'],axis =1)"
   ]
  },
  {
   "cell_type": "markdown",
   "id": "495f935a-65e6-476b-9b78-b5087845ae6c",
   "metadata": {},
   "source": [
    "# CATBOOST"
   ]
  },
  {
   "cell_type": "code",
   "execution_count": 103,
   "id": "fb951f36-7bd9-4d90-af8c-6db779905f36",
   "metadata": {},
   "outputs": [
    {
     "name": "stdout",
     "output_type": "stream",
     "text": [
      "Mean Accuracy: 0.9391\n",
      "Std Deviation: 0.0019\n"
     ]
    }
   ],
   "source": [
    "# Importando as bibliotecas necessárias\n",
    "from catboost import CatBoostClassifier, Pool\n",
    "from sklearn.model_selection import StratifiedKFold\n",
    "import pandas as pd\n",
    "import numpy as np\n",
    "\n",
    "# Definindo variáveis de entrada (X) e variável alvo (y)\n",
    "X = df.drop(columns=['Depression'])  # Remova 'target' do conjunto de variáveis independentes\n",
    "y = df['Depression']\n",
    "\n",
    "# Listando os nomes ou índices das colunas categóricas\n",
    "categorical_features = ['Gender', 'City','Working Professional or Student','Profession','Dietary Habits','Degree','Have you ever had suicidal thoughts ?','Family History of Mental Illness']  # Exemplo: ['coluna1', 'coluna2']\n",
    "\n",
    "# Definindo o modelo CatBoost\n",
    "model = CatBoostClassifier(\n",
    "    iterations=1000,           # Número de iterações (ajuste conforme necessário)\n",
    "    learning_rate=0.1,         # Taxa de aprendizado\n",
    "    depth=6,                   # Profundidade da árvore\n",
    "    loss_function='Logloss',   # Função de perda para classificação binária\n",
    "    eval_metric='Accuracy',    # Métrica de avaliação\n",
    "    verbose=0                  # Evitar saída detalhada\n",
    ")\n",
    "\n",
    "# Configurando a validação cruzada\n",
    "kf = StratifiedKFold(n_splits=5, shuffle=True, random_state=42)\n",
    "accuracies = []\n",
    "\n",
    "for train_index, test_index in kf.split(X, y):\n",
    "    X_train, X_test = X.iloc[train_index], X.iloc[test_index]\n",
    "    y_train, y_test = y.iloc[train_index], y.iloc[test_index]\n",
    "    \n",
    "    # Criando Pool para treinamento e teste\n",
    "    train_pool = Pool(data=X_train, label=y_train, cat_features=categorical_features)\n",
    "    test_pool = Pool(data=X_test, label=y_test, cat_features=categorical_features)\n",
    "    \n",
    "    # Treinando o modelo\n",
    "    model.fit(train_pool)\n",
    "    \n",
    "    # Avaliando no conjunto de teste\n",
    "    accuracy = model.score(test_pool)\n",
    "    accuracies.append(accuracy)\n",
    "\n",
    "# Exibindo a acurácia média e o desvio padrão\n",
    "print(f\"Mean Accuracy: {np.mean(accuracies):.4f}\")\n",
    "print(f\"Std Deviation: {np.std(accuracies):.4f}\")  \n"
   ]
  },
  {
   "cell_type": "code",
   "execution_count": 104,
   "id": "ef06e6c0-c5a4-417d-946c-3e1157a93b1b",
   "metadata": {},
   "outputs": [
    {
     "name": "stdout",
     "output_type": "stream",
     "text": [
      "Predições: [0 0 0 ... 0 1 0]\n",
      "Probabilidades das classes: [[9.99623024e-01 3.76976401e-04]\n",
      " [9.99936534e-01 6.34656346e-05]\n",
      " [9.80255643e-01 1.97443569e-02]\n",
      " ...\n",
      " [9.85535601e-01 1.44643988e-02]\n",
      " [1.40896088e-01 8.59103912e-01]\n",
      " [9.95350576e-01 4.64942440e-03]]\n"
     ]
    }
   ],
   "source": [
    "from catboost import Pool\n",
    "\n",
    "# Crie o Pool para o novo conjunto de dados\n",
    "new_data_pool = Pool(data=ts, cat_features=categorical_features)\n",
    "\n",
    "# Fazer previsões com o modelo treinado\n",
    "predictions = model.predict(new_data_pool)\n",
    "# Para obter a probabilidade de cada classe, use:\n",
    "proba_predictions = model.predict_proba(new_data_pool)\n",
    "\n",
    "# Exibindo as previsões e as probabilidades\n",
    "print(\"Predições:\", predictions)\n",
    "print(\"Probabilidades das classes:\", proba_predictions)\n"
   ]
  },
  {
   "cell_type": "code",
   "execution_count": 105,
   "id": "8f41366d-367b-4fd8-afa7-5d317c9e7797",
   "metadata": {},
   "outputs": [],
   "source": [
    "sample = pd.read_csv(\"sample_submission.csv\")"
   ]
  },
  {
   "cell_type": "code",
   "execution_count": 106,
   "id": "b3c8e5f7-6157-4fe6-8392-d1b4d3adb8de",
   "metadata": {},
   "outputs": [
    {
     "data": {
      "text/html": [
       "<div>\n",
       "<style scoped>\n",
       "    .dataframe tbody tr th:only-of-type {\n",
       "        vertical-align: middle;\n",
       "    }\n",
       "\n",
       "    .dataframe tbody tr th {\n",
       "        vertical-align: top;\n",
       "    }\n",
       "\n",
       "    .dataframe thead th {\n",
       "        text-align: right;\n",
       "    }\n",
       "</style>\n",
       "<table border=\"1\" class=\"dataframe\">\n",
       "  <thead>\n",
       "    <tr style=\"text-align: right;\">\n",
       "      <th></th>\n",
       "      <th>id</th>\n",
       "      <th>Depression</th>\n",
       "    </tr>\n",
       "  </thead>\n",
       "  <tbody>\n",
       "    <tr>\n",
       "      <th>0</th>\n",
       "      <td>140700</td>\n",
       "      <td>0</td>\n",
       "    </tr>\n",
       "    <tr>\n",
       "      <th>1</th>\n",
       "      <td>140701</td>\n",
       "      <td>0</td>\n",
       "    </tr>\n",
       "    <tr>\n",
       "      <th>2</th>\n",
       "      <td>140702</td>\n",
       "      <td>0</td>\n",
       "    </tr>\n",
       "    <tr>\n",
       "      <th>3</th>\n",
       "      <td>140703</td>\n",
       "      <td>0</td>\n",
       "    </tr>\n",
       "    <tr>\n",
       "      <th>4</th>\n",
       "      <td>140704</td>\n",
       "      <td>0</td>\n",
       "    </tr>\n",
       "  </tbody>\n",
       "</table>\n",
       "</div>"
      ],
      "text/plain": [
       "       id  Depression\n",
       "0  140700           0\n",
       "1  140701           0\n",
       "2  140702           0\n",
       "3  140703           0\n",
       "4  140704           0"
      ]
     },
     "execution_count": 106,
     "metadata": {},
     "output_type": "execute_result"
    }
   ],
   "source": [
    "sample.head()"
   ]
  },
  {
   "cell_type": "code",
   "execution_count": 107,
   "id": "2aca3e0a-2f4f-4fe4-b02e-7625899082fd",
   "metadata": {},
   "outputs": [],
   "source": [
    "sample['Depression'] = predictions"
   ]
  },
  {
   "cell_type": "code",
   "execution_count": 108,
   "id": "e5fa315b-d035-454d-8901-98faa744a58b",
   "metadata": {},
   "outputs": [
    {
     "data": {
      "text/html": [
       "<div>\n",
       "<style scoped>\n",
       "    .dataframe tbody tr th:only-of-type {\n",
       "        vertical-align: middle;\n",
       "    }\n",
       "\n",
       "    .dataframe tbody tr th {\n",
       "        vertical-align: top;\n",
       "    }\n",
       "\n",
       "    .dataframe thead th {\n",
       "        text-align: right;\n",
       "    }\n",
       "</style>\n",
       "<table border=\"1\" class=\"dataframe\">\n",
       "  <thead>\n",
       "    <tr style=\"text-align: right;\">\n",
       "      <th></th>\n",
       "      <th>id</th>\n",
       "      <th>Depression</th>\n",
       "    </tr>\n",
       "  </thead>\n",
       "  <tbody>\n",
       "    <tr>\n",
       "      <th>0</th>\n",
       "      <td>140700</td>\n",
       "      <td>0</td>\n",
       "    </tr>\n",
       "    <tr>\n",
       "      <th>1</th>\n",
       "      <td>140701</td>\n",
       "      <td>0</td>\n",
       "    </tr>\n",
       "    <tr>\n",
       "      <th>2</th>\n",
       "      <td>140702</td>\n",
       "      <td>0</td>\n",
       "    </tr>\n",
       "    <tr>\n",
       "      <th>3</th>\n",
       "      <td>140703</td>\n",
       "      <td>1</td>\n",
       "    </tr>\n",
       "    <tr>\n",
       "      <th>4</th>\n",
       "      <td>140704</td>\n",
       "      <td>0</td>\n",
       "    </tr>\n",
       "  </tbody>\n",
       "</table>\n",
       "</div>"
      ],
      "text/plain": [
       "       id  Depression\n",
       "0  140700           0\n",
       "1  140701           0\n",
       "2  140702           0\n",
       "3  140703           1\n",
       "4  140704           0"
      ]
     },
     "execution_count": 108,
     "metadata": {},
     "output_type": "execute_result"
    }
   ],
   "source": [
    "sample.head()"
   ]
  },
  {
   "cell_type": "code",
   "execution_count": 109,
   "id": "287cc9a3-1358-4c82-a8dd-f71e8eb2b58e",
   "metadata": {},
   "outputs": [],
   "source": [
    "# Exemplo para salvar um DataFrame df como CSV\n",
    "sample.to_csv('v1.csv', index=False, encoding='utf-8')"
   ]
  },
  {
   "cell_type": "markdown",
   "id": "2d37ef1c-0211-46c0-9f45-160d7fc9604c",
   "metadata": {},
   "source": [
    "## Com esse submissao na competiçao do Kaggle consegui a 7° posição ficando com 0.94269 de acuracia"
   ]
  },
  {
   "cell_type": "code",
   "execution_count": null,
   "id": "a5ba998c-7acb-4289-995f-8ed5d631c3c0",
   "metadata": {},
   "outputs": [],
   "source": []
  }
 ],
 "metadata": {
  "kernelspec": {
   "display_name": "Python 3 (ipykernel)",
   "language": "python",
   "name": "python3"
  },
  "language_info": {
   "codemirror_mode": {
    "name": "ipython",
    "version": 3
   },
   "file_extension": ".py",
   "mimetype": "text/x-python",
   "name": "python",
   "nbconvert_exporter": "python",
   "pygments_lexer": "ipython3",
   "version": "3.9.13"
  }
 },
 "nbformat": 4,
 "nbformat_minor": 5
}
